{
  "nbformat": 4,
  "nbformat_minor": 0,
  "metadata": {
    "colab": {
      "provenance": [],
      "authorship_tag": "ABX9TyOtS8Ugnd+/qTsAUc4X80hP",
      "include_colab_link": true
    },
    "kernelspec": {
      "name": "python3",
      "display_name": "Python 3"
    },
    "language_info": {
      "name": "python"
    }
  },
  "cells": [
    {
      "cell_type": "markdown",
      "metadata": {
        "id": "view-in-github",
        "colab_type": "text"
      },
      "source": [
        "<a href=\"https://colab.research.google.com/github/Nidhi89717/tensorflow/blob/main/02_neural_network_regression_in_tensorflow.ipynb\" target=\"_parent\"><img src=\"https://colab.research.google.com/assets/colab-badge.svg\" alt=\"Open In Colab\"/></a>"
      ]
    },
    {
      "cell_type": "markdown",
      "source": [
        "# Introduction to Regression with Neural Network in TensorFlow"
      ],
      "metadata": {
        "id": "uD7rt0Tx5Rch"
      }
    },
    {
      "cell_type": "code",
      "source": [
        "import tensorflow as tf\n",
        "print(tf.__version__)"
      ],
      "metadata": {
        "colab": {
          "base_uri": "https://localhost:8080/"
        },
        "id": "yfGuAdGs6QRr",
        "outputId": "e3963da3-bcc4-40db-90ab-6a57430a23fd"
      },
      "execution_count": 14,
      "outputs": [
        {
          "output_type": "stream",
          "name": "stdout",
          "text": [
            "2.11.0\n"
          ]
        }
      ]
    },
    {
      "cell_type": "code",
      "source": [
        "import numpy as np\n",
        "import matplotlib.pyplot as plt\n",
        "\n",
        "# Create features\n",
        "X = np.array([-7.0, -4.0, -1.0, 2.0, 5.0, 8.0, 11.0,14.0])\n",
        "\n",
        "# Create labels\n",
        "y = np.array([3.0, 6.0, 9.0, 12.0, 15.0, 18.0, 21.0, 24.0])\n",
        "\n",
        "#Visualize it\n",
        "plt.scatter(X,y); "
      ],
      "metadata": {
        "colab": {
          "base_uri": "https://localhost:8080/",
          "height": 269
        },
        "id": "fJhZJPRw6Vdx",
        "outputId": "87709061-0c74-4301-852a-1c4d2044b4da"
      },
      "execution_count": 15,
      "outputs": [
        {
          "output_type": "display_data",
          "data": {
            "text/plain": [
              "<Figure size 432x288 with 1 Axes>"
            ],
            "image/png": "[encoded data removed]"
          },
          "metadata": {
            "needs_background": "light"
          }
        }
      ]
    },
    {
      "cell_type": "code",
      "source": [
        "y == X+10"
      ],
      "metadata": {
        "colab": {
          "base_uri": "https://localhost:8080/"
        },
        "id": "S09rPGtm7s02",
        "outputId": "042b6caf-9be7-4d22-a5de-2f702f1501d8"
      },
      "execution_count": 16,
      "outputs": [
        {
          "output_type": "execute_result",
          "data": {
            "text/plain": [
              "array([ True,  True,  True,  True,  True,  True,  True,  True])"
            ]
          },
          "metadata": {},
          "execution_count": 16
        }
      ]
    },
    {
      "cell_type": "markdown",
      "source": [
        "## Input and Output shapes"
      ],
      "metadata": {
        "id": "fN1hpGUl7tC-"
      }
    },
    {
      "cell_type": "code",
      "source": [
        "# Create a demo tensors for housing price prediction problem\n",
        "house_info = tf.constant(['bedroom','bathroom','garage'])\n",
        "house_price = tf.constant([979300])\n",
        "\n",
        "house_info, house_price"
      ],
      "metadata": {
        "colab": {
          "base_uri": "https://localhost:8080/"
        },
        "id": "kvCaf9eg9Vh0",
        "outputId": "ed3d2ed0-7f51-4c38-ada6-e7fe3ac9f82a"
      },
      "execution_count": 17,
      "outputs": [
        {
          "output_type": "execute_result",
          "data": {
            "text/plain": [
              "(<tf.Tensor: shape=(3,), dtype=string, numpy=array([b'bedroom', b'bathroom', b'garage'], dtype=object)>,\n",
              " <tf.Tensor: shape=(1,), dtype=int32, numpy=array([979300], dtype=int32)>)"
            ]
          },
          "metadata": {},
          "execution_count": 17
        }
      ]
    },
    {
      "cell_type": "code",
      "source": [
        "# Turn numpy arrays into tensors\n",
        "X = tf.constant(X)\n",
        "y = tf.constant(y)\n",
        "\n",
        "X, y"
      ],
      "metadata": {
        "colab": {
          "base_uri": "https://localhost:8080/"
        },
        "id": "FWgK1SqkQxW9",
        "outputId": "3fa6d735-1fbd-46ec-abfb-e2b2abddaaac"
      },
      "execution_count": 18,
      "outputs": [
        {
          "output_type": "execute_result",
          "data": {
            "text/plain": [
              "(<tf.Tensor: shape=(8,), dtype=float64, numpy=array([-7., -4., -1.,  2.,  5.,  8., 11., 14.])>,\n",
              " <tf.Tensor: shape=(8,), dtype=float64, numpy=array([ 3.,  6.,  9., 12., 15., 18., 21., 24.])>)"
            ]
          },
          "metadata": {},
          "execution_count": 18
        }
      ]
    },
    {
      "cell_type": "code",
      "source": [
        "# Take a single example of X\n",
        "input_shape = X[0].shape\n",
        "\n",
        "# Take a single example of y\n",
        "output_shape = y[0].shape\n",
        "\n",
        "input_shape, output_shape # These both are scalers (no shape)"
      ],
      "metadata": {
        "colab": {
          "base_uri": "https://localhost:8080/"
        },
        "id": "ckp_3CO1HQvl",
        "outputId": "5f74650f-c398-4eb3-f9e1-ab76c43c9a15"
      },
      "execution_count": 19,
      "outputs": [
        {
          "output_type": "execute_result",
          "data": {
            "text/plain": [
              "(TensorShape([]), TensorShape([]))"
            ]
          },
          "metadata": {},
          "execution_count": 19
        }
      ]
    },
    {
      "cell_type": "code",
      "source": [
        "# Let's take a look at the single example individually\n",
        "X[0], y[0]"
      ],
      "metadata": {
        "colab": {
          "base_uri": "https://localhost:8080/"
        },
        "id": "qQdSoh5SQCeK",
        "outputId": "17030dd3-a566-448e-c75d-e7ccb5b07137"
      },
      "execution_count": 20,
      "outputs": [
        {
          "output_type": "execute_result",
          "data": {
            "text/plain": [
              "(<tf.Tensor: shape=(), dtype=float64, numpy=-7.0>,\n",
              " <tf.Tensor: shape=(), dtype=float64, numpy=3.0>)"
            ]
          },
          "metadata": {},
          "execution_count": 20
        }
      ]
    },
    {
      "cell_type": "markdown",
      "source": [
        "## Steps in modelling with Tensorflow\n",
        "\n",
        "1. **Creating a model** - piece together the layers of a neural network yourself (using the [Functional](https://www.tensorflow.org/guide/keras/functional) or [Sequential API](https://www.tensorflow.org/api_docs/python/tf/keras/Sequential)) or import a previously built model (known as transfer learning).\n",
        "2. **Compiling a model** - defining how a models performance should be measured (loss/metrics) as well as defining how it should improve (optimizer). \n",
        "3. **Fitting a model** - letting the model try to find patterns in the data (how does `X` get to `y`). "
      ],
      "metadata": {
        "id": "NGpJ6aAUQR6I"
      }
    },
    {
      "cell_type": "code",
      "source": [
        "# Set the random seed\n",
        "tf.random.set_seed(42)\n",
        "\n",
        "# 1. Create a model using the Sequential API\n",
        "model = tf.keras.Sequential([\n",
        "    tf.keras.layers.Dense(1)\n",
        "])\n",
        "\n",
        "# 2. Compile the model\n",
        "model.compile(loss = tf.keras.losses.mae, # mae -- Mean Absolute Error\n",
        "              optimizer = tf.keras.optimizers.SGD(), #SGD -- Stochasic Gradient Descent\n",
        "              metrics = ['mae'])\n",
        "\n",
        "# 3. Fit the model\n",
        "model.fit(tf.expand_dims(X, axis=-1), y, epochs=10)"
      ],
      "metadata": {
        "id": "rFY3gxuaT7H9",
        "colab": {
          "base_uri": "https://localhost:8080/"
        },
        "outputId": "b50f2344-3b46-4aee-f0ed-b779f15eeaad"
      },
      "execution_count": 21,
      "outputs": [
        {
          "output_type": "stream",
          "name": "stdout",
          "text": [
            "Epoch 1/10\n",
            "1/1 [==============================] - 1s 716ms/step - loss: 9.4992 - mae: 9.4992\n",
            "Epoch 2/10\n",
            "1/1 [==============================] - 0s 12ms/step - loss: 9.3667 - mae: 9.3667\n",
            "Epoch 3/10\n",
            "1/1 [==============================] - 0s 13ms/step - loss: 9.2342 - mae: 9.2342\n",
            "Epoch 4/10\n",
            "1/1 [==============================] - 0s 12ms/step - loss: 9.1017 - mae: 9.1017\n",
            "Epoch 5/10\n",
            "1/1 [==============================] - 0s 10ms/step - loss: 8.9692 - mae: 8.9692\n",
            "Epoch 6/10\n",
            "1/1 [==============================] - 0s 11ms/step - loss: 8.8367 - mae: 8.8367\n",
            "Epoch 7/10\n",
            "1/1 [==============================] - 0s 11ms/step - loss: 8.7042 - mae: 8.7042\n",
            "Epoch 8/10\n",
            "1/1 [==============================] - 0s 10ms/step - loss: 8.5717 - mae: 8.5717\n",
            "Epoch 9/10\n",
            "1/1 [==============================] - 0s 11ms/step - loss: 8.4392 - mae: 8.4392\n",
            "Epoch 10/10\n",
            "1/1 [==============================] - 0s 11ms/step - loss: 8.3067 - mae: 8.3067\n"
          ]
        },
        {
          "output_type": "execute_result",
          "data": {
            "text/plain": [
              "<keras.callbacks.History at 0x7ff684c168e0>"
            ]
          },
          "metadata": {},
          "execution_count": 21
        }
      ]
    },
    {
      "cell_type": "code",
      "source": [
        "# Check out X and y\n",
        "X,y"
      ],
      "metadata": {
        "colab": {
          "base_uri": "https://localhost:8080/"
        },
        "id": "yjwzrjjyF3rt",
        "outputId": "c3d8d5d2-ba36-451b-c27b-af85f90dea2f"
      },
      "execution_count": 22,
      "outputs": [
        {
          "output_type": "execute_result",
          "data": {
            "text/plain": [
              "(<tf.Tensor: shape=(8,), dtype=float64, numpy=array([-7., -4., -1.,  2.,  5.,  8., 11., 14.])>,\n",
              " <tf.Tensor: shape=(8,), dtype=float64, numpy=array([ 3.,  6.,  9., 12., 15., 18., 21., 24.])>)"
            ]
          },
          "metadata": {},
          "execution_count": 22
        }
      ]
    },
    {
      "cell_type": "code",
      "source": [
        "# Make a prediction using our model\n",
        "y_pred = model.predict([17.0])\n",
        "y_pred"
      ],
      "metadata": {
        "colab": {
          "base_uri": "https://localhost:8080/"
        },
        "id": "0iG4o_ukF_Pb",
        "outputId": "8af16332-a206-4bed-9c4e-d18f14260a62"
      },
      "execution_count": 23,
      "outputs": [
        {
          "output_type": "stream",
          "name": "stdout",
          "text": [
            "1/1 [==============================] - 0s 134ms/step\n"
          ]
        },
        {
          "output_type": "execute_result",
          "data": {
            "text/plain": [
              "array([[25.482317]], dtype=float32)"
            ]
          },
          "metadata": {},
          "execution_count": 23
        }
      ]
    },
    {
      "cell_type": "markdown",
      "source": [
        "## Improving our model\n",
        "\n",
        "To improve our model, we alter almost every part of the 3 steps we went through before.\n",
        "\n",
        "1. **Creating a model** - here you might want to add more layers, increase the number of hidden units (also called neurons) within each layer, change the activation functions of each layer.\n",
        "2. **Compiling a model** - you might want to choose optimization function or perhaps change the **learning rate** of the optimization function.\n",
        "3. **Fitting a model** - perhaps you could fit a model for more **epochs** (leave it training for longer) or on more data (give the model more examples to learn from)."
      ],
      "metadata": {
        "id": "KXRAbGkbGrPE"
      }
    },
    {
      "cell_type": "code",
      "source": [
        "# Rebuild our model\n",
        "\n",
        "#1. Create a model\n",
        "model = tf.keras.Sequential([\n",
        "    tf.keras.layers.Dense(1)\n",
        "])\n",
        "\n",
        "#2. Compile the model\n",
        "model.compile(loss=tf.keras.losses.mae,\n",
        "              optimizer = tf.keras.optimizers.SGD(),\n",
        "              metrics=['mae'])\n",
        "\n",
        "#3. fit the model\n",
        "model.fit(tf.expand_dims(X,axis=-1),y,epochs=100)"
      ],
      "metadata": {
        "colab": {
          "base_uri": "https://localhost:8080/"
        },
        "id": "-2vbgj26GZrD",
        "outputId": "9a2afb35-8472-4709-9ff9-7d8c684ee3c7"
      },
      "execution_count": 24,
      "outputs": [
        {
          "output_type": "stream",
          "name": "stdout",
          "text": [
            "Epoch 1/100\n",
            "1/1 [==============================] - 0s 428ms/step - loss: 20.4410 - mae: 20.4410\n",
            "Epoch 2/100\n",
            "1/1 [==============================] - 0s 14ms/step - loss: 20.1597 - mae: 20.1597\n",
            "Epoch 3/100\n",
            "1/1 [==============================] - 0s 15ms/step - loss: 19.8785 - mae: 19.8785\n",
            "Epoch 4/100\n",
            "1/1 [==============================] - 0s 14ms/step - loss: 19.5972 - mae: 19.5972\n",
            "Epoch 5/100\n",
            "1/1 [==============================] - 0s 16ms/step - loss: 19.3160 - mae: 19.3160\n",
            "Epoch 6/100\n",
            "1/1 [==============================] - 0s 11ms/step - loss: 19.0347 - mae: 19.0347\n",
            "Epoch 7/100\n",
            "1/1 [==============================] - 0s 11ms/step - loss: 18.7535 - mae: 18.7535\n",
            "Epoch 8/100\n",
            "1/1 [==============================] - 0s 11ms/step - loss: 18.4722 - mae: 18.4722\n",
            "Epoch 9/100\n",
            "1/1 [==============================] - 0s 14ms/step - loss: 18.1910 - mae: 18.1910\n",
            "Epoch 10/100\n",
            "1/1 [==============================] - 0s 11ms/step - loss: 17.9097 - mae: 17.9097\n",
            "Epoch 11/100\n",
            "1/1 [==============================] - 0s 11ms/step - loss: 17.6285 - mae: 17.6285\n",
            "Epoch 12/100\n",
            "1/1 [==============================] - 0s 14ms/step - loss: 17.3472 - mae: 17.3472\n",
            "Epoch 13/100\n",
            "1/1 [==============================] - 0s 10ms/step - loss: 17.0660 - mae: 17.0660\n",
            "Epoch 14/100\n",
            "1/1 [==============================] - 0s 16ms/step - loss: 16.7847 - mae: 16.7847\n",
            "Epoch 15/100\n",
            "1/1 [==============================] - 0s 13ms/step - loss: 16.5035 - mae: 16.5035\n",
            "Epoch 16/100\n",
            "1/1 [==============================] - 0s 10ms/step - loss: 16.2222 - mae: 16.2222\n",
            "Epoch 17/100\n",
            "1/1 [==============================] - 0s 11ms/step - loss: 15.9410 - mae: 15.9410\n",
            "Epoch 18/100\n",
            "1/1 [==============================] - 0s 11ms/step - loss: 15.6597 - mae: 15.6597\n",
            "Epoch 19/100\n",
            "1/1 [==============================] - 0s 10ms/step - loss: 15.3785 - mae: 15.3785\n",
            "Epoch 20/100\n",
            "1/1 [==============================] - 0s 10ms/step - loss: 15.0972 - mae: 15.0972\n",
            "Epoch 21/100\n",
            "1/1 [==============================] - 0s 12ms/step - loss: 14.8160 - mae: 14.8160\n",
            "Epoch 22/100\n",
            "1/1 [==============================] - 0s 12ms/step - loss: 14.6111 - mae: 14.6111\n",
            "Epoch 23/100\n",
            "1/1 [==============================] - 0s 10ms/step - loss: 14.4786 - mae: 14.4786\n",
            "Epoch 24/100\n",
            "1/1 [==============================] - 0s 10ms/step - loss: 14.3461 - mae: 14.3461\n",
            "Epoch 25/100\n",
            "1/1 [==============================] - 0s 11ms/step - loss: 14.2136 - mae: 14.2136\n",
            "Epoch 26/100\n",
            "1/1 [==============================] - 0s 9ms/step - loss: 14.0811 - mae: 14.0811\n",
            "Epoch 27/100\n",
            "1/1 [==============================] - 0s 12ms/step - loss: 13.9486 - mae: 13.9486\n",
            "Epoch 28/100\n",
            "1/1 [==============================] - 0s 13ms/step - loss: 13.8161 - mae: 13.8161\n",
            "Epoch 29/100\n",
            "1/1 [==============================] - 0s 13ms/step - loss: 13.6836 - mae: 13.6836\n",
            "Epoch 30/100\n",
            "1/1 [==============================] - 0s 13ms/step - loss: 13.5511 - mae: 13.5511\n",
            "Epoch 31/100\n",
            "1/1 [==============================] - 0s 13ms/step - loss: 13.4186 - mae: 13.4186\n",
            "Epoch 32/100\n",
            "1/1 [==============================] - 0s 10ms/step - loss: 13.2861 - mae: 13.2861\n",
            "Epoch 33/100\n",
            "1/1 [==============================] - 0s 10ms/step - loss: 13.1536 - mae: 13.1536\n",
            "Epoch 34/100\n",
            "1/1 [==============================] - 0s 14ms/step - loss: 13.0211 - mae: 13.0211\n",
            "Epoch 35/100\n",
            "1/1 [==============================] - 0s 12ms/step - loss: 12.8886 - mae: 12.8886\n",
            "Epoch 36/100\n",
            "1/1 [==============================] - 0s 18ms/step - loss: 12.7561 - mae: 12.7561\n",
            "Epoch 37/100\n",
            "1/1 [==============================] - 0s 11ms/step - loss: 12.6236 - mae: 12.6236\n",
            "Epoch 38/100\n",
            "1/1 [==============================] - 0s 10ms/step - loss: 12.4911 - mae: 12.4911\n",
            "Epoch 39/100\n",
            "1/1 [==============================] - 0s 12ms/step - loss: 12.3586 - mae: 12.3586\n",
            "Epoch 40/100\n",
            "1/1 [==============================] - 0s 14ms/step - loss: 12.2261 - mae: 12.2261\n",
            "Epoch 41/100\n",
            "1/1 [==============================] - 0s 8ms/step - loss: 12.0936 - mae: 12.0936\n",
            "Epoch 42/100\n",
            "1/1 [==============================] - 0s 14ms/step - loss: 11.9611 - mae: 11.9611\n",
            "Epoch 43/100\n",
            "1/1 [==============================] - 0s 12ms/step - loss: 11.8286 - mae: 11.8286\n",
            "Epoch 44/100\n",
            "1/1 [==============================] - 0s 14ms/step - loss: 11.6961 - mae: 11.6961\n",
            "Epoch 45/100\n",
            "1/1 [==============================] - 0s 13ms/step - loss: 11.5636 - mae: 11.5636\n",
            "Epoch 46/100\n",
            "1/1 [==============================] - 0s 13ms/step - loss: 11.4311 - mae: 11.4311\n",
            "Epoch 47/100\n",
            "1/1 [==============================] - 0s 13ms/step - loss: 11.2986 - mae: 11.2986\n",
            "Epoch 48/100\n",
            "1/1 [==============================] - 0s 13ms/step - loss: 11.1661 - mae: 11.1661\n",
            "Epoch 49/100\n",
            "1/1 [==============================] - 0s 14ms/step - loss: 11.0336 - mae: 11.0336\n",
            "Epoch 50/100\n",
            "1/1 [==============================] - 0s 16ms/step - loss: 10.9011 - mae: 10.9011\n",
            "Epoch 51/100\n",
            "1/1 [==============================] - 0s 12ms/step - loss: 10.7686 - mae: 10.7686\n",
            "Epoch 52/100\n",
            "1/1 [==============================] - 0s 12ms/step - loss: 10.6361 - mae: 10.6361\n",
            "Epoch 53/100\n",
            "1/1 [==============================] - 0s 11ms/step - loss: 10.5036 - mae: 10.5036\n",
            "Epoch 54/100\n",
            "1/1 [==============================] - 0s 11ms/step - loss: 10.3711 - mae: 10.3711\n",
            "Epoch 55/100\n",
            "1/1 [==============================] - 0s 11ms/step - loss: 10.2386 - mae: 10.2386\n",
            "Epoch 56/100\n",
            "1/1 [==============================] - 0s 12ms/step - loss: 10.1061 - mae: 10.1061\n",
            "Epoch 57/100\n",
            "1/1 [==============================] - 0s 11ms/step - loss: 9.9736 - mae: 9.9736\n",
            "Epoch 58/100\n",
            "1/1 [==============================] - 0s 11ms/step - loss: 9.8411 - mae: 9.8411\n",
            "Epoch 59/100\n",
            "1/1 [==============================] - 0s 11ms/step - loss: 9.7086 - mae: 9.7086\n",
            "Epoch 60/100\n",
            "1/1 [==============================] - 0s 11ms/step - loss: 9.5761 - mae: 9.5761\n",
            "Epoch 61/100\n",
            "1/1 [==============================] - 0s 11ms/step - loss: 9.4436 - mae: 9.4436\n",
            "Epoch 62/100\n",
            "1/1 [==============================] - 0s 11ms/step - loss: 9.3111 - mae: 9.3111\n",
            "Epoch 63/100\n",
            "1/1 [==============================] - 0s 11ms/step - loss: 9.1786 - mae: 9.1786\n",
            "Epoch 64/100\n",
            "1/1 [==============================] - 0s 10ms/step - loss: 9.0461 - mae: 9.0461\n",
            "Epoch 65/100\n",
            "1/1 [==============================] - 0s 11ms/step - loss: 8.9136 - mae: 8.9136\n",
            "Epoch 66/100\n",
            "1/1 [==============================] - 0s 11ms/step - loss: 8.7811 - mae: 8.7811\n",
            "Epoch 67/100\n",
            "1/1 [==============================] - 0s 14ms/step - loss: 8.6486 - mae: 8.6486\n",
            "Epoch 68/100\n",
            "1/1 [==============================] - 0s 11ms/step - loss: 8.5161 - mae: 8.5161\n",
            "Epoch 69/100\n",
            "1/1 [==============================] - 0s 11ms/step - loss: 8.3836 - mae: 8.3836\n",
            "Epoch 70/100\n",
            "1/1 [==============================] - 0s 11ms/step - loss: 8.2511 - mae: 8.2511\n",
            "Epoch 71/100\n",
            "1/1 [==============================] - 0s 12ms/step - loss: 8.1186 - mae: 8.1186\n",
            "Epoch 72/100\n",
            "1/1 [==============================] - 0s 12ms/step - loss: 7.9861 - mae: 7.9861\n",
            "Epoch 73/100\n",
            "1/1 [==============================] - 0s 10ms/step - loss: 7.8536 - mae: 7.8536\n",
            "Epoch 74/100\n",
            "1/1 [==============================] - 0s 11ms/step - loss: 7.7211 - mae: 7.7211\n",
            "Epoch 75/100\n",
            "1/1 [==============================] - 0s 12ms/step - loss: 7.5886 - mae: 7.5886\n",
            "Epoch 76/100\n",
            "1/1 [==============================] - 0s 11ms/step - loss: 7.4561 - mae: 7.4561\n",
            "Epoch 77/100\n",
            "1/1 [==============================] - 0s 11ms/step - loss: 7.3236 - mae: 7.3236\n",
            "Epoch 78/100\n",
            "1/1 [==============================] - 0s 11ms/step - loss: 7.1911 - mae: 7.1911\n",
            "Epoch 79/100\n",
            "1/1 [==============================] - 0s 11ms/step - loss: 7.0586 - mae: 7.0586\n",
            "Epoch 80/100\n",
            "1/1 [==============================] - 0s 11ms/step - loss: 6.9469 - mae: 6.9469\n",
            "Epoch 81/100\n",
            "1/1 [==============================] - 0s 11ms/step - loss: 6.9413 - mae: 6.9413\n",
            "Epoch 82/100\n",
            "1/1 [==============================] - 0s 10ms/step - loss: 6.9356 - mae: 6.9356\n",
            "Epoch 83/100\n",
            "1/1 [==============================] - 0s 10ms/step - loss: 6.9300 - mae: 6.9300\n",
            "Epoch 84/100\n",
            "1/1 [==============================] - 0s 11ms/step - loss: 6.9244 - mae: 6.9244\n",
            "Epoch 85/100\n",
            "1/1 [==============================] - 0s 10ms/step - loss: 6.9188 - mae: 6.9188\n",
            "Epoch 86/100\n",
            "1/1 [==============================] - 0s 10ms/step - loss: 6.9131 - mae: 6.9131\n",
            "Epoch 87/100\n",
            "1/1 [==============================] - 0s 12ms/step - loss: 6.9075 - mae: 6.9075\n",
            "Epoch 88/100\n",
            "1/1 [==============================] - 0s 9ms/step - loss: 6.9019 - mae: 6.9019\n",
            "Epoch 89/100\n",
            "1/1 [==============================] - 0s 11ms/step - loss: 6.8963 - mae: 6.8963\n",
            "Epoch 90/100\n",
            "1/1 [==============================] - 0s 11ms/step - loss: 6.8906 - mae: 6.8906\n",
            "Epoch 91/100\n",
            "1/1 [==============================] - 0s 10ms/step - loss: 6.8850 - mae: 6.8850\n",
            "Epoch 92/100\n",
            "1/1 [==============================] - 0s 10ms/step - loss: 6.8794 - mae: 6.8794\n",
            "Epoch 93/100\n",
            "1/1 [==============================] - 0s 11ms/step - loss: 6.8738 - mae: 6.8738\n",
            "Epoch 94/100\n",
            "1/1 [==============================] - 0s 10ms/step - loss: 6.8681 - mae: 6.8681\n",
            "Epoch 95/100\n",
            "1/1 [==============================] - 0s 11ms/step - loss: 6.8625 - mae: 6.8625\n",
            "Epoch 96/100\n",
            "1/1 [==============================] - 0s 10ms/step - loss: 6.8569 - mae: 6.8569\n",
            "Epoch 97/100\n",
            "1/1 [==============================] - 0s 10ms/step - loss: 6.8513 - mae: 6.8513\n",
            "Epoch 98/100\n",
            "1/1 [==============================] - 0s 11ms/step - loss: 6.8456 - mae: 6.8456\n",
            "Epoch 99/100\n",
            "1/1 [==============================] - 0s 10ms/step - loss: 6.8400 - mae: 6.8400\n",
            "Epoch 100/100\n",
            "1/1 [==============================] - 0s 10ms/step - loss: 6.8344 - mae: 6.8344\n"
          ]
        },
        {
          "output_type": "execute_result",
          "data": {
            "text/plain": [
              "<keras.callbacks.History at 0x7ff685539c10>"
            ]
          },
          "metadata": {},
          "execution_count": 24
        }
      ]
    },
    {
      "cell_type": "code",
      "source": [
        "# Make a prediction using our model\n",
        "y_pred = model.predict([17.0])\n",
        "y_pred"
      ],
      "metadata": {
        "colab": {
          "base_uri": "https://localhost:8080/"
        },
        "id": "swuaiVDCGZxe",
        "outputId": "e340f9d4-535a-4d02-fd04-c41ff9fad5b5"
      },
      "execution_count": 25,
      "outputs": [
        {
          "output_type": "stream",
          "name": "stdout",
          "text": [
            "1/1 [==============================] - 0s 85ms/step\n"
          ]
        },
        {
          "output_type": "execute_result",
          "data": {
            "text/plain": [
              "array([[29.243334]], dtype=float32)"
            ]
          },
          "metadata": {},
          "execution_count": 25
        }
      ]
    },
    {
      "cell_type": "code",
      "source": [
        "#1. Create a model (with an extra hidden layer with 100 hidden units)\n",
        "model = tf.keras.Sequential([\n",
        "    tf.keras.layers.Dense(100,activation='relu'),\n",
        "    tf.keras.layers.Dense(1)\n",
        "])\n",
        "\n",
        "#2 Compile the model\n",
        "model.compile(loss='mae',\n",
        "              optimizer=tf.keras.optimizers.SGD(),\n",
        "              metrics=['mae'])\n",
        "\n",
        "#3. Fit the model\n",
        "model.fit(tf.expand_dims(X,axis=-1),y,epochs=100)"
      ],
      "metadata": {
        "colab": {
          "base_uri": "https://localhost:8080/"
        },
        "id": "GAZ9sxUzF_Fg",
        "outputId": "563da116-d6bd-4aa8-ec79-337b137e72c3"
      },
      "execution_count": 26,
      "outputs": [
        {
          "output_type": "stream",
          "name": "stdout",
          "text": [
            "Epoch 1/100\n",
            "1/1 [==============================] - 1s 852ms/step - loss: 13.1834 - mae: 13.1834\n",
            "Epoch 2/100\n",
            "1/1 [==============================] - 0s 20ms/step - loss: 12.6617 - mae: 12.6617\n",
            "Epoch 3/100\n",
            "1/1 [==============================] - 0s 17ms/step - loss: 12.1377 - mae: 12.1377\n",
            "Epoch 4/100\n",
            "1/1 [==============================] - 0s 14ms/step - loss: 11.6055 - mae: 11.6055\n",
            "Epoch 5/100\n",
            "1/1 [==============================] - 0s 10ms/step - loss: 11.0685 - mae: 11.0685\n",
            "Epoch 6/100\n",
            "1/1 [==============================] - 0s 11ms/step - loss: 10.5114 - mae: 10.5114\n",
            "Epoch 7/100\n",
            "1/1 [==============================] - 0s 15ms/step - loss: 9.9315 - mae: 9.9315\n",
            "Epoch 8/100\n",
            "1/1 [==============================] - 0s 15ms/step - loss: 9.3236 - mae: 9.3236\n",
            "Epoch 9/100\n",
            "1/1 [==============================] - 0s 11ms/step - loss: 8.6842 - mae: 8.6842\n",
            "Epoch 10/100\n",
            "1/1 [==============================] - 0s 11ms/step - loss: 8.0090 - mae: 8.0090\n",
            "Epoch 11/100\n",
            "1/1 [==============================] - 0s 14ms/step - loss: 7.3391 - mae: 7.3391\n",
            "Epoch 12/100\n",
            "1/1 [==============================] - 0s 15ms/step - loss: 6.6182 - mae: 6.6182\n",
            "Epoch 13/100\n",
            "1/1 [==============================] - 0s 12ms/step - loss: 5.8342 - mae: 5.8342\n",
            "Epoch 14/100\n",
            "1/1 [==============================] - 0s 12ms/step - loss: 4.9837 - mae: 4.9837\n",
            "Epoch 15/100\n",
            "1/1 [==============================] - 0s 10ms/step - loss: 4.1536 - mae: 4.1536\n",
            "Epoch 16/100\n",
            "1/1 [==============================] - 0s 11ms/step - loss: 4.0585 - mae: 4.0585\n",
            "Epoch 17/100\n",
            "1/1 [==============================] - 0s 11ms/step - loss: 3.9609 - mae: 3.9609\n",
            "Epoch 18/100\n",
            "1/1 [==============================] - 0s 11ms/step - loss: 3.9200 - mae: 3.9200\n",
            "Epoch 19/100\n",
            "1/1 [==============================] - 0s 15ms/step - loss: 3.9352 - mae: 3.9352\n",
            "Epoch 20/100\n",
            "1/1 [==============================] - 0s 11ms/step - loss: 3.9327 - mae: 3.9327\n",
            "Epoch 21/100\n",
            "1/1 [==============================] - 0s 11ms/step - loss: 3.9175 - mae: 3.9175\n",
            "Epoch 22/100\n",
            "1/1 [==============================] - 0s 11ms/step - loss: 3.9418 - mae: 3.9418\n",
            "Epoch 23/100\n",
            "1/1 [==============================] - 0s 11ms/step - loss: 3.8913 - mae: 3.8913\n",
            "Epoch 24/100\n",
            "1/1 [==============================] - 0s 11ms/step - loss: 3.9485 - mae: 3.9485\n",
            "Epoch 25/100\n",
            "1/1 [==============================] - 0s 12ms/step - loss: 3.8805 - mae: 3.8805\n",
            "Epoch 26/100\n",
            "1/1 [==============================] - 0s 12ms/step - loss: 3.9388 - mae: 3.9388\n",
            "Epoch 27/100\n",
            "1/1 [==============================] - 0s 18ms/step - loss: 3.8872 - mae: 3.8872\n",
            "Epoch 28/100\n",
            "1/1 [==============================] - 0s 10ms/step - loss: 3.9185 - mae: 3.9185\n",
            "Epoch 29/100\n",
            "1/1 [==============================] - 0s 10ms/step - loss: 3.9028 - mae: 3.9028\n",
            "Epoch 30/100\n",
            "1/1 [==============================] - 0s 18ms/step - loss: 3.8947 - mae: 3.8947\n",
            "Epoch 31/100\n",
            "1/1 [==============================] - 0s 12ms/step - loss: 3.9096 - mae: 3.9096\n",
            "Epoch 32/100\n",
            "1/1 [==============================] - 0s 15ms/step - loss: 3.8682 - mae: 3.8682\n",
            "Epoch 33/100\n",
            "1/1 [==============================] - 0s 10ms/step - loss: 3.9165 - mae: 3.9165\n",
            "Epoch 34/100\n",
            "1/1 [==============================] - 0s 12ms/step - loss: 3.8489 - mae: 3.8489\n",
            "Epoch 35/100\n",
            "1/1 [==============================] - 0s 12ms/step - loss: 3.9153 - mae: 3.9153\n",
            "Epoch 36/100\n",
            "1/1 [==============================] - 0s 11ms/step - loss: 3.8603 - mae: 3.8603\n",
            "Epoch 37/100\n",
            "1/1 [==============================] - 0s 12ms/step - loss: 3.8972 - mae: 3.8972\n",
            "Epoch 38/100\n",
            "1/1 [==============================] - 0s 12ms/step - loss: 3.8716 - mae: 3.8716\n",
            "Epoch 39/100\n",
            "1/1 [==============================] - 0s 11ms/step - loss: 3.8705 - mae: 3.8705\n",
            "Epoch 40/100\n",
            "1/1 [==============================] - 0s 17ms/step - loss: 3.8786 - mae: 3.8786\n",
            "Epoch 41/100\n",
            "1/1 [==============================] - 0s 12ms/step - loss: 3.8438 - mae: 3.8438\n",
            "Epoch 42/100\n",
            "1/1 [==============================] - 0s 10ms/step - loss: 3.8858 - mae: 3.8858\n",
            "Epoch 43/100\n",
            "1/1 [==============================] - 0s 13ms/step - loss: 3.8186 - mae: 3.8186\n",
            "Epoch 44/100\n",
            "1/1 [==============================] - 0s 12ms/step - loss: 3.8939 - mae: 3.8939\n",
            "Epoch 45/100\n",
            "1/1 [==============================] - 0s 11ms/step - loss: 3.8346 - mae: 3.8346\n",
            "Epoch 46/100\n",
            "1/1 [==============================] - 0s 12ms/step - loss: 3.8719 - mae: 3.8719\n",
            "Epoch 47/100\n",
            "1/1 [==============================] - 0s 11ms/step - loss: 3.8417 - mae: 3.8417\n",
            "Epoch 48/100\n",
            "1/1 [==============================] - 0s 11ms/step - loss: 3.8450 - mae: 3.8450\n",
            "Epoch 49/100\n",
            "1/1 [==============================] - 0s 10ms/step - loss: 3.8489 - mae: 3.8489\n",
            "Epoch 50/100\n",
            "1/1 [==============================] - 0s 10ms/step - loss: 3.8180 - mae: 3.8180\n",
            "Epoch 51/100\n",
            "1/1 [==============================] - 0s 11ms/step - loss: 3.8563 - mae: 3.8563\n",
            "Epoch 52/100\n",
            "1/1 [==============================] - 0s 12ms/step - loss: 3.7927 - mae: 3.7927\n",
            "Epoch 53/100\n",
            "1/1 [==============================] - 0s 11ms/step - loss: 3.8726 - mae: 3.8726\n",
            "Epoch 54/100\n",
            "1/1 [==============================] - 0s 11ms/step - loss: 3.8054 - mae: 3.8054\n",
            "Epoch 55/100\n",
            "1/1 [==============================] - 0s 10ms/step - loss: 3.8453 - mae: 3.8453\n",
            "Epoch 56/100\n",
            "1/1 [==============================] - 0s 12ms/step - loss: 3.8127 - mae: 3.8127\n",
            "Epoch 57/100\n",
            "1/1 [==============================] - 0s 11ms/step - loss: 3.8181 - mae: 3.8181\n",
            "Epoch 58/100\n",
            "1/1 [==============================] - 0s 11ms/step - loss: 3.8203 - mae: 3.8203\n",
            "Epoch 59/100\n",
            "1/1 [==============================] - 0s 11ms/step - loss: 3.7909 - mae: 3.7909\n",
            "Epoch 60/100\n",
            "1/1 [==============================] - 0s 12ms/step - loss: 3.8280 - mae: 3.8280\n",
            "Epoch 61/100\n",
            "1/1 [==============================] - 0s 11ms/step - loss: 3.7716 - mae: 3.7716\n",
            "Epoch 62/100\n",
            "1/1 [==============================] - 0s 13ms/step - loss: 3.8443 - mae: 3.8443\n",
            "Epoch 63/100\n",
            "1/1 [==============================] - 0s 20ms/step - loss: 3.7774 - mae: 3.7774\n",
            "Epoch 64/100\n",
            "1/1 [==============================] - 0s 15ms/step - loss: 3.8174 - mae: 3.8174\n",
            "Epoch 65/100\n",
            "1/1 [==============================] - 0s 14ms/step - loss: 3.7850 - mae: 3.7850\n",
            "Epoch 66/100\n",
            "1/1 [==============================] - 0s 15ms/step - loss: 3.7900 - mae: 3.7900\n",
            "Epoch 67/100\n",
            "1/1 [==============================] - 0s 13ms/step - loss: 3.7927 - mae: 3.7927\n",
            "Epoch 68/100\n",
            "1/1 [==============================] - 0s 13ms/step - loss: 3.7624 - mae: 3.7624\n",
            "Epoch 69/100\n",
            "1/1 [==============================] - 0s 13ms/step - loss: 3.8074 - mae: 3.8074\n",
            "Epoch 70/100\n",
            "1/1 [==============================] - 0s 16ms/step - loss: 3.7430 - mae: 3.7430\n",
            "Epoch 71/100\n",
            "1/1 [==============================] - 0s 14ms/step - loss: 3.8170 - mae: 3.8170\n",
            "Epoch 72/100\n",
            "1/1 [==============================] - 0s 13ms/step - loss: 3.7503 - mae: 3.7503\n",
            "Epoch 73/100\n",
            "1/1 [==============================] - 0s 15ms/step - loss: 3.7886 - mae: 3.7886\n",
            "Epoch 74/100\n",
            "1/1 [==============================] - 0s 13ms/step - loss: 3.7581 - mae: 3.7581\n",
            "Epoch 75/100\n",
            "1/1 [==============================] - 0s 12ms/step - loss: 3.7608 - mae: 3.7608\n",
            "Epoch 76/100\n",
            "1/1 [==============================] - 0s 12ms/step - loss: 3.7660 - mae: 3.7660\n",
            "Epoch 77/100\n",
            "1/1 [==============================] - 0s 13ms/step - loss: 3.7384 - mae: 3.7384\n",
            "Epoch 78/100\n",
            "1/1 [==============================] - 0s 13ms/step - loss: 3.7828 - mae: 3.7828\n",
            "Epoch 79/100\n",
            "1/1 [==============================] - 0s 14ms/step - loss: 3.7166 - mae: 3.7166\n",
            "Epoch 80/100\n",
            "1/1 [==============================] - 0s 13ms/step - loss: 3.7861 - mae: 3.7861\n",
            "Epoch 81/100\n",
            "1/1 [==============================] - 0s 16ms/step - loss: 3.7244 - mae: 3.7244\n",
            "Epoch 82/100\n",
            "1/1 [==============================] - 0s 11ms/step - loss: 3.7581 - mae: 3.7581\n",
            "Epoch 83/100\n",
            "1/1 [==============================] - 0s 12ms/step - loss: 3.7324 - mae: 3.7324\n",
            "Epoch 84/100\n",
            "1/1 [==============================] - 0s 11ms/step - loss: 3.7301 - mae: 3.7301\n",
            "Epoch 85/100\n",
            "1/1 [==============================] - 0s 10ms/step - loss: 3.7439 - mae: 3.7439\n",
            "Epoch 86/100\n",
            "1/1 [==============================] - 0s 11ms/step - loss: 3.7101 - mae: 3.7101\n",
            "Epoch 87/100\n",
            "1/1 [==============================] - 0s 10ms/step - loss: 3.7574 - mae: 3.7574\n",
            "Epoch 88/100\n",
            "1/1 [==============================] - 0s 11ms/step - loss: 3.6914 - mae: 3.6914\n",
            "Epoch 89/100\n",
            "1/1 [==============================] - 0s 13ms/step - loss: 3.7548 - mae: 3.7548\n",
            "Epoch 90/100\n",
            "1/1 [==============================] - 0s 11ms/step - loss: 3.6994 - mae: 3.6994\n",
            "Epoch 91/100\n",
            "1/1 [==============================] - 0s 11ms/step - loss: 3.7265 - mae: 3.7265\n",
            "Epoch 92/100\n",
            "1/1 [==============================] - 0s 11ms/step - loss: 3.7076 - mae: 3.7076\n",
            "Epoch 93/100\n",
            "1/1 [==============================] - 0s 12ms/step - loss: 3.7001 - mae: 3.7001\n",
            "Epoch 94/100\n",
            "1/1 [==============================] - 0s 9ms/step - loss: 3.7246 - mae: 3.7246\n",
            "Epoch 95/100\n",
            "1/1 [==============================] - 0s 12ms/step - loss: 3.6780 - mae: 3.6780\n",
            "Epoch 96/100\n",
            "1/1 [==============================] - 0s 12ms/step - loss: 3.7327 - mae: 3.7327\n",
            "Epoch 97/100\n",
            "1/1 [==============================] - 0s 17ms/step - loss: 3.6669 - mae: 3.6669\n",
            "Epoch 98/100\n",
            "1/1 [==============================] - 0s 12ms/step - loss: 3.7224 - mae: 3.7224\n",
            "Epoch 99/100\n",
            "1/1 [==============================] - 0s 11ms/step - loss: 3.6752 - mae: 3.6752\n",
            "Epoch 100/100\n",
            "1/1 [==============================] - 0s 11ms/step - loss: 3.6939 - mae: 3.6939\n"
          ]
        },
        {
          "output_type": "execute_result",
          "data": {
            "text/plain": [
              "<keras.callbacks.History at 0x7ff6854431f0>"
            ]
          },
          "metadata": {},
          "execution_count": 26
        }
      ]
    },
    {
      "cell_type": "code",
      "source": [
        "# Make a prediction using the model\n",
        "y_pred = model.predict([17.0])\n",
        "y_pred"
      ],
      "metadata": {
        "colab": {
          "base_uri": "https://localhost:8080/"
        },
        "id": "m-rlr-yDF-7z",
        "outputId": "f8e476d1-4f72-4ee1-b235-bbcd510c7b13"
      },
      "execution_count": 27,
      "outputs": [
        {
          "output_type": "stream",
          "name": "stdout",
          "text": [
            "1/1 [==============================] - 0s 81ms/step\n"
          ]
        },
        {
          "output_type": "execute_result",
          "data": {
            "text/plain": [
              "array([[32.465496]], dtype=float32)"
            ]
          },
          "metadata": {},
          "execution_count": 27
        }
      ]
    },
    {
      "cell_type": "code",
      "source": [
        "#1. Create a model (with an extra hidden layer with 100 hidden units)\n",
        "model = tf.keras.Sequential([\n",
        "    tf.keras.layers.Dense(50,activation=None),\n",
        "    tf.keras.layers.Dense(1)\n",
        "])\n",
        "\n",
        "#2 Compile the model\n",
        "model.compile(loss='mae',\n",
        "              optimizer=tf.keras.optimizers.legacy.Adam(lr=0.01),\n",
        "              metrics=['mae'])\n",
        "\n",
        "#3. Fit the model\n",
        "model.fit(tf.expand_dims(X,axis=-1),y,epochs=100)"
      ],
      "metadata": {
        "colab": {
          "base_uri": "https://localhost:8080/"
        },
        "id": "0zUlwOMMS-8S",
        "outputId": "e90dd1ae-2fe2-4fa0-f016-9770dde74ab7"
      },
      "execution_count": 28,
      "outputs": [
        {
          "output_type": "stream",
          "name": "stdout",
          "text": [
            "Epoch 1/100\n"
          ]
        },
        {
          "output_type": "stream",
          "name": "stderr",
          "text": [
            "/usr/local/lib/python3.8/dist-packages/keras/optimizers/optimizer_v2/adam.py:117: UserWarning: The `lr` argument is deprecated, use `learning_rate` instead.\n",
            "  super().__init__(name, **kwargs)\n"
          ]
        },
        {
          "output_type": "stream",
          "name": "stdout",
          "text": [
            "1/1 [==============================] - 1s 599ms/step - loss: 13.5927 - mae: 13.5927\n",
            "Epoch 2/100\n",
            "1/1 [==============================] - 0s 13ms/step - loss: 12.8997 - mae: 12.8997\n",
            "Epoch 3/100\n",
            "1/1 [==============================] - 0s 16ms/step - loss: 12.2037 - mae: 12.2037\n",
            "Epoch 4/100\n",
            "1/1 [==============================] - 0s 13ms/step - loss: 11.5041 - mae: 11.5041\n",
            "Epoch 5/100\n",
            "1/1 [==============================] - 0s 14ms/step - loss: 10.7995 - mae: 10.7995\n",
            "Epoch 6/100\n",
            "1/1 [==============================] - 0s 13ms/step - loss: 10.0875 - mae: 10.0875\n",
            "Epoch 7/100\n",
            "1/1 [==============================] - 0s 20ms/step - loss: 9.3654 - mae: 9.3654\n",
            "Epoch 8/100\n",
            "1/1 [==============================] - 0s 14ms/step - loss: 8.6303 - mae: 8.6303\n",
            "Epoch 9/100\n",
            "1/1 [==============================] - 0s 14ms/step - loss: 7.8789 - mae: 7.8789\n",
            "Epoch 10/100\n",
            "1/1 [==============================] - 0s 21ms/step - loss: 7.1083 - mae: 7.1083\n",
            "Epoch 11/100\n",
            "1/1 [==============================] - 0s 11ms/step - loss: 6.6498 - mae: 6.6498\n",
            "Epoch 12/100\n",
            "1/1 [==============================] - 0s 10ms/step - loss: 6.8493 - mae: 6.8493\n",
            "Epoch 13/100\n",
            "1/1 [==============================] - 0s 13ms/step - loss: 7.1359 - mae: 7.1359\n",
            "Epoch 14/100\n",
            "1/1 [==============================] - 0s 10ms/step - loss: 7.4240 - mae: 7.4240\n",
            "Epoch 15/100\n",
            "1/1 [==============================] - 0s 10ms/step - loss: 7.5356 - mae: 7.5356\n",
            "Epoch 16/100\n",
            "1/1 [==============================] - 0s 12ms/step - loss: 7.4482 - mae: 7.4482\n",
            "Epoch 17/100\n",
            "1/1 [==============================] - 0s 11ms/step - loss: 7.2106 - mae: 7.2106\n",
            "Epoch 18/100\n",
            "1/1 [==============================] - 0s 12ms/step - loss: 6.8681 - mae: 6.8681\n",
            "Epoch 19/100\n",
            "1/1 [==============================] - 0s 12ms/step - loss: 6.6205 - mae: 6.6205\n",
            "Epoch 20/100\n",
            "1/1 [==============================] - 0s 11ms/step - loss: 6.3558 - mae: 6.3558\n",
            "Epoch 21/100\n",
            "1/1 [==============================] - 0s 11ms/step - loss: 6.0780 - mae: 6.0780\n",
            "Epoch 22/100\n",
            "1/1 [==============================] - 0s 10ms/step - loss: 5.9443 - mae: 5.9443\n",
            "Epoch 23/100\n",
            "1/1 [==============================] - 0s 11ms/step - loss: 5.8988 - mae: 5.8988\n",
            "Epoch 24/100\n",
            "1/1 [==============================] - 0s 11ms/step - loss: 6.0202 - mae: 6.0202\n",
            "Epoch 25/100\n",
            "1/1 [==============================] - 0s 11ms/step - loss: 6.0882 - mae: 6.0882\n",
            "Epoch 26/100\n",
            "1/1 [==============================] - 0s 11ms/step - loss: 6.0526 - mae: 6.0526\n",
            "Epoch 27/100\n",
            "1/1 [==============================] - 0s 11ms/step - loss: 5.9261 - mae: 5.9261\n",
            "Epoch 28/100\n",
            "1/1 [==============================] - 0s 12ms/step - loss: 5.7175 - mae: 5.7175\n",
            "Epoch 29/100\n",
            "1/1 [==============================] - 0s 13ms/step - loss: 5.4335 - mae: 5.4335\n",
            "Epoch 30/100\n",
            "1/1 [==============================] - 0s 12ms/step - loss: 5.2916 - mae: 5.2916\n",
            "Epoch 31/100\n",
            "1/1 [==============================] - 0s 13ms/step - loss: 5.1677 - mae: 5.1677\n",
            "Epoch 32/100\n",
            "1/1 [==============================] - 0s 14ms/step - loss: 5.1981 - mae: 5.1981\n",
            "Epoch 33/100\n",
            "1/1 [==============================] - 0s 13ms/step - loss: 5.2024 - mae: 5.2024\n",
            "Epoch 34/100\n",
            "1/1 [==============================] - 0s 13ms/step - loss: 5.1602 - mae: 5.1602\n",
            "Epoch 35/100\n",
            "1/1 [==============================] - 0s 12ms/step - loss: 5.0745 - mae: 5.0745\n",
            "Epoch 36/100\n",
            "1/1 [==============================] - 0s 11ms/step - loss: 4.9485 - mae: 4.9485\n",
            "Epoch 37/100\n",
            "1/1 [==============================] - 0s 13ms/step - loss: 4.7849 - mae: 4.7849\n",
            "Epoch 38/100\n",
            "1/1 [==============================] - 0s 11ms/step - loss: 4.5867 - mae: 4.5867\n",
            "Epoch 39/100\n",
            "1/1 [==============================] - 0s 17ms/step - loss: 4.3561 - mae: 4.3561\n",
            "Epoch 40/100\n",
            "1/1 [==============================] - 0s 14ms/step - loss: 4.1454 - mae: 4.1454\n",
            "Epoch 41/100\n",
            "1/1 [==============================] - 0s 12ms/step - loss: 4.0316 - mae: 4.0316\n",
            "Epoch 42/100\n",
            "1/1 [==============================] - 0s 17ms/step - loss: 3.9311 - mae: 3.9311\n",
            "Epoch 43/100\n",
            "1/1 [==============================] - 0s 16ms/step - loss: 3.8290 - mae: 3.8290\n",
            "Epoch 44/100\n",
            "1/1 [==============================] - 0s 15ms/step - loss: 3.6042 - mae: 3.6042\n",
            "Epoch 45/100\n",
            "1/1 [==============================] - 0s 12ms/step - loss: 3.4140 - mae: 3.4140\n",
            "Epoch 46/100\n",
            "1/1 [==============================] - 0s 11ms/step - loss: 3.2324 - mae: 3.2324\n",
            "Epoch 47/100\n",
            "1/1 [==============================] - 0s 12ms/step - loss: 3.1206 - mae: 3.1206\n",
            "Epoch 48/100\n",
            "1/1 [==============================] - 0s 11ms/step - loss: 2.9541 - mae: 2.9541\n",
            "Epoch 49/100\n",
            "1/1 [==============================] - 0s 11ms/step - loss: 2.7352 - mae: 2.7352\n",
            "Epoch 50/100\n",
            "1/1 [==============================] - 0s 11ms/step - loss: 2.4749 - mae: 2.4749\n",
            "Epoch 51/100\n",
            "1/1 [==============================] - 0s 11ms/step - loss: 2.2772 - mae: 2.2772\n",
            "Epoch 52/100\n",
            "1/1 [==============================] - 0s 10ms/step - loss: 2.0667 - mae: 2.0667\n",
            "Epoch 53/100\n",
            "1/1 [==============================] - 0s 10ms/step - loss: 1.8845 - mae: 1.8845\n",
            "Epoch 54/100\n",
            "1/1 [==============================] - 0s 11ms/step - loss: 1.5954 - mae: 1.5954\n",
            "Epoch 55/100\n",
            "1/1 [==============================] - 0s 10ms/step - loss: 1.3353 - mae: 1.3353\n",
            "Epoch 56/100\n",
            "1/1 [==============================] - 0s 10ms/step - loss: 1.1407 - mae: 1.1407\n",
            "Epoch 57/100\n",
            "1/1 [==============================] - 0s 11ms/step - loss: 0.8808 - mae: 0.8808\n",
            "Epoch 58/100\n",
            "1/1 [==============================] - 0s 11ms/step - loss: 0.5486 - mae: 0.5486\n",
            "Epoch 59/100\n",
            "1/1 [==============================] - 0s 12ms/step - loss: 0.3566 - mae: 0.3566\n",
            "Epoch 60/100\n",
            "1/1 [==============================] - 0s 11ms/step - loss: 0.2450 - mae: 0.2450\n",
            "Epoch 61/100\n",
            "1/1 [==============================] - 0s 11ms/step - loss: 0.4595 - mae: 0.4595\n",
            "Epoch 62/100\n",
            "1/1 [==============================] - 0s 11ms/step - loss: 0.7242 - mae: 0.7242\n",
            "Epoch 63/100\n",
            "1/1 [==============================] - 0s 11ms/step - loss: 0.7475 - mae: 0.7475\n",
            "Epoch 64/100\n",
            "1/1 [==============================] - 0s 11ms/step - loss: 0.7977 - mae: 0.7977\n",
            "Epoch 65/100\n",
            "1/1 [==============================] - 0s 10ms/step - loss: 0.9690 - mae: 0.9690\n",
            "Epoch 66/100\n",
            "1/1 [==============================] - 0s 10ms/step - loss: 0.8948 - mae: 0.8948\n",
            "Epoch 67/100\n",
            "1/1 [==============================] - 0s 10ms/step - loss: 0.7315 - mae: 0.7315\n",
            "Epoch 68/100\n",
            "1/1 [==============================] - 0s 10ms/step - loss: 0.8300 - mae: 0.8300\n",
            "Epoch 69/100\n",
            "1/1 [==============================] - 0s 10ms/step - loss: 0.7392 - mae: 0.7392\n",
            "Epoch 70/100\n",
            "1/1 [==============================] - 0s 12ms/step - loss: 0.4672 - mae: 0.4672\n",
            "Epoch 71/100\n",
            "1/1 [==============================] - 0s 10ms/step - loss: 0.5096 - mae: 0.5096\n",
            "Epoch 72/100\n",
            "1/1 [==============================] - 0s 13ms/step - loss: 0.4757 - mae: 0.4757\n",
            "Epoch 73/100\n",
            "1/1 [==============================] - 0s 10ms/step - loss: 0.1385 - mae: 0.1385\n",
            "Epoch 74/100\n",
            "1/1 [==============================] - 0s 15ms/step - loss: 0.4876 - mae: 0.4876\n",
            "Epoch 75/100\n",
            "1/1 [==============================] - 0s 11ms/step - loss: 0.7071 - mae: 0.7071\n",
            "Epoch 76/100\n",
            "1/1 [==============================] - 0s 10ms/step - loss: 0.6397 - mae: 0.6397\n",
            "Epoch 77/100\n",
            "1/1 [==============================] - 0s 10ms/step - loss: 0.3975 - mae: 0.3975\n",
            "Epoch 78/100\n",
            "1/1 [==============================] - 0s 10ms/step - loss: 0.6079 - mae: 0.6079\n",
            "Epoch 79/100\n",
            "1/1 [==============================] - 0s 10ms/step - loss: 0.7256 - mae: 0.7256\n",
            "Epoch 80/100\n",
            "1/1 [==============================] - 0s 10ms/step - loss: 0.6806 - mae: 0.6806\n",
            "Epoch 81/100\n",
            "1/1 [==============================] - 0s 10ms/step - loss: 0.4895 - mae: 0.4895\n",
            "Epoch 82/100\n",
            "1/1 [==============================] - 0s 10ms/step - loss: 0.1682 - mae: 0.1682\n",
            "Epoch 83/100\n",
            "1/1 [==============================] - 0s 14ms/step - loss: 0.3744 - mae: 0.3744\n",
            "Epoch 84/100\n",
            "1/1 [==============================] - 0s 11ms/step - loss: 0.3730 - mae: 0.3730\n",
            "Epoch 85/100\n",
            "1/1 [==============================] - 0s 12ms/step - loss: 0.2220 - mae: 0.2220\n",
            "Epoch 86/100\n",
            "1/1 [==============================] - 0s 12ms/step - loss: 0.4700 - mae: 0.4700\n",
            "Epoch 87/100\n",
            "1/1 [==============================] - 0s 11ms/step - loss: 0.6116 - mae: 0.6116\n",
            "Epoch 88/100\n",
            "1/1 [==============================] - 0s 10ms/step - loss: 0.4877 - mae: 0.4877\n",
            "Epoch 89/100\n",
            "1/1 [==============================] - 0s 11ms/step - loss: 0.2787 - mae: 0.2787\n",
            "Epoch 90/100\n",
            "1/1 [==============================] - 0s 10ms/step - loss: 0.3401 - mae: 0.3401\n",
            "Epoch 91/100\n",
            "1/1 [==============================] - 0s 11ms/step - loss: 0.2430 - mae: 0.2430\n",
            "Epoch 92/100\n",
            "1/1 [==============================] - 0s 14ms/step - loss: 0.0941 - mae: 0.0941\n",
            "Epoch 93/100\n",
            "1/1 [==============================] - 0s 13ms/step - loss: 0.0605 - mae: 0.0605\n",
            "Epoch 94/100\n",
            "1/1 [==============================] - 0s 13ms/step - loss: 0.2568 - mae: 0.2568\n",
            "Epoch 95/100\n",
            "1/1 [==============================] - 0s 11ms/step - loss: 0.2401 - mae: 0.2401\n",
            "Epoch 96/100\n",
            "1/1 [==============================] - 0s 11ms/step - loss: 0.2372 - mae: 0.2372\n",
            "Epoch 97/100\n",
            "1/1 [==============================] - 0s 11ms/step - loss: 0.2719 - mae: 0.2719\n",
            "Epoch 98/100\n",
            "1/1 [==============================] - 0s 11ms/step - loss: 0.1627 - mae: 0.1627\n",
            "Epoch 99/100\n",
            "1/1 [==============================] - 0s 12ms/step - loss: 0.1890 - mae: 0.1890\n",
            "Epoch 100/100\n",
            "1/1 [==============================] - 0s 16ms/step - loss: 0.1470 - mae: 0.1470\n"
          ]
        },
        {
          "output_type": "execute_result",
          "data": {
            "text/plain": [
              "<keras.callbacks.History at 0x7ff689ae89a0>"
            ]
          },
          "metadata": {},
          "execution_count": 28
        }
      ]
    },
    {
      "cell_type": "code",
      "source": [
        "# Make a prediction using the model\n",
        "y_pred = model.predict([17.0])\n",
        "y_pred"
      ],
      "metadata": {
        "colab": {
          "base_uri": "https://localhost:8080/"
        },
        "id": "5nUu2w39UrQk",
        "outputId": "fe26f479-c9d9-4ba4-97f2-15c5c60cf647"
      },
      "execution_count": 29,
      "outputs": [
        {
          "output_type": "stream",
          "name": "stdout",
          "text": [
            "1/1 [==============================] - 0s 104ms/step\n"
          ]
        },
        {
          "output_type": "execute_result",
          "data": {
            "text/plain": [
              "array([[26.57332]], dtype=float32)"
            ]
          },
          "metadata": {},
          "execution_count": 29
        }
      ]
    },
    {
      "cell_type": "markdown",
      "source": [
        "# Larger datasets"
      ],
      "metadata": {
        "id": "7BgxU25EVGiL"
      }
    },
    {
      "cell_type": "code",
      "source": [
        "X = tf.range(-100,100,4)\n",
        "X"
      ],
      "metadata": {
        "colab": {
          "base_uri": "https://localhost:8080/"
        },
        "id": "casRbJM1aHQa",
        "outputId": "2443cbcb-db36-4db4-aebe-d3e320ed77ac"
      },
      "execution_count": 30,
      "outputs": [
        {
          "output_type": "execute_result",
          "data": {
            "text/plain": [
              "<tf.Tensor: shape=(50,), dtype=int32, numpy=\n",
              "array([-100,  -96,  -92,  -88,  -84,  -80,  -76,  -72,  -68,  -64,  -60,\n",
              "        -56,  -52,  -48,  -44,  -40,  -36,  -32,  -28,  -24,  -20,  -16,\n",
              "        -12,   -8,   -4,    0,    4,    8,   12,   16,   20,   24,   28,\n",
              "         32,   36,   40,   44,   48,   52,   56,   60,   64,   68,   72,\n",
              "         76,   80,   84,   88,   92,   96], dtype=int32)>"
            ]
          },
          "metadata": {},
          "execution_count": 30
        }
      ]
    },
    {
      "cell_type": "code",
      "source": [
        "y = X + 10\n",
        "y"
      ],
      "metadata": {
        "colab": {
          "base_uri": "https://localhost:8080/"
        },
        "id": "s8U6MHfhaTrX",
        "outputId": "2bdfd06f-ab9c-4bb3-97c6-96a81cc95520"
      },
      "execution_count": 31,
      "outputs": [
        {
          "output_type": "execute_result",
          "data": {
            "text/plain": [
              "<tf.Tensor: shape=(50,), dtype=int32, numpy=\n",
              "array([-90, -86, -82, -78, -74, -70, -66, -62, -58, -54, -50, -46, -42,\n",
              "       -38, -34, -30, -26, -22, -18, -14, -10,  -6,  -2,   2,   6,  10,\n",
              "        14,  18,  22,  26,  30,  34,  38,  42,  46,  50,  54,  58,  62,\n",
              "        66,  70,  74,  78,  82,  86,  90,  94,  98, 102, 106], dtype=int32)>"
            ]
          },
          "metadata": {},
          "execution_count": 31
        }
      ]
    },
    {
      "cell_type": "code",
      "source": [
        "plt.scatter(X,y)"
      ],
      "metadata": {
        "colab": {
          "base_uri": "https://localhost:8080/",
          "height": 282
        },
        "id": "xR74LToLacLz",
        "outputId": "052c9383-803c-452d-86a2-6a6d047dea75"
      },
      "execution_count": 32,
      "outputs": [
        {
          "output_type": "execute_result",
          "data": {
            "text/plain": [
              "<matplotlib.collections.PathCollection at 0x7ff684da04c0>"
            ]
          },
          "metadata": {},
          "execution_count": 32
        },
        {
          "output_type": "display_data",
          "data": {
            "text/plain": [
              "<Figure size 432x288 with 1 Axes>"
            ],
            "image/png": "[encoded data removed]"
          },
          "metadata": {
            "needs_background": "light"
          }
        }
      ]
    },
    {
      "cell_type": "markdown",
      "source": [
        "## Split data into training/test set\n",
        "\n",
        "One of the other most common and important steps in a machine learning project is creating a training and test set (and when required, a validation set).\n",
        "\n",
        "Each set serves a specific purpose:\n",
        "* **Training set** - the model learns from this data, which is typically 70-80% of the total data available (like the course materials you study during the semester).\n",
        "* **Validation set** - the model gets tuned on this data, which is typically 10-15% of the total data available (like the practice exam you take before the final exam).\n",
        "* **Test set** - the model gets evaluated on this data to test what it has learned, it's typically 10-15% of the total data available (like the final exam you take at the end of the semester)."
      ],
      "metadata": {
        "id": "Ok7hhKLzacen"
      }
    },
    {
      "cell_type": "code",
      "source": [
        "# Split the data into train and test sets\n",
        "X_train = X[:40]\n",
        "y_train = y[:40]\n",
        "\n",
        "X_test = X[40:]\n",
        "y_test = y[40:]\n",
        "\n",
        "len(X_train),len(X_test),len(y_train),len(y_test)"
      ],
      "metadata": {
        "colab": {
          "base_uri": "https://localhost:8080/"
        },
        "id": "t69DbSQPacsk",
        "outputId": "4136f368-aafe-4d68-9d03-433f6c8e8dee"
      },
      "execution_count": 33,
      "outputs": [
        {
          "output_type": "execute_result",
          "data": {
            "text/plain": [
              "(40, 10, 40, 10)"
            ]
          },
          "metadata": {},
          "execution_count": 33
        }
      ]
    },
    {
      "cell_type": "code",
      "source": [
        "#Visualizing the data\n",
        "\n",
        "plt.figure(figsize=(10,7))\n",
        "#Plot training data in blue\n",
        "plt.scatter(X_train,y_train,c='b',label='Training Data')\n",
        "# Plot testing data in green\n",
        "plt.scatter(X_test,y_test,c='g',label='test')\n",
        "#Show a legend\n",
        "plt.legend();"
      ],
      "metadata": {
        "colab": {
          "base_uri": "https://localhost:8080/",
          "height": 428
        },
        "id": "ihSIZgDMl027",
        "outputId": "6ecb0468-d015-468b-b06c-202958066df0"
      },
      "execution_count": 34,
      "outputs": [
        {
          "output_type": "display_data",
          "data": {
            "text/plain": [
              "<Figure size 720x504 with 1 Axes>"
            ],
            "image/png": "[encoded data removed]"
          },
          "metadata": {
            "needs_background": "light"
          }
        }
      ]
    },
    {
      "cell_type": "code",
      "source": [
        "# Create a model\n",
        "\n",
        "model  = tf.keras.Sequential([\n",
        "    tf.keras.layers.Dense(1)\n",
        "])\n",
        "\n",
        "# Compile the model \n",
        "model.compile(loss=['mae'],\n",
        "              optimizer = tf.keras.optimizers.SGD(),\n",
        "              metrics=['mae'])\n",
        "\n",
        "# fit the model\n",
        "#model.fit(tf.expand_dims(X,axis=-1),y,epochs=100)"
      ],
      "metadata": {
        "id": "9TI_GVZxl1Cg"
      },
      "execution_count": 35,
      "outputs": []
    },
    {
      "cell_type": "code",
      "source": [
        "model.summary()"
      ],
      "metadata": {
        "id": "auVfoEsVl1Mn",
        "colab": {
          "base_uri": "https://localhost:8080/",
          "height": 322
        },
        "outputId": "3401b6b1-2fea-4af4-8f29-f695cfd1d78e"
      },
      "execution_count": 37,
      "outputs": [
        {
          "output_type": "error",
          "ename": "ValueError",
          "evalue": "ignored",
          "traceback": [
            "\u001b[0;31m---------------------------------------------------------------------------\u001b[0m",
            "\u001b[0;31mValueError\u001b[0m                                Traceback (most recent call last)",
            "\u001b[0;32m<ipython-input-37-5f15418b3570>\u001b[0m in \u001b[0;36m<module>\u001b[0;34m\u001b[0m\n\u001b[0;32m----> 1\u001b[0;31m \u001b[0mmodel\u001b[0m\u001b[0;34m.\u001b[0m\u001b[0msummary\u001b[0m\u001b[0;34m(\u001b[0m\u001b[0;34m)\u001b[0m\u001b[0;34m\u001b[0m\u001b[0;34m\u001b[0m\u001b[0m\n\u001b[0m",
            "\u001b[0;32m/usr/local/lib/python3.8/dist-packages/keras/engine/training.py\u001b[0m in \u001b[0;36msummary\u001b[0;34m(self, line_length, positions, print_fn, expand_nested, show_trainable, layer_range)\u001b[0m\n\u001b[1;32m   3290\u001b[0m         \"\"\"\n\u001b[1;32m   3291\u001b[0m         \u001b[0;32mif\u001b[0m \u001b[0;32mnot\u001b[0m \u001b[0mself\u001b[0m\u001b[0;34m.\u001b[0m\u001b[0mbuilt\u001b[0m\u001b[0;34m:\u001b[0m\u001b[0;34m\u001b[0m\u001b[0;34m\u001b[0m\u001b[0m\n\u001b[0;32m-> 3292\u001b[0;31m             raise ValueError(\n\u001b[0m\u001b[1;32m   3293\u001b[0m                 \u001b[0;34m\"This model has not yet been built. \"\u001b[0m\u001b[0;34m\u001b[0m\u001b[0;34m\u001b[0m\u001b[0m\n\u001b[1;32m   3294\u001b[0m                 \u001b[0;34m\"Build the model first by calling `build()` or by calling \"\u001b[0m\u001b[0;34m\u001b[0m\u001b[0;34m\u001b[0m\u001b[0m\n",
            "\u001b[0;31mValueError\u001b[0m: This model has not yet been built. Build the model first by calling `build()` or by calling the model on a batch of data."
          ]
        }
      ]
    },
    {
      "cell_type": "code",
      "source": [
        "tf.random.set_seed(42)\n",
        "\n",
        "model = tf.keras.Sequential([\n",
        "    tf.keras.layers.Dense(1,input_shape=[1])\n",
        "])\n",
        "\n",
        "model.compile(loss=['mae'],\n",
        "              optimizer = tf.keras.optimizers.SGD(),\n",
        "              metrics=['mae'])"
      ],
      "metadata": {
        "id": "LumWKuBml1VF"
      },
      "execution_count": 38,
      "outputs": []
    },
    {
      "cell_type": "code",
      "source": [
        "model.summary()"
      ],
      "metadata": {
        "colab": {
          "base_uri": "https://localhost:8080/"
        },
        "id": "DwZlGJrGtYx4",
        "outputId": "77836689-f360-40c4-8f66-8ce93201107a"
      },
      "execution_count": 39,
      "outputs": [
        {
          "output_type": "stream",
          "name": "stdout",
          "text": [
            "Model: \"sequential_5\"\n",
            "_________________________________________________________________\n",
            " Layer (type)                Output Shape              Param #   \n",
            "=================================================================\n",
            " dense_7 (Dense)             (None, 1)                 2         \n",
            "                                                                 \n",
            "=================================================================\n",
            "Total params: 2\n",
            "Trainable params: 2\n",
            "Non-trainable params: 0\n",
            "_________________________________________________________________\n"
          ]
        }
      ]
    },
    {
      "cell_type": "markdown",
      "source": [
        "Calling `summary()` on our model shows us the layers it contains, the output shape and the number of parameters.\n",
        "* **Total params** - total number of parameters in the model.\n",
        "* **Trainable parameters** - these are the parameters (patterns) the model can update as it trains.\n",
        "* **Non-trainable parameters** - these parameters aren't updated during training (this is typical when you bring in the already learned patterns from other models during transfer learning)."
      ],
      "metadata": {
        "id": "qKEVdCr4tVxy"
      }
    },
    {
      "cell_type": "code",
      "source": [
        "# fit the model\n",
        "model.fit(tf.expand_dims(X,axis=-1),y,epochs=100,verbose=0)"
      ],
      "metadata": {
        "colab": {
          "base_uri": "https://localhost:8080/"
        },
        "id": "ulfsfjQrxImJ",
        "outputId": "c7a79b98-63c9-4233-9afb-5279c938b125"
      },
      "execution_count": 40,
      "outputs": [
        {
          "output_type": "execute_result",
          "data": {
            "text/plain": [
              "<keras.callbacks.History at 0x7ff6840ea310>"
            ]
          },
          "metadata": {},
          "execution_count": 40
        }
      ]
    },
    {
      "cell_type": "code",
      "source": [
        "model.summary()"
      ],
      "metadata": {
        "colab": {
          "base_uri": "https://localhost:8080/"
        },
        "id": "JCP9tBQxl8wQ",
        "outputId": "f5d5a07f-6e29-40fc-ed34-5d30968a2050"
      },
      "execution_count": 41,
      "outputs": [
        {
          "output_type": "stream",
          "name": "stdout",
          "text": [
            "Model: \"sequential_5\"\n",
            "_________________________________________________________________\n",
            " Layer (type)                Output Shape              Param #   \n",
            "=================================================================\n",
            " dense_7 (Dense)             (None, 1)                 2         \n",
            "                                                                 \n",
            "=================================================================\n",
            "Total params: 2\n",
            "Trainable params: 2\n",
            "Non-trainable params: 0\n",
            "_________________________________________________________________\n"
          ]
        }
      ]
    },
    {
      "cell_type": "code",
      "source": [
        "from tensorflow.keras.utils import plot_model\n",
        "plot_model(model=model,show_shapes=True)"
      ],
      "metadata": {
        "colab": {
          "base_uri": "https://localhost:8080/",
          "height": 201
        },
        "id": "StP8fTr-pE00",
        "outputId": "8bdf7577-e79c-4f7a-faf9-1c3a8e330883"
      },
      "execution_count": 42,
      "outputs": [
        {
          "output_type": "execute_result",
          "data": {
            "image/png": "[encoded data removed]",
            "text/plain": [
              "<IPython.core.display.Image object>"
            ]
          },
          "metadata": {},
          "execution_count": 42
        }
      ]
    },
    {
      "cell_type": "markdown",
      "source": [
        "# Visualising"
      ],
      "metadata": {
        "id": "C3I4EG8-pUk-"
      }
    },
    {
      "cell_type": "code",
      "source": [
        "y_pred = model.predict(X_test)\n",
        "y_pred"
      ],
      "metadata": {
        "colab": {
          "base_uri": "https://localhost:8080/"
        },
        "id": "KylEYIPWrzjC",
        "outputId": "17a62003-b95c-424e-dd28-362670869875"
      },
      "execution_count": 43,
      "outputs": [
        {
          "output_type": "stream",
          "name": "stderr",
          "text": [
            "WARNING:tensorflow:5 out of the last 5 calls to <function Model.make_predict_function.<locals>.predict_function at 0x7ff684b0b700> triggered tf.function retracing. Tracing is expensive and the excessive number of tracings could be due to (1) creating @tf.function repeatedly in a loop, (2) passing tensors with different shapes, (3) passing Python objects instead of tensors. For (1), please define your @tf.function outside of the loop. For (2), @tf.function has reduce_retracing=True option that can avoid unnecessary retracing. For (3), please refer to https://www.tensorflow.org/guide/function#controlling_retracing and https://www.tensorflow.org/api_docs/python/tf/function for  more details.\n"
          ]
        },
        {
          "output_type": "stream",
          "name": "stdout",
          "text": [
            "1/1 [==============================] - 0s 68ms/step\n"
          ]
        },
        {
          "output_type": "execute_result",
          "data": {
            "text/plain": [
              "array([[54.970757],\n",
              "       [58.5401  ],\n",
              "       [62.109444],\n",
              "       [65.67879 ],\n",
              "       [69.24812 ],\n",
              "       [72.81747 ],\n",
              "       [76.38681 ],\n",
              "       [79.956154],\n",
              "       [83.5255  ],\n",
              "       [87.09484 ]], dtype=float32)"
            ]
          },
          "metadata": {},
          "execution_count": 43
        }
      ]
    },
    {
      "cell_type": "code",
      "source": [
        "y_test"
      ],
      "metadata": {
        "colab": {
          "base_uri": "https://localhost:8080/"
        },
        "id": "Lp4U2VovvQLg",
        "outputId": "4b033516-ea58-4ab1-e850-b814b19ecdc1"
      },
      "execution_count": 44,
      "outputs": [
        {
          "output_type": "execute_result",
          "data": {
            "text/plain": [
              "<tf.Tensor: shape=(10,), dtype=int32, numpy=array([ 70,  74,  78,  82,  86,  90,  94,  98, 102, 106], dtype=int32)>"
            ]
          },
          "metadata": {},
          "execution_count": 44
        }
      ]
    },
    {
      "cell_type": "code",
      "source": [
        "def plot_functions(train_data = X_train,\n",
        "                   train_labels = y_train,\n",
        "                   test_data = X_test,\n",
        "                   test_labels = y_test,\n",
        "                   predictions=y_pred ):\n",
        "\n",
        "  plt.figure(figsize=(10,7))\n",
        "  plt.scatter(train_data, train_labels, c='b',label='Training Data')\n",
        "  plt.scatter(test_data,test_labels, c='g',label='Testing Data')  \n",
        "  plt.scatter(test_data,predictions,c='r',label='Predictions')\n",
        "  plt.legend();"
      ],
      "metadata": {
        "id": "C1xAgvNStFAR"
      },
      "execution_count": 45,
      "outputs": []
    },
    {
      "cell_type": "code",
      "source": [
        "plot_functions(train_data = X_train,\n",
        "                   train_labels = y_train,\n",
        "                   test_data = X_test,\n",
        "                   test_labels = y_test,\n",
        "                   predictions=y_pred )"
      ],
      "metadata": {
        "colab": {
          "base_uri": "https://localhost:8080/",
          "height": 428
        },
        "id": "PbIYehmbuoG3",
        "outputId": "51ecc490-a125-4d25-f1d4-c6d8a5c81f7d"
      },
      "execution_count": 46,
      "outputs": [
        {
          "output_type": "display_data",
          "data": {
            "text/plain": [
              "<Figure size 720x504 with 1 Axes>"
            ],
            "image/png": "[encoded data removed]"
          },
          "metadata": {
            "needs_background": "light"
          }
        }
      ]
    },
    {
      "cell_type": "markdown",
      "source": [
        "## Evaluating Predictions"
      ],
      "metadata": {
        "id": "_Rfqd1WfDAS5"
      }
    },
    {
      "cell_type": "code",
      "source": [
        "# Evaluate the model on the test\n",
        "model.evaluate(X_test,y_test)"
      ],
      "metadata": {
        "colab": {
          "base_uri": "https://localhost:8080/"
        },
        "id": "cuJqkBGDDAPX",
        "outputId": "b28d233b-a7fc-47c4-e133-bcacd378f60a"
      },
      "execution_count": 47,
      "outputs": [
        {
          "output_type": "stream",
          "name": "stdout",
          "text": [
            "1/1 [==============================] - 0s 189ms/step - loss: 16.9672 - mae: 16.9672\n"
          ]
        },
        {
          "output_type": "execute_result",
          "data": {
            "text/plain": [
              "[16.96720314025879, 16.96720314025879]"
            ]
          },
          "metadata": {},
          "execution_count": 47
        }
      ]
    },
    {
      "cell_type": "code",
      "source": [
        "# Calculate the mean absolute error\n",
        "mae = tf.metrics.mean_absolute_error(y_test,y_pred)\n",
        "mae"
      ],
      "metadata": {
        "colab": {
          "base_uri": "https://localhost:8080/"
        },
        "id": "erArh9LjDAKP",
        "outputId": "14c6abe0-a8dc-43c5-fdc8-8085467ff2b7"
      },
      "execution_count": 48,
      "outputs": [
        {
          "output_type": "execute_result",
          "data": {
            "text/plain": [
              "<tf.Tensor: shape=(10,), dtype=float32, numpy=\n",
              "array([33.029243, 29.4599  , 25.890558, 22.321213, 18.751877, 15.746027,\n",
              "       13.367914, 11.617538, 10.494901, 10.      ], dtype=float32)>"
            ]
          },
          "metadata": {},
          "execution_count": 48
        }
      ]
    },
    {
      "cell_type": "code",
      "source": [
        "y_test"
      ],
      "metadata": {
        "colab": {
          "base_uri": "https://localhost:8080/"
        },
        "id": "2NAYOGb9C_9p",
        "outputId": "e9e06386-4d3b-4bca-99aa-9181c0af5760"
      },
      "execution_count": 49,
      "outputs": [
        {
          "output_type": "execute_result",
          "data": {
            "text/plain": [
              "<tf.Tensor: shape=(10,), dtype=int32, numpy=array([ 70,  74,  78,  82,  86,  90,  94,  98, 102, 106], dtype=int32)>"
            ]
          },
          "metadata": {},
          "execution_count": 49
        }
      ]
    },
    {
      "cell_type": "code",
      "source": [
        "y_pred"
      ],
      "metadata": {
        "colab": {
          "base_uri": "https://localhost:8080/"
        },
        "id": "-kOypqbaKTWt",
        "outputId": "3ce31898-a9f5-4221-cfc8-d71a0c15f7c9"
      },
      "execution_count": 50,
      "outputs": [
        {
          "output_type": "execute_result",
          "data": {
            "text/plain": [
              "array([[54.970757],\n",
              "       [58.5401  ],\n",
              "       [62.109444],\n",
              "       [65.67879 ],\n",
              "       [69.24812 ],\n",
              "       [72.81747 ],\n",
              "       [76.38681 ],\n",
              "       [79.956154],\n",
              "       [83.5255  ],\n",
              "       [87.09484 ]], dtype=float32)"
            ]
          },
          "metadata": {},
          "execution_count": 50
        }
      ]
    },
    {
      "cell_type": "code",
      "source": [
        "tf.squeeze(y_pred)"
      ],
      "metadata": {
        "colab": {
          "base_uri": "https://localhost:8080/"
        },
        "id": "8rOYUiitKWNd",
        "outputId": "e74e2e5b-7dec-4f34-d9ae-2d90c17675b3"
      },
      "execution_count": 51,
      "outputs": [
        {
          "output_type": "execute_result",
          "data": {
            "text/plain": [
              "<tf.Tensor: shape=(10,), dtype=float32, numpy=\n",
              "array([54.970757, 58.5401  , 62.109444, 65.67879 , 69.24812 , 72.81747 ,\n",
              "       76.38681 , 79.956154, 83.5255  , 87.09484 ], dtype=float32)>"
            ]
          },
          "metadata": {},
          "execution_count": 51
        }
      ]
    },
    {
      "cell_type": "code",
      "source": [
        "mae = tf.metrics.mean_absolute_error(y_test,tf.squeeze(y_pred))\n",
        "mae"
      ],
      "metadata": {
        "colab": {
          "base_uri": "https://localhost:8080/"
        },
        "id": "-NiXpkQoKWZD",
        "outputId": "9f8cb1f7-a5f7-40e9-d912-80257dfb166b"
      },
      "execution_count": 52,
      "outputs": [
        {
          "output_type": "execute_result",
          "data": {
            "text/plain": [
              "<tf.Tensor: shape=(), dtype=float32, numpy=16.967203>"
            ]
          },
          "metadata": {},
          "execution_count": 52
        }
      ]
    },
    {
      "cell_type": "code",
      "source": [
        "# Calculate Mean Square Error\n",
        "mse = tf.metrics.mean_squared_error(y_test,tf.squeeze(y_pred))\n",
        "mse"
      ],
      "metadata": {
        "colab": {
          "base_uri": "https://localhost:8080/"
        },
        "id": "6k8Ob39cKWhU",
        "outputId": "0d48816c-6a89-421b-dbdc-435c8df6f9b2"
      },
      "execution_count": 53,
      "outputs": [
        {
          "output_type": "execute_result",
          "data": {
            "text/plain": [
              "<tf.Tensor: shape=(), dtype=float32, numpy=289.41608>"
            ]
          },
          "metadata": {},
          "execution_count": 53
        }
      ]
    },
    {
      "cell_type": "code",
      "source": [
        "def mae(y_test,y_pred):\n",
        "  return tf.metrics.mean_absolute_error(y_test,tf.squeeze(y_pred))\n",
        "\n",
        "def mse(y_test,y_pred):\n",
        "  return tf.metrics.mean_squared_error(y_test,tf.squeeze(y_pred))"
      ],
      "metadata": {
        "id": "wnYl8v2WKWmk"
      },
      "execution_count": 54,
      "outputs": []
    },
    {
      "cell_type": "markdown",
      "source": [
        "## Running experiments to improve a model\n",
        "\n",
        "After seeing the evaluation metrics and the predictions your model makes, it's likely you'll want to improve it.\n",
        "\n",
        "Again, there are many different ways you can do this, but 3 of the main ones are:\n",
        "1. **Get more data** - get more examples for your model to train on (more opportunities to learn patterns).\n",
        "2. **Make your model larger (use a more complex model)** - this might come in the form of more layers or more hidden units in each layer.\n",
        "3. **Train for longer** - give your model more of a chance to find the patterns in the data.\n",
        "\n",
        "Since we created our dataset, we could easily make more data but this isn't always the case when you're working with real-world datasets.\n",
        "\n",
        "So let's take a look at how we can improve our model using 2 and 3.\n",
        "\n",
        "To do so, we'll build 3 models and compare their results:\n",
        "1. `model_1` - same as original model, 1 layer, trained for 100 epochs.\n",
        "2. `model_2` - 2 layers, trained for 100 epochs.\n",
        "3. `model_3` - 2 layers, trained for 500 epochs.\n",
        "\n",
        "**Build `model_1`**"
      ],
      "metadata": {
        "id": "x_goFS8g7non"
      }
    },
    {
      "cell_type": "code",
      "source": [
        "# Set the random seed\n",
        "tf.random.set_seed(42)\n",
        "\n",
        "# 1. Create a model:\n",
        "model_1 = tf.keras.Sequential([\n",
        "    tf.keras.layers.Dense(1)\n",
        "])\n",
        "\n",
        "# 2. Compile the model:\n",
        "model_1.compile(loss=['mae'],\n",
        "                optimizer = tf.keras.optimizers.SGD(),\n",
        "                metrics = ['mae'])\n",
        "\n",
        "# 3. Fit the model:\n",
        "model_1.fit(tf.expand_dims(X_train,axis=-1),y_train,epochs=100)"
      ],
      "metadata": {
        "colab": {
          "base_uri": "https://localhost:8080/"
        },
        "id": "Z5-_mG3pRM9q",
        "outputId": "a37929dc-5532-48b7-f425-e795409d73b2"
      },
      "execution_count": 55,
      "outputs": [
        {
          "output_type": "stream",
          "name": "stdout",
          "text": [
            "Epoch 1/100\n",
            "2/2 [==============================] - 0s 13ms/step - loss: 67.0033 - mae: 67.0033\n",
            "Epoch 2/100\n",
            "2/2 [==============================] - 0s 9ms/step - loss: 31.8732 - mae: 31.8732\n",
            "Epoch 3/100\n",
            "2/2 [==============================] - 0s 8ms/step - loss: 9.8294 - mae: 9.8294\n",
            "Epoch 4/100\n",
            "2/2 [==============================] - 0s 8ms/step - loss: 12.0216 - mae: 12.0216\n",
            "Epoch 5/100\n",
            "2/2 [==============================] - 0s 8ms/step - loss: 11.0834 - mae: 11.0834\n",
            "Epoch 6/100\n",
            "2/2 [==============================] - 0s 10ms/step - loss: 10.2386 - mae: 10.2386\n",
            "Epoch 7/100\n",
            "2/2 [==============================] - 0s 8ms/step - loss: 9.2484 - mae: 9.2484\n",
            "Epoch 8/100\n",
            "2/2 [==============================] - 0s 7ms/step - loss: 9.1744 - mae: 9.1744\n",
            "Epoch 9/100\n",
            "2/2 [==============================] - 0s 7ms/step - loss: 11.8006 - mae: 11.8006\n",
            "Epoch 10/100\n",
            "2/2 [==============================] - 0s 7ms/step - loss: 13.7279 - mae: 13.7279\n",
            "Epoch 11/100\n",
            "2/2 [==============================] - 0s 8ms/step - loss: 11.8070 - mae: 11.8070\n",
            "Epoch 12/100\n",
            "2/2 [==============================] - 0s 8ms/step - loss: 16.3991 - mae: 16.3991\n",
            "Epoch 13/100\n",
            "2/2 [==============================] - 0s 7ms/step - loss: 11.9425 - mae: 11.9425\n",
            "Epoch 14/100\n",
            "2/2 [==============================] - 0s 8ms/step - loss: 13.8670 - mae: 13.8670\n",
            "Epoch 15/100\n",
            "2/2 [==============================] - 0s 12ms/step - loss: 11.2551 - mae: 11.2551\n",
            "Epoch 16/100\n",
            "2/2 [==============================] - 0s 9ms/step - loss: 8.6043 - mae: 8.6043\n",
            "Epoch 17/100\n",
            "2/2 [==============================] - 0s 8ms/step - loss: 13.7666 - mae: 13.7666\n",
            "Epoch 18/100\n",
            "2/2 [==============================] - 0s 8ms/step - loss: 11.6232 - mae: 11.6232\n",
            "Epoch 19/100\n",
            "2/2 [==============================] - 0s 8ms/step - loss: 17.7544 - mae: 17.7544\n",
            "Epoch 20/100\n",
            "2/2 [==============================] - 0s 8ms/step - loss: 14.8903 - mae: 14.8903\n",
            "Epoch 21/100\n",
            "2/2 [==============================] - 0s 8ms/step - loss: 10.7940 - mae: 10.7940\n",
            "Epoch 22/100\n",
            "2/2 [==============================] - 0s 9ms/step - loss: 8.5378 - mae: 8.5378\n",
            "Epoch 23/100\n",
            "2/2 [==============================] - 0s 15ms/step - loss: 9.7856 - mae: 9.7856\n",
            "Epoch 24/100\n",
            "2/2 [==============================] - 0s 9ms/step - loss: 10.8961 - mae: 10.8961\n",
            "Epoch 25/100\n",
            "2/2 [==============================] - 0s 8ms/step - loss: 9.1462 - mae: 9.1462\n",
            "Epoch 26/100\n",
            "2/2 [==============================] - 0s 9ms/step - loss: 13.1277 - mae: 13.1277\n",
            "Epoch 27/100\n",
            "2/2 [==============================] - 0s 9ms/step - loss: 10.4454 - mae: 10.4454\n",
            "Epoch 28/100\n",
            "2/2 [==============================] - 0s 11ms/step - loss: 13.4713 - mae: 13.4713\n",
            "Epoch 29/100\n",
            "2/2 [==============================] - 0s 10ms/step - loss: 9.6384 - mae: 9.6384\n",
            "Epoch 30/100\n",
            "2/2 [==============================] - 0s 8ms/step - loss: 17.3156 - mae: 17.3156\n",
            "Epoch 31/100\n",
            "2/2 [==============================] - 0s 9ms/step - loss: 22.7701 - mae: 22.7701\n",
            "Epoch 32/100\n",
            "2/2 [==============================] - 0s 14ms/step - loss: 7.9324 - mae: 7.9324\n",
            "Epoch 33/100\n",
            "2/2 [==============================] - 0s 8ms/step - loss: 14.2165 - mae: 14.2165\n",
            "Epoch 34/100\n",
            "2/2 [==============================] - 0s 8ms/step - loss: 12.4793 - mae: 12.4793\n",
            "Epoch 35/100\n",
            "2/2 [==============================] - 0s 9ms/step - loss: 8.2509 - mae: 8.2509\n",
            "Epoch 36/100\n",
            "2/2 [==============================] - 0s 9ms/step - loss: 10.4522 - mae: 10.4522\n",
            "Epoch 37/100\n",
            "2/2 [==============================] - 0s 10ms/step - loss: 10.1067 - mae: 10.1067\n",
            "Epoch 38/100\n",
            "2/2 [==============================] - 0s 9ms/step - loss: 11.2714 - mae: 11.2714\n",
            "Epoch 39/100\n",
            "2/2 [==============================] - 0s 10ms/step - loss: 14.8394 - mae: 14.8394\n",
            "Epoch 40/100\n",
            "2/2 [==============================] - 0s 8ms/step - loss: 12.9690 - mae: 12.9690\n",
            "Epoch 41/100\n",
            "2/2 [==============================] - 0s 9ms/step - loss: 9.3685 - mae: 9.3685\n",
            "Epoch 42/100\n",
            "2/2 [==============================] - 0s 14ms/step - loss: 10.9659 - mae: 10.9659\n",
            "Epoch 43/100\n",
            "2/2 [==============================] - 0s 13ms/step - loss: 8.3388 - mae: 8.3388\n",
            "Epoch 44/100\n",
            "2/2 [==============================] - 0s 10ms/step - loss: 12.9686 - mae: 12.9686\n",
            "Epoch 45/100\n",
            "2/2 [==============================] - 0s 9ms/step - loss: 13.7695 - mae: 13.7695\n",
            "Epoch 46/100\n",
            "2/2 [==============================] - 0s 10ms/step - loss: 8.4573 - mae: 8.4573\n",
            "Epoch 47/100\n",
            "2/2 [==============================] - 0s 8ms/step - loss: 9.1671 - mae: 9.1671\n",
            "Epoch 48/100\n",
            "2/2 [==============================] - 0s 13ms/step - loss: 10.6628 - mae: 10.6628\n",
            "Epoch 49/100\n",
            "2/2 [==============================] - 0s 9ms/step - loss: 7.7813 - mae: 7.7813\n",
            "Epoch 50/100\n",
            "2/2 [==============================] - 0s 13ms/step - loss: 9.5815 - mae: 9.5815\n",
            "Epoch 51/100\n",
            "2/2 [==============================] - 0s 9ms/step - loss: 9.1797 - mae: 9.1797\n",
            "Epoch 52/100\n",
            "2/2 [==============================] - 0s 8ms/step - loss: 16.4228 - mae: 16.4228\n",
            "Epoch 53/100\n",
            "2/2 [==============================] - 0s 8ms/step - loss: 14.1177 - mae: 14.1177\n",
            "Epoch 54/100\n",
            "2/2 [==============================] - 0s 8ms/step - loss: 21.0720 - mae: 21.0720\n",
            "Epoch 55/100\n",
            "2/2 [==============================] - 0s 9ms/step - loss: 16.4538 - mae: 16.4538\n",
            "Epoch 56/100\n",
            "2/2 [==============================] - 0s 9ms/step - loss: 9.9120 - mae: 9.9120\n",
            "Epoch 57/100\n",
            "2/2 [==============================] - 0s 13ms/step - loss: 9.6524 - mae: 9.6524\n",
            "Epoch 58/100\n",
            "2/2 [==============================] - 0s 10ms/step - loss: 8.9788 - mae: 8.9788\n",
            "Epoch 59/100\n",
            "2/2 [==============================] - 0s 11ms/step - loss: 10.1762 - mae: 10.1762\n",
            "Epoch 60/100\n",
            "2/2 [==============================] - 0s 8ms/step - loss: 8.4510 - mae: 8.4510\n",
            "Epoch 61/100\n",
            "2/2 [==============================] - 0s 8ms/step - loss: 9.2970 - mae: 9.2970\n",
            "Epoch 62/100\n",
            "2/2 [==============================] - 0s 9ms/step - loss: 7.0898 - mae: 7.0898\n",
            "Epoch 63/100\n",
            "2/2 [==============================] - 0s 9ms/step - loss: 8.6547 - mae: 8.6547\n",
            "Epoch 64/100\n",
            "2/2 [==============================] - 0s 9ms/step - loss: 9.2329 - mae: 9.2329\n",
            "Epoch 65/100\n",
            "2/2 [==============================] - 0s 8ms/step - loss: 10.4822 - mae: 10.4822\n",
            "Epoch 66/100\n",
            "2/2 [==============================] - 0s 8ms/step - loss: 15.6769 - mae: 15.6769\n",
            "Epoch 67/100\n",
            "2/2 [==============================] - 0s 13ms/step - loss: 10.0684 - mae: 10.0684\n",
            "Epoch 68/100\n",
            "2/2 [==============================] - 0s 11ms/step - loss: 9.0400 - mae: 9.0400\n",
            "Epoch 69/100\n",
            "2/2 [==============================] - 0s 10ms/step - loss: 12.5486 - mae: 12.5486\n",
            "Epoch 70/100\n",
            "2/2 [==============================] - 0s 10ms/step - loss: 8.9857 - mae: 8.9857\n",
            "Epoch 71/100\n",
            "2/2 [==============================] - 0s 8ms/step - loss: 9.9618 - mae: 9.9618\n",
            "Epoch 72/100\n",
            "2/2 [==============================] - 0s 9ms/step - loss: 9.9974 - mae: 9.9974\n",
            "Epoch 73/100\n",
            "2/2 [==============================] - 0s 9ms/step - loss: 12.4757 - mae: 12.4757\n",
            "Epoch 74/100\n",
            "2/2 [==============================] - 0s 8ms/step - loss: 10.5643 - mae: 10.5643\n",
            "Epoch 75/100\n",
            "2/2 [==============================] - 0s 8ms/step - loss: 9.6574 - mae: 9.6574\n",
            "Epoch 76/100\n",
            "2/2 [==============================] - 0s 9ms/step - loss: 11.1286 - mae: 11.1286\n",
            "Epoch 77/100\n",
            "2/2 [==============================] - 0s 9ms/step - loss: 8.3042 - mae: 8.3042\n",
            "Epoch 78/100\n",
            "2/2 [==============================] - 0s 8ms/step - loss: 9.0052 - mae: 9.0052\n",
            "Epoch 79/100\n",
            "2/2 [==============================] - 0s 7ms/step - loss: 19.7604 - mae: 19.7604\n",
            "Epoch 80/100\n",
            "2/2 [==============================] - 0s 8ms/step - loss: 17.8550 - mae: 17.8550\n",
            "Epoch 81/100\n",
            "2/2 [==============================] - 0s 13ms/step - loss: 7.0820 - mae: 7.0820\n",
            "Epoch 82/100\n",
            "2/2 [==============================] - 0s 8ms/step - loss: 10.4378 - mae: 10.4378\n",
            "Epoch 83/100\n",
            "2/2 [==============================] - 0s 8ms/step - loss: 9.8648 - mae: 9.8648\n",
            "Epoch 84/100\n",
            "2/2 [==============================] - 0s 8ms/step - loss: 7.9428 - mae: 7.9428\n",
            "Epoch 85/100\n",
            "2/2 [==============================] - 0s 9ms/step - loss: 9.4457 - mae: 9.4457\n",
            "Epoch 86/100\n",
            "2/2 [==============================] - 0s 9ms/step - loss: 9.2670 - mae: 9.2670\n",
            "Epoch 87/100\n",
            "2/2 [==============================] - 0s 8ms/step - loss: 12.0538 - mae: 12.0538\n",
            "Epoch 88/100\n",
            "2/2 [==============================] - 0s 8ms/step - loss: 10.6740 - mae: 10.6740\n",
            "Epoch 89/100\n",
            "2/2 [==============================] - 0s 9ms/step - loss: 7.2796 - mae: 7.2796\n",
            "Epoch 90/100\n",
            "2/2 [==============================] - 0s 8ms/step - loss: 12.8167 - mae: 12.8167\n",
            "Epoch 91/100\n",
            "2/2 [==============================] - 0s 8ms/step - loss: 7.4928 - mae: 7.4928\n",
            "Epoch 92/100\n",
            "2/2 [==============================] - 0s 8ms/step - loss: 6.7631 - mae: 6.7631\n",
            "Epoch 93/100\n",
            "2/2 [==============================] - 0s 8ms/step - loss: 11.9666 - mae: 11.9666\n",
            "Epoch 94/100\n",
            "2/2 [==============================] - 0s 7ms/step - loss: 8.8974 - mae: 8.8974\n",
            "Epoch 95/100\n",
            "2/2 [==============================] - 0s 8ms/step - loss: 7.7357 - mae: 7.7357\n",
            "Epoch 96/100\n",
            "2/2 [==============================] - 0s 8ms/step - loss: 6.7626 - mae: 6.7626\n",
            "Epoch 97/100\n",
            "2/2 [==============================] - 0s 8ms/step - loss: 8.6502 - mae: 8.6502\n",
            "Epoch 98/100\n",
            "2/2 [==============================] - 0s 8ms/step - loss: 9.3997 - mae: 9.3997\n",
            "Epoch 99/100\n",
            "2/2 [==============================] - 0s 8ms/step - loss: 9.1361 - mae: 9.1361\n",
            "Epoch 100/100\n",
            "2/2 [==============================] - 0s 11ms/step - loss: 10.4912 - mae: 10.4912\n"
          ]
        },
        {
          "output_type": "execute_result",
          "data": {
            "text/plain": [
              "<keras.callbacks.History at 0x7ff68c2cd5b0>"
            ]
          },
          "metadata": {},
          "execution_count": 55
        }
      ]
    },
    {
      "cell_type": "code",
      "source": [
        "y_pred_1 = model_1.predict(X_test)\n",
        "plot_functions(predictions=y_pred_1)"
      ],
      "metadata": {
        "colab": {
          "base_uri": "https://localhost:8080/",
          "height": 483
        },
        "id": "fkeULsv7RN9b",
        "outputId": "eed81fd3-7ef0-4bad-9957-099ec0115526"
      },
      "execution_count": 56,
      "outputs": [
        {
          "output_type": "stream",
          "name": "stderr",
          "text": [
            "WARNING:tensorflow:6 out of the last 6 calls to <function Model.make_predict_function.<locals>.predict_function at 0x7ff68c28d3a0> triggered tf.function retracing. Tracing is expensive and the excessive number of tracings could be due to (1) creating @tf.function repeatedly in a loop, (2) passing tensors with different shapes, (3) passing Python objects instead of tensors. For (1), please define your @tf.function outside of the loop. For (2), @tf.function has reduce_retracing=True option that can avoid unnecessary retracing. For (3), please refer to https://www.tensorflow.org/guide/function#controlling_retracing and https://www.tensorflow.org/api_docs/python/tf/function for  more details.\n"
          ]
        },
        {
          "output_type": "stream",
          "name": "stdout",
          "text": [
            "1/1 [==============================] - 0s 82ms/step\n"
          ]
        },
        {
          "output_type": "display_data",
          "data": {
            "text/plain": [
              "<Figure size 720x504 with 1 Axes>"
            ],
            "image/png": "[encoded data removed]"
          },
          "metadata": {
            "needs_background": "light"
          }
        }
      ]
    },
    {
      "cell_type": "code",
      "source": [
        "mae_1 = mae(y_test,y_pred_1)\n",
        "mse_1 = mse(y_test,y_pred_1)\n",
        "mae_1, mse_1"
      ],
      "metadata": {
        "colab": {
          "base_uri": "https://localhost:8080/"
        },
        "id": "lmfL1pkGRN56",
        "outputId": "c28722f5-340d-4e20-9a9d-abbd2e6cc293"
      },
      "execution_count": 57,
      "outputs": [
        {
          "output_type": "execute_result",
          "data": {
            "text/plain": [
              "(<tf.Tensor: shape=(), dtype=float32, numpy=14.95621>,\n",
              " <tf.Tensor: shape=(), dtype=float32, numpy=224.53267>)"
            ]
          },
          "metadata": {},
          "execution_count": 57
        }
      ]
    },
    {
      "cell_type": "markdown",
      "source": [
        "**Build `model_2`**\n",
        "\n",
        "This time we'll add an extra dense layer (so now our model will have 2 layers) whilst keeping everything else the same."
      ],
      "metadata": {
        "id": "Z-EY6ZCARN3a"
      }
    },
    {
      "cell_type": "code",
      "source": [
        "# Set random seed\n",
        "tf.random.set_seed(42)\n",
        "\n",
        "# 1. Create a model\n",
        "model_2 = tf.keras.Sequential([\n",
        "    tf.keras.layers.Dense(1),\n",
        "    tf.keras.layers.Dense(1)  #Second layer\n",
        "])\n",
        "\n",
        "# 2. Compile the model\n",
        "model_2.compile(loss=['mae'],\n",
        "                optimizer = tf.keras.optimizers.SGD(),\n",
        "                metrics = ['mae'])\n",
        "\n",
        "# 3. Fit the model\n",
        "model_2.fit(tf.expand_dims(X_train,axis=-1),y_train,epochs=100,verbose=0)"
      ],
      "metadata": {
        "colab": {
          "base_uri": "https://localhost:8080/"
        },
        "id": "xa5ZAM4mRNvS",
        "outputId": "5a5a2ccb-c569-4ddd-845d-d735ce174d82"
      },
      "execution_count": 58,
      "outputs": [
        {
          "output_type": "execute_result",
          "data": {
            "text/plain": [
              "<keras.callbacks.History at 0x7ff68c2b38b0>"
            ]
          },
          "metadata": {},
          "execution_count": 58
        }
      ]
    },
    {
      "cell_type": "code",
      "source": [
        "y_pred_2 = model_2.predict(X_test)\n",
        "plot_functions(predictions=y_pred_2)"
      ],
      "metadata": {
        "colab": {
          "base_uri": "https://localhost:8080/",
          "height": 445
        },
        "id": "hDbLaYB7RNe9",
        "outputId": "34266d88-6be9-46b4-dbdd-d213dee0395d"
      },
      "execution_count": 59,
      "outputs": [
        {
          "output_type": "stream",
          "name": "stdout",
          "text": [
            "1/1 [==============================] - 0s 71ms/step\n"
          ]
        },
        {
          "output_type": "display_data",
          "data": {
            "text/plain": [
              "<Figure size 720x504 with 1 Axes>"
            ],
            "image/png": "[encoded data removed]"
          },
          "metadata": {
            "needs_background": "light"
          }
        }
      ]
    },
    {
      "cell_type": "code",
      "source": [
        "mae_2 = mae(y_test, y_pred_2)\n",
        "mse_2 = mse(y_test, y_pred_2)\n",
        "mae_2, mse_2"
      ],
      "metadata": {
        "colab": {
          "base_uri": "https://localhost:8080/"
        },
        "id": "JkBVqKf_KZNC",
        "outputId": "79d75909-8a24-4740-a6b8-6f5af89307bf"
      },
      "execution_count": 60,
      "outputs": [
        {
          "output_type": "execute_result",
          "data": {
            "text/plain": [
              "(<tf.Tensor: shape=(), dtype=float32, numpy=3.0702546>,\n",
              " <tf.Tensor: shape=(), dtype=float32, numpy=12.220525>)"
            ]
          },
          "metadata": {},
          "execution_count": 60
        }
      ]
    },
    {
      "cell_type": "markdown",
      "source": [
        "**Build `model_3`**\n",
        "\n",
        "For our 3rd model, we'll keep everything the same as `model_2` except this time we'll train for longer (500 epochs instead of 100).\n",
        "\n",
        "This will give our model more of a chance to learn the patterns in the data."
      ],
      "metadata": {
        "id": "htXvvsSmKbH7"
      }
    },
    {
      "cell_type": "code",
      "source": [
        "#Set random seed:\n",
        "tf.random.set_seed(42)\n",
        "\n",
        "# 1. create a model:\n",
        "model_3 = tf.keras.Sequential([\n",
        "    tf.keras.layers.Dense(1),\n",
        "])\n",
        "\n",
        "# 2. Compile the model\n",
        "model_3.compile(loss=['mae'],\n",
        "                optimizer = tf.keras.optimizers.SGD(),\n",
        "                metrics = ['mae'])\n",
        "\n",
        "#3. Fit the model\n",
        "model_3.fit(tf.expand_dims(X_train,axis=-1),y_train,epochs=500,verbose=0)"
      ],
      "metadata": {
        "colab": {
          "base_uri": "https://localhost:8080/"
        },
        "id": "TE6O7X6cKfuy",
        "outputId": "23bd9890-f5ed-4e05-e2da-7579a7d83909"
      },
      "execution_count": 61,
      "outputs": [
        {
          "output_type": "execute_result",
          "data": {
            "text/plain": [
              "<keras.callbacks.History at 0x7ff6e9714cd0>"
            ]
          },
          "metadata": {},
          "execution_count": 61
        }
      ]
    },
    {
      "cell_type": "code",
      "source": [
        "y_pred_3 = model_3.predict(X_test)\n",
        "plot_functions(predictions=y_pred_3)"
      ],
      "metadata": {
        "colab": {
          "base_uri": "https://localhost:8080/",
          "height": 446
        },
        "id": "ko9Awh3uKgA-",
        "outputId": "34219ea6-9267-4df9-87e1-0beffe05e2da"
      },
      "execution_count": 62,
      "outputs": [
        {
          "output_type": "stream",
          "name": "stdout",
          "text": [
            "1/1 [==============================] - 0s 63ms/step\n"
          ]
        },
        {
          "output_type": "display_data",
          "data": {
            "text/plain": [
              "<Figure size 720x504 with 1 Axes>"
            ],
            "image/png": "[encoded data removed]"
          },
          "metadata": {
            "needs_background": "light"
          }
        }
      ]
    },
    {
      "cell_type": "code",
      "source": [
        "mae_3 = mae(y_test,y_pred_3)\n",
        "mse_3 = mse(y_test,y_pred_3)\n",
        "mae_3, mse_3"
      ],
      "metadata": {
        "colab": {
          "base_uri": "https://localhost:8080/"
        },
        "id": "aF2vOVXCKgJU",
        "outputId": "657ce1b5-fc72-4205-a776-b399fe74cf07"
      },
      "execution_count": 63,
      "outputs": [
        {
          "output_type": "execute_result",
          "data": {
            "text/plain": [
              "(<tf.Tensor: shape=(), dtype=float32, numpy=27.262354>,\n",
              " <tf.Tensor: shape=(), dtype=float32, numpy=765.06635>)"
            ]
          },
          "metadata": {},
          "execution_count": 63
        }
      ]
    },
    {
      "cell_type": "code",
      "source": [
        "import pandas as pd"
      ],
      "metadata": {
        "id": "dIInscZd9lLX"
      },
      "execution_count": 64,
      "outputs": []
    },
    {
      "cell_type": "code",
      "source": [
        "model_results = [['model_1',mae_1.numpy(),mse_1.numpy()],\n",
        "                 ['model_2',mae_2.numpy(),mse_2.numpy()],\n",
        "                 ['model_3',mae_3.numpy(),mse_3.numpy()]]\n",
        "\n",
        "all_results = pd.DataFrame(model_results, columns=['models','mae','mse'])\n",
        "all_results"
      ],
      "metadata": {
        "colab": {
          "base_uri": "https://localhost:8080/",
          "height": 143
        },
        "id": "NvEcth8m6TeA",
        "outputId": "321bcda0-783e-4030-8d10-4ff0230d9078"
      },
      "execution_count": 65,
      "outputs": [
        {
          "output_type": "execute_result",
          "data": {
            "text/plain": [
              "    models        mae         mse\n",
              "0  model_1  14.956210  224.532669\n",
              "1  model_2   3.070255   12.220525\n",
              "2  model_3  27.262354  765.066345"
            ],
            "text/html": [
              "\n",
              "  <div id=\"df-b17de69f-62c6-4072-bc54-bb4a5b830808\">\n",
              "    <div class=\"colab-df-container\">\n",
              "      <div>\n",
              "<style scoped>\n",
              "    .dataframe tbody tr th:only-of-type {\n",
              "        vertical-align: middle;\n",
              "    }\n",
              "\n",
              "    .dataframe tbody tr th {\n",
              "        vertical-align: top;\n",
              "    }\n",
              "\n",
              "    .dataframe thead th {\n",
              "        text-align: right;\n",
              "    }\n",
              "</style>\n",
              "<table border=\"1\" class=\"dataframe\">\n",
              "  <thead>\n",
              "    <tr style=\"text-align: right;\">\n",
              "      <th></th>\n",
              "      <th>models</th>\n",
              "      <th>mae</th>\n",
              "      <th>mse</th>\n",
              "    </tr>\n",
              "  </thead>\n",
              "  <tbody>\n",
              "    <tr>\n",
              "      <th>0</th>\n",
              "      <td>model_1</td>\n",
              "      <td>14.956210</td>\n",
              "      <td>224.532669</td>\n",
              "    </tr>\n",
              "    <tr>\n",
              "      <th>1</th>\n",
              "      <td>model_2</td>\n",
              "      <td>3.070255</td>\n",
              "      <td>12.220525</td>\n",
              "    </tr>\n",
              "    <tr>\n",
              "      <th>2</th>\n",
              "      <td>model_3</td>\n",
              "      <td>27.262354</td>\n",
              "      <td>765.066345</td>\n",
              "    </tr>\n",
              "  </tbody>\n",
              "</table>\n",
              "</div>\n",
              "      <button class=\"colab-df-convert\" onclick=\"convertToInteractive('df-b17de69f-62c6-4072-bc54-bb4a5b830808')\"\n",
              "              title=\"Convert this dataframe to an interactive table.\"\n",
              "              style=\"display:none;\">\n",
              "        \n",
              "  <svg xmlns=\"http://www.w3.org/2000/svg\" height=\"24px\"viewBox=\"0 0 24 24\"\n",
              "       width=\"24px\">\n",
              "    <path d=\"M0 0h24v24H0V0z\" fill=\"none\"/>\n",
              "    <path d=\"M18.56 5.44l.94 2.06.94-2.06 2.06-.94-2.06-.94-.94-2.06-.94 2.06-2.06.94zm-11 1L8.5 8.5l.94-2.06 2.06-.94-2.06-.94L8.5 2.5l-.94 2.06-2.06.94zm10 10l.94 2.06.94-2.06 2.06-.94-2.06-.94-.94-2.06-.94 2.06-2.06.94z\"/><path d=\"M17.41 7.96l-1.37-1.37c-.4-.4-.92-.59-1.43-.59-.52 0-1.04.2-1.43.59L10.3 9.45l-7.72 7.72c-.78.78-.78 2.05 0 2.83L4 21.41c.39.39.9.59 1.41.59.51 0 1.02-.2 1.41-.59l7.78-7.78 2.81-2.81c.8-.78.8-2.07 0-2.86zM5.41 20L4 18.59l7.72-7.72 1.47 1.35L5.41 20z\"/>\n",
              "  </svg>\n",
              "      </button>\n",
              "      \n",
              "  <style>\n",
              "    .colab-df-container {\n",
              "      display:flex;\n",
              "      flex-wrap:wrap;\n",
              "      gap: 12px;\n",
              "    }\n",
              "\n",
              "    .colab-df-convert {\n",
              "      background-color: #E8F0FE;\n",
              "      border: none;\n",
              "      border-radius: 50%;\n",
              "      cursor: pointer;\n",
              "      display: none;\n",
              "      fill: #1967D2;\n",
              "      height: 32px;\n",
              "      padding: 0 0 0 0;\n",
              "      width: 32px;\n",
              "    }\n",
              "\n",
              "    .colab-df-convert:hover {\n",
              "      background-color: #E2EBFA;\n",
              "      box-shadow: 0px 1px 2px rgba(60, 64, 67, 0.3), 0px 1px 3px 1px rgba(60, 64, 67, 0.15);\n",
              "      fill: #174EA6;\n",
              "    }\n",
              "\n",
              "    [theme=dark] .colab-df-convert {\n",
              "      background-color: #3B4455;\n",
              "      fill: #D2E3FC;\n",
              "    }\n",
              "\n",
              "    [theme=dark] .colab-df-convert:hover {\n",
              "      background-color: #434B5C;\n",
              "      box-shadow: 0px 1px 3px 1px rgba(0, 0, 0, 0.15);\n",
              "      filter: drop-shadow(0px 1px 2px rgba(0, 0, 0, 0.3));\n",
              "      fill: #FFFFFF;\n",
              "    }\n",
              "  </style>\n",
              "\n",
              "      <script>\n",
              "        const buttonEl =\n",
              "          document.querySelector('#df-b17de69f-62c6-4072-bc54-bb4a5b830808 button.colab-df-convert');\n",
              "        buttonEl.style.display =\n",
              "          google.colab.kernel.accessAllowed ? 'block' : 'none';\n",
              "\n",
              "        async function convertToInteractive(key) {\n",
              "          const element = document.querySelector('#df-b17de69f-62c6-4072-bc54-bb4a5b830808');\n",
              "          const dataTable =\n",
              "            await google.colab.kernel.invokeFunction('convertToInteractive',\n",
              "                                                     [key], {});\n",
              "          if (!dataTable) return;\n",
              "\n",
              "          const docLinkHtml = 'Like what you see? Visit the ' +\n",
              "            '<a target=\"_blank\" href=https://colab.research.google.com/notebooks/data_table.ipynb>data table notebook</a>'\n",
              "            + ' to learn more about interactive tables.';\n",
              "          element.innerHTML = '';\n",
              "          dataTable['output_type'] = 'display_data';\n",
              "          await google.colab.output.renderOutput(dataTable, element);\n",
              "          const docLink = document.createElement('div');\n",
              "          docLink.innerHTML = docLinkHtml;\n",
              "          element.appendChild(docLink);\n",
              "        }\n",
              "      </script>\n",
              "    </div>\n",
              "  </div>\n",
              "  "
            ]
          },
          "metadata": {},
          "execution_count": 65
        }
      ]
    },
    {
      "cell_type": "markdown",
      "source": [
        "## Saving our models"
      ],
      "metadata": {
        "id": "vXdsfOOU6TN7"
      }
    },
    {
      "cell_type": "code",
      "source": [
        "# Save model using the SaveModel format\n",
        "\n",
        "model_1.save('best_model_SavedModel_format')"
      ],
      "metadata": {
        "colab": {
          "base_uri": "https://localhost:8080/"
        },
        "id": "Iue6Zv409y9Q",
        "outputId": "f0c214eb-b309-43f0-d3ca-8e5903fdc0af"
      },
      "execution_count": 66,
      "outputs": [
        {
          "output_type": "stream",
          "name": "stderr",
          "text": [
            "WARNING:absl:Found untraced functions such as _update_step_xla while saving (showing 1 of 1). These functions will not be directly callable after loading.\n"
          ]
        }
      ]
    },
    {
      "cell_type": "code",
      "source": [
        "# Save model using the HDF5 format\n",
        "\n",
        "model_1.save('best_model_HDF5_format.h5')"
      ],
      "metadata": {
        "id": "-lHdSOH0CZ5k"
      },
      "execution_count": 67,
      "outputs": []
    },
    {
      "cell_type": "markdown",
      "source": [
        "## Loading a Model"
      ],
      "metadata": {
        "id": "G5AvFIhYCZ2I"
      }
    },
    {
      "cell_type": "code",
      "source": [
        "load_Saved_model = tf.keras.models.load_model('/content/best_model_HDF5_format.h5')\n",
        "load_Saved_model.summary()"
      ],
      "metadata": {
        "colab": {
          "base_uri": "https://localhost:8080/"
        },
        "id": "mhiMemr1CZzn",
        "outputId": "9cba1f82-08a7-4624-cf52-743c3ae12785"
      },
      "execution_count": 68,
      "outputs": [
        {
          "output_type": "stream",
          "name": "stdout",
          "text": [
            "Model: \"sequential_6\"\n",
            "_________________________________________________________________\n",
            " Layer (type)                Output Shape              Param #   \n",
            "=================================================================\n",
            " dense_8 (Dense)             (None, 1)                 2         \n",
            "                                                                 \n",
            "=================================================================\n",
            "Total params: 2\n",
            "Trainable params: 2\n",
            "Non-trainable params: 0\n",
            "_________________________________________________________________\n"
          ]
        }
      ]
    },
    {
      "cell_type": "code",
      "source": [
        "model_1.summary()"
      ],
      "metadata": {
        "colab": {
          "base_uri": "https://localhost:8080/"
        },
        "id": "oHZycekQCZug",
        "outputId": "7f484ddc-6bc1-44da-f2ff-3c132c65bc8a"
      },
      "execution_count": 69,
      "outputs": [
        {
          "output_type": "stream",
          "name": "stdout",
          "text": [
            "Model: \"sequential_6\"\n",
            "_________________________________________________________________\n",
            " Layer (type)                Output Shape              Param #   \n",
            "=================================================================\n",
            " dense_8 (Dense)             (None, 1)                 2         \n",
            "                                                                 \n",
            "=================================================================\n",
            "Total params: 2\n",
            "Trainable params: 2\n",
            "Non-trainable params: 0\n",
            "_________________________________________________________________\n"
          ]
        }
      ]
    },
    {
      "cell_type": "code",
      "source": [
        "model_1.preds = model_1.predict(X_test)\n",
        "load_Saved_model_preds = load_Saved_model.predict(X_test)\n",
        "\n",
        "model_1.preds == load_Saved_model_preds"
      ],
      "metadata": {
        "colab": {
          "base_uri": "https://localhost:8080/"
        },
        "id": "a6qZgEvD9zQW",
        "outputId": "95cabac4-feb3-45e7-8e54-07fc38dbd5f3"
      },
      "execution_count": 70,
      "outputs": [
        {
          "output_type": "stream",
          "name": "stdout",
          "text": [
            "1/1 [==============================] - 0s 37ms/step\n",
            "1/1 [==============================] - 0s 64ms/step\n"
          ]
        },
        {
          "output_type": "execute_result",
          "data": {
            "text/plain": [
              "array([[ True],\n",
              "       [ True],\n",
              "       [ True],\n",
              "       [ True],\n",
              "       [ True],\n",
              "       [ True],\n",
              "       [ True],\n",
              "       [ True],\n",
              "       [ True],\n",
              "       [ True]])"
            ]
          },
          "metadata": {},
          "execution_count": 70
        }
      ]
    },
    {
      "cell_type": "markdown",
      "source": [
        "## Downloading a model (from Colab)"
      ],
      "metadata": {
        "id": "SfBHIM8G9x2i"
      }
    },
    {
      "cell_type": "code",
      "source": [
        "from google.colab import files\n",
        "files.download('/content/best_model_HDF5_format.h5')"
      ],
      "metadata": {
        "colab": {
          "base_uri": "https://localhost:8080/",
          "height": 17
        },
        "id": "2TOvs_UywXwn",
        "outputId": "84594ca1-9e9e-44b9-bb49-f1962d5123ef"
      },
      "execution_count": 71,
      "outputs": [
        {
          "output_type": "display_data",
          "data": {
            "text/plain": [
              "<IPython.core.display.Javascript object>"
            ],
            "application/javascript": [
              "\n",
              "    async function download(id, filename, size) {\n",
              "      if (!google.colab.kernel.accessAllowed) {\n",
              "        return;\n",
              "      }\n",
              "      const div = document.createElement('div');\n",
              "      const label = document.createElement('label');\n",
              "      label.textContent = `Downloading \"${filename}\": `;\n",
              "      div.appendChild(label);\n",
              "      const progress = document.createElement('progress');\n",
              "      progress.max = size;\n",
              "      div.appendChild(progress);\n",
              "      document.body.appendChild(div);\n",
              "\n",
              "      const buffers = [];\n",
              "      let downloaded = 0;\n",
              "\n",
              "      const channel = await google.colab.kernel.comms.open(id);\n",
              "      // Send a message to notify the kernel that we're ready.\n",
              "      channel.send({})\n",
              "\n",
              "      for await (const message of channel.messages) {\n",
              "        // Send a message to notify the kernel that we're ready.\n",
              "        channel.send({})\n",
              "        if (message.buffers) {\n",
              "          for (const buffer of message.buffers) {\n",
              "            buffers.push(buffer);\n",
              "            downloaded += buffer.byteLength;\n",
              "            progress.value = downloaded;\n",
              "          }\n",
              "        }\n",
              "      }\n",
              "      const blob = new Blob(buffers, {type: 'application/binary'});\n",
              "      const a = document.createElement('a');\n",
              "      a.href = window.URL.createObjectURL(blob);\n",
              "      a.download = filename;\n",
              "      div.appendChild(a);\n",
              "      a.click();\n",
              "      div.remove();\n",
              "    }\n",
              "  "
            ]
          },
          "metadata": {}
        },
        {
          "output_type": "display_data",
          "data": {
            "text/plain": [
              "<IPython.core.display.Javascript object>"
            ],
            "application/javascript": [
              "download(\"download_c507d66e-c9c1-4d76-b781-53da2e5c7671\", \"best_model_HDF5_format.h5\", 17704)"
            ]
          },
          "metadata": {}
        }
      ]
    },
    {
      "cell_type": "markdown",
      "source": [
        "## A larger example "
      ],
      "metadata": {
        "id": "pqwWg2gewijz"
      }
    },
    {
      "cell_type": "code",
      "source": [
        "insurance = pd.read_csv('https://raw.githubusercontent.com/stedy/Machine-Learning-with-R-datasets/master/insurance.csv')\n",
        "insurance.head()"
      ],
      "metadata": {
        "colab": {
          "base_uri": "https://localhost:8080/",
          "height": 206
        },
        "id": "lb13R5xFwi1O",
        "outputId": "c1bd6e83-32de-4a63-f850-3f2997c8e2e6"
      },
      "execution_count": 72,
      "outputs": [
        {
          "output_type": "execute_result",
          "data": {
            "text/plain": [
              "   age     sex     bmi  children smoker     region      charges\n",
              "0   19  female  27.900         0    yes  southwest  16884.92400\n",
              "1   18    male  33.770         1     no  southeast   1725.55230\n",
              "2   28    male  33.000         3     no  southeast   4449.46200\n",
              "3   33    male  22.705         0     no  northwest  21984.47061\n",
              "4   32    male  28.880         0     no  northwest   3866.85520"
            ],
            "text/html": [
              "\n",
              "  <div id=\"df-0e8c693c-469b-4f3a-be95-dbab0f54bad6\">\n",
              "    <div class=\"colab-df-container\">\n",
              "      <div>\n",
              "<style scoped>\n",
              "    .dataframe tbody tr th:only-of-type {\n",
              "        vertical-align: middle;\n",
              "    }\n",
              "\n",
              "    .dataframe tbody tr th {\n",
              "        vertical-align: top;\n",
              "    }\n",
              "\n",
              "    .dataframe thead th {\n",
              "        text-align: right;\n",
              "    }\n",
              "</style>\n",
              "<table border=\"1\" class=\"dataframe\">\n",
              "  <thead>\n",
              "    <tr style=\"text-align: right;\">\n",
              "      <th></th>\n",
              "      <th>age</th>\n",
              "      <th>sex</th>\n",
              "      <th>bmi</th>\n",
              "      <th>children</th>\n",
              "      <th>smoker</th>\n",
              "      <th>region</th>\n",
              "      <th>charges</th>\n",
              "    </tr>\n",
              "  </thead>\n",
              "  <tbody>\n",
              "    <tr>\n",
              "      <th>0</th>\n",
              "      <td>19</td>\n",
              "      <td>female</td>\n",
              "      <td>27.900</td>\n",
              "      <td>0</td>\n",
              "      <td>yes</td>\n",
              "      <td>southwest</td>\n",
              "      <td>16884.92400</td>\n",
              "    </tr>\n",
              "    <tr>\n",
              "      <th>1</th>\n",
              "      <td>18</td>\n",
              "      <td>male</td>\n",
              "      <td>33.770</td>\n",
              "      <td>1</td>\n",
              "      <td>no</td>\n",
              "      <td>southeast</td>\n",
              "      <td>1725.55230</td>\n",
              "    </tr>\n",
              "    <tr>\n",
              "      <th>2</th>\n",
              "      <td>28</td>\n",
              "      <td>male</td>\n",
              "      <td>33.000</td>\n",
              "      <td>3</td>\n",
              "      <td>no</td>\n",
              "      <td>southeast</td>\n",
              "      <td>4449.46200</td>\n",
              "    </tr>\n",
              "    <tr>\n",
              "      <th>3</th>\n",
              "      <td>33</td>\n",
              "      <td>male</td>\n",
              "      <td>22.705</td>\n",
              "      <td>0</td>\n",
              "      <td>no</td>\n",
              "      <td>northwest</td>\n",
              "      <td>21984.47061</td>\n",
              "    </tr>\n",
              "    <tr>\n",
              "      <th>4</th>\n",
              "      <td>32</td>\n",
              "      <td>male</td>\n",
              "      <td>28.880</td>\n",
              "      <td>0</td>\n",
              "      <td>no</td>\n",
              "      <td>northwest</td>\n",
              "      <td>3866.85520</td>\n",
              "    </tr>\n",
              "  </tbody>\n",
              "</table>\n",
              "</div>\n",
              "      <button class=\"colab-df-convert\" onclick=\"convertToInteractive('df-0e8c693c-469b-4f3a-be95-dbab0f54bad6')\"\n",
              "              title=\"Convert this dataframe to an interactive table.\"\n",
              "              style=\"display:none;\">\n",
              "        \n",
              "  <svg xmlns=\"http://www.w3.org/2000/svg\" height=\"24px\"viewBox=\"0 0 24 24\"\n",
              "       width=\"24px\">\n",
              "    <path d=\"M0 0h24v24H0V0z\" fill=\"none\"/>\n",
              "    <path d=\"M18.56 5.44l.94 2.06.94-2.06 2.06-.94-2.06-.94-.94-2.06-.94 2.06-2.06.94zm-11 1L8.5 8.5l.94-2.06 2.06-.94-2.06-.94L8.5 2.5l-.94 2.06-2.06.94zm10 10l.94 2.06.94-2.06 2.06-.94-2.06-.94-.94-2.06-.94 2.06-2.06.94z\"/><path d=\"M17.41 7.96l-1.37-1.37c-.4-.4-.92-.59-1.43-.59-.52 0-1.04.2-1.43.59L10.3 9.45l-7.72 7.72c-.78.78-.78 2.05 0 2.83L4 21.41c.39.39.9.59 1.41.59.51 0 1.02-.2 1.41-.59l7.78-7.78 2.81-2.81c.8-.78.8-2.07 0-2.86zM5.41 20L4 18.59l7.72-7.72 1.47 1.35L5.41 20z\"/>\n",
              "  </svg>\n",
              "      </button>\n",
              "      \n",
              "  <style>\n",
              "    .colab-df-container {\n",
              "      display:flex;\n",
              "      flex-wrap:wrap;\n",
              "      gap: 12px;\n",
              "    }\n",
              "\n",
              "    .colab-df-convert {\n",
              "      background-color: #E8F0FE;\n",
              "      border: none;\n",
              "      border-radius: 50%;\n",
              "      cursor: pointer;\n",
              "      display: none;\n",
              "      fill: #1967D2;\n",
              "      height: 32px;\n",
              "      padding: 0 0 0 0;\n",
              "      width: 32px;\n",
              "    }\n",
              "\n",
              "    .colab-df-convert:hover {\n",
              "      background-color: #E2EBFA;\n",
              "      box-shadow: 0px 1px 2px rgba(60, 64, 67, 0.3), 0px 1px 3px 1px rgba(60, 64, 67, 0.15);\n",
              "      fill: #174EA6;\n",
              "    }\n",
              "\n",
              "    [theme=dark] .colab-df-convert {\n",
              "      background-color: #3B4455;\n",
              "      fill: #D2E3FC;\n",
              "    }\n",
              "\n",
              "    [theme=dark] .colab-df-convert:hover {\n",
              "      background-color: #434B5C;\n",
              "      box-shadow: 0px 1px 3px 1px rgba(0, 0, 0, 0.15);\n",
              "      filter: drop-shadow(0px 1px 2px rgba(0, 0, 0, 0.3));\n",
              "      fill: #FFFFFF;\n",
              "    }\n",
              "  </style>\n",
              "\n",
              "      <script>\n",
              "        const buttonEl =\n",
              "          document.querySelector('#df-0e8c693c-469b-4f3a-be95-dbab0f54bad6 button.colab-df-convert');\n",
              "        buttonEl.style.display =\n",
              "          google.colab.kernel.accessAllowed ? 'block' : 'none';\n",
              "\n",
              "        async function convertToInteractive(key) {\n",
              "          const element = document.querySelector('#df-0e8c693c-469b-4f3a-be95-dbab0f54bad6');\n",
              "          const dataTable =\n",
              "            await google.colab.kernel.invokeFunction('convertToInteractive',\n",
              "                                                     [key], {});\n",
              "          if (!dataTable) return;\n",
              "\n",
              "          const docLinkHtml = 'Like what you see? Visit the ' +\n",
              "            '<a target=\"_blank\" href=https://colab.research.google.com/notebooks/data_table.ipynb>data table notebook</a>'\n",
              "            + ' to learn more about interactive tables.';\n",
              "          element.innerHTML = '';\n",
              "          dataTable['output_type'] = 'display_data';\n",
              "          await google.colab.output.renderOutput(dataTable, element);\n",
              "          const docLink = document.createElement('div');\n",
              "          docLink.innerHTML = docLinkHtml;\n",
              "          element.appendChild(docLink);\n",
              "        }\n",
              "      </script>\n",
              "    </div>\n",
              "  </div>\n",
              "  "
            ]
          },
          "metadata": {},
          "execution_count": 72
        }
      ]
    },
    {
      "cell_type": "code",
      "source": [
        "insurance.info()"
      ],
      "metadata": {
        "colab": {
          "base_uri": "https://localhost:8080/"
        },
        "id": "aaFfIUIUyntX",
        "outputId": "57b10bed-11a6-4180-bdf0-ced06da8df9a"
      },
      "execution_count": 73,
      "outputs": [
        {
          "output_type": "stream",
          "name": "stdout",
          "text": [
            "<class 'pandas.core.frame.DataFrame'>\n",
            "RangeIndex: 1338 entries, 0 to 1337\n",
            "Data columns (total 7 columns):\n",
            " #   Column    Non-Null Count  Dtype  \n",
            "---  ------    --------------  -----  \n",
            " 0   age       1338 non-null   int64  \n",
            " 1   sex       1338 non-null   object \n",
            " 2   bmi       1338 non-null   float64\n",
            " 3   children  1338 non-null   int64  \n",
            " 4   smoker    1338 non-null   object \n",
            " 5   region    1338 non-null   object \n",
            " 6   charges   1338 non-null   float64\n",
            "dtypes: float64(2), int64(2), object(3)\n",
            "memory usage: 73.3+ KB\n"
          ]
        }
      ]
    },
    {
      "cell_type": "code",
      "source": [
        "df_one_hot = pd.get_dummies(insurance)\n",
        "df_one_hot.head()"
      ],
      "metadata": {
        "colab": {
          "base_uri": "https://localhost:8080/",
          "height": 270
        },
        "id": "e_D6-pqhyn2M",
        "outputId": "2330eb93-02f0-432d-8d6a-2561e56aa96f"
      },
      "execution_count": 74,
      "outputs": [
        {
          "output_type": "execute_result",
          "data": {
            "text/plain": [
              "   age     bmi  children      charges  sex_female  sex_male  smoker_no  \\\n",
              "0   19  27.900         0  16884.92400           1         0          0   \n",
              "1   18  33.770         1   1725.55230           0         1          1   \n",
              "2   28  33.000         3   4449.46200           0         1          1   \n",
              "3   33  22.705         0  21984.47061           0         1          1   \n",
              "4   32  28.880         0   3866.85520           0         1          1   \n",
              "\n",
              "   smoker_yes  region_northeast  region_northwest  region_southeast  \\\n",
              "0           1                 0                 0                 0   \n",
              "1           0                 0                 0                 1   \n",
              "2           0                 0                 0                 1   \n",
              "3           0                 0                 1                 0   \n",
              "4           0                 0                 1                 0   \n",
              "\n",
              "   region_southwest  \n",
              "0                 1  \n",
              "1                 0  \n",
              "2                 0  \n",
              "3                 0  \n",
              "4                 0  "
            ],
            "text/html": [
              "\n",
              "  <div id=\"df-e4abe3f6-b9e0-4a20-a020-19cdd19708ea\">\n",
              "    <div class=\"colab-df-container\">\n",
              "      <div>\n",
              "<style scoped>\n",
              "    .dataframe tbody tr th:only-of-type {\n",
              "        vertical-align: middle;\n",
              "    }\n",
              "\n",
              "    .dataframe tbody tr th {\n",
              "        vertical-align: top;\n",
              "    }\n",
              "\n",
              "    .dataframe thead th {\n",
              "        text-align: right;\n",
              "    }\n",
              "</style>\n",
              "<table border=\"1\" class=\"dataframe\">\n",
              "  <thead>\n",
              "    <tr style=\"text-align: right;\">\n",
              "      <th></th>\n",
              "      <th>age</th>\n",
              "      <th>bmi</th>\n",
              "      <th>children</th>\n",
              "      <th>charges</th>\n",
              "      <th>sex_female</th>\n",
              "      <th>sex_male</th>\n",
              "      <th>smoker_no</th>\n",
              "      <th>smoker_yes</th>\n",
              "      <th>region_northeast</th>\n",
              "      <th>region_northwest</th>\n",
              "      <th>region_southeast</th>\n",
              "      <th>region_southwest</th>\n",
              "    </tr>\n",
              "  </thead>\n",
              "  <tbody>\n",
              "    <tr>\n",
              "      <th>0</th>\n",
              "      <td>19</td>\n",
              "      <td>27.900</td>\n",
              "      <td>0</td>\n",
              "      <td>16884.92400</td>\n",
              "      <td>1</td>\n",
              "      <td>0</td>\n",
              "      <td>0</td>\n",
              "      <td>1</td>\n",
              "      <td>0</td>\n",
              "      <td>0</td>\n",
              "      <td>0</td>\n",
              "      <td>1</td>\n",
              "    </tr>\n",
              "    <tr>\n",
              "      <th>1</th>\n",
              "      <td>18</td>\n",
              "      <td>33.770</td>\n",
              "      <td>1</td>\n",
              "      <td>1725.55230</td>\n",
              "      <td>0</td>\n",
              "      <td>1</td>\n",
              "      <td>1</td>\n",
              "      <td>0</td>\n",
              "      <td>0</td>\n",
              "      <td>0</td>\n",
              "      <td>1</td>\n",
              "      <td>0</td>\n",
              "    </tr>\n",
              "    <tr>\n",
              "      <th>2</th>\n",
              "      <td>28</td>\n",
              "      <td>33.000</td>\n",
              "      <td>3</td>\n",
              "      <td>4449.46200</td>\n",
              "      <td>0</td>\n",
              "      <td>1</td>\n",
              "      <td>1</td>\n",
              "      <td>0</td>\n",
              "      <td>0</td>\n",
              "      <td>0</td>\n",
              "      <td>1</td>\n",
              "      <td>0</td>\n",
              "    </tr>\n",
              "    <tr>\n",
              "      <th>3</th>\n",
              "      <td>33</td>\n",
              "      <td>22.705</td>\n",
              "      <td>0</td>\n",
              "      <td>21984.47061</td>\n",
              "      <td>0</td>\n",
              "      <td>1</td>\n",
              "      <td>1</td>\n",
              "      <td>0</td>\n",
              "      <td>0</td>\n",
              "      <td>1</td>\n",
              "      <td>0</td>\n",
              "      <td>0</td>\n",
              "    </tr>\n",
              "    <tr>\n",
              "      <th>4</th>\n",
              "      <td>32</td>\n",
              "      <td>28.880</td>\n",
              "      <td>0</td>\n",
              "      <td>3866.85520</td>\n",
              "      <td>0</td>\n",
              "      <td>1</td>\n",
              "      <td>1</td>\n",
              "      <td>0</td>\n",
              "      <td>0</td>\n",
              "      <td>1</td>\n",
              "      <td>0</td>\n",
              "      <td>0</td>\n",
              "    </tr>\n",
              "  </tbody>\n",
              "</table>\n",
              "</div>\n",
              "      <button class=\"colab-df-convert\" onclick=\"convertToInteractive('df-e4abe3f6-b9e0-4a20-a020-19cdd19708ea')\"\n",
              "              title=\"Convert this dataframe to an interactive table.\"\n",
              "              style=\"display:none;\">\n",
              "        \n",
              "  <svg xmlns=\"http://www.w3.org/2000/svg\" height=\"24px\"viewBox=\"0 0 24 24\"\n",
              "       width=\"24px\">\n",
              "    <path d=\"M0 0h24v24H0V0z\" fill=\"none\"/>\n",
              "    <path d=\"M18.56 5.44l.94 2.06.94-2.06 2.06-.94-2.06-.94-.94-2.06-.94 2.06-2.06.94zm-11 1L8.5 8.5l.94-2.06 2.06-.94-2.06-.94L8.5 2.5l-.94 2.06-2.06.94zm10 10l.94 2.06.94-2.06 2.06-.94-2.06-.94-.94-2.06-.94 2.06-2.06.94z\"/><path d=\"M17.41 7.96l-1.37-1.37c-.4-.4-.92-.59-1.43-.59-.52 0-1.04.2-1.43.59L10.3 9.45l-7.72 7.72c-.78.78-.78 2.05 0 2.83L4 21.41c.39.39.9.59 1.41.59.51 0 1.02-.2 1.41-.59l7.78-7.78 2.81-2.81c.8-.78.8-2.07 0-2.86zM5.41 20L4 18.59l7.72-7.72 1.47 1.35L5.41 20z\"/>\n",
              "  </svg>\n",
              "      </button>\n",
              "      \n",
              "  <style>\n",
              "    .colab-df-container {\n",
              "      display:flex;\n",
              "      flex-wrap:wrap;\n",
              "      gap: 12px;\n",
              "    }\n",
              "\n",
              "    .colab-df-convert {\n",
              "      background-color: #E8F0FE;\n",
              "      border: none;\n",
              "      border-radius: 50%;\n",
              "      cursor: pointer;\n",
              "      display: none;\n",
              "      fill: #1967D2;\n",
              "      height: 32px;\n",
              "      padding: 0 0 0 0;\n",
              "      width: 32px;\n",
              "    }\n",
              "\n",
              "    .colab-df-convert:hover {\n",
              "      background-color: #E2EBFA;\n",
              "      box-shadow: 0px 1px 2px rgba(60, 64, 67, 0.3), 0px 1px 3px 1px rgba(60, 64, 67, 0.15);\n",
              "      fill: #174EA6;\n",
              "    }\n",
              "\n",
              "    [theme=dark] .colab-df-convert {\n",
              "      background-color: #3B4455;\n",
              "      fill: #D2E3FC;\n",
              "    }\n",
              "\n",
              "    [theme=dark] .colab-df-convert:hover {\n",
              "      background-color: #434B5C;\n",
              "      box-shadow: 0px 1px 3px 1px rgba(0, 0, 0, 0.15);\n",
              "      filter: drop-shadow(0px 1px 2px rgba(0, 0, 0, 0.3));\n",
              "      fill: #FFFFFF;\n",
              "    }\n",
              "  </style>\n",
              "\n",
              "      <script>\n",
              "        const buttonEl =\n",
              "          document.querySelector('#df-e4abe3f6-b9e0-4a20-a020-19cdd19708ea button.colab-df-convert');\n",
              "        buttonEl.style.display =\n",
              "          google.colab.kernel.accessAllowed ? 'block' : 'none';\n",
              "\n",
              "        async function convertToInteractive(key) {\n",
              "          const element = document.querySelector('#df-e4abe3f6-b9e0-4a20-a020-19cdd19708ea');\n",
              "          const dataTable =\n",
              "            await google.colab.kernel.invokeFunction('convertToInteractive',\n",
              "                                                     [key], {});\n",
              "          if (!dataTable) return;\n",
              "\n",
              "          const docLinkHtml = 'Like what you see? Visit the ' +\n",
              "            '<a target=\"_blank\" href=https://colab.research.google.com/notebooks/data_table.ipynb>data table notebook</a>'\n",
              "            + ' to learn more about interactive tables.';\n",
              "          element.innerHTML = '';\n",
              "          dataTable['output_type'] = 'display_data';\n",
              "          await google.colab.output.renderOutput(dataTable, element);\n",
              "          const docLink = document.createElement('div');\n",
              "          docLink.innerHTML = docLinkHtml;\n",
              "          element.appendChild(docLink);\n",
              "        }\n",
              "      </script>\n",
              "    </div>\n",
              "  </div>\n",
              "  "
            ]
          },
          "metadata": {},
          "execution_count": 74
        }
      ]
    },
    {
      "cell_type": "code",
      "source": [
        "X = df_one_hot.drop('charges',axis=1)\n",
        "y = df_one_hot['charges']"
      ],
      "metadata": {
        "id": "A4rpZh2qyoFg"
      },
      "execution_count": 75,
      "outputs": []
    },
    {
      "cell_type": "code",
      "source": [
        "from sklearn.model_selection import train_test_split\n",
        "\n",
        "X_train, X_test, y_train, y_test = train_test_split(X, y, test_size=0.2, random_state=42)"
      ],
      "metadata": {
        "id": "9yA46CEp2UWE"
      },
      "execution_count": 76,
      "outputs": []
    },
    {
      "cell_type": "code",
      "source": [
        "tf.random.set_seed(42)\n",
        "\n",
        "insurance_model = tf.keras.Sequential([\n",
        "    tf.keras.layers.Dense(10),\n",
        "    tf.keras.layers.Dense(1)\n",
        "])\n",
        "\n",
        "insurance_model.compile(loss=['mae'],\n",
        "                        optimizer = tf.keras.optimizers.SGD(),\n",
        "                        metrics=['mae'])\n",
        "\n",
        "insurance_model.fit(X_train,y_train, epochs=100)"
      ],
      "metadata": {
        "colab": {
          "base_uri": "https://localhost:8080/"
        },
        "id": "IAO9Fhue3lZV",
        "outputId": "f0556d45-63d2-47c0-c40e-071a13bbef34"
      },
      "execution_count": 77,
      "outputs": [
        {
          "output_type": "stream",
          "name": "stdout",
          "text": [
            "Epoch 1/100\n",
            "34/34 [==============================] - 1s 4ms/step - loss: 8660.0361 - mae: 8660.0361\n",
            "Epoch 2/100\n",
            "34/34 [==============================] - 0s 3ms/step - loss: 7870.4722 - mae: 7870.4722\n",
            "Epoch 3/100\n",
            "34/34 [==============================] - 0s 4ms/step - loss: 7502.7837 - mae: 7502.7837\n",
            "Epoch 4/100\n",
            "34/34 [==============================] - 0s 3ms/step - loss: 7788.2773 - mae: 7788.2773\n",
            "Epoch 5/100\n",
            "34/34 [==============================] - 0s 3ms/step - loss: 7691.5669 - mae: 7691.5669\n",
            "Epoch 6/100\n",
            "34/34 [==============================] - 0s 3ms/step - loss: 7645.2495 - mae: 7645.2495\n",
            "Epoch 7/100\n",
            "34/34 [==============================] - 0s 3ms/step - loss: 7547.3540 - mae: 7547.3540\n",
            "Epoch 8/100\n",
            "34/34 [==============================] - 0s 4ms/step - loss: 7737.2891 - mae: 7737.2891\n",
            "Epoch 9/100\n",
            "34/34 [==============================] - 0s 3ms/step - loss: 7549.0103 - mae: 7549.0103\n",
            "Epoch 10/100\n",
            "34/34 [==============================] - 0s 4ms/step - loss: 7731.2090 - mae: 7731.2090\n",
            "Epoch 11/100\n",
            "34/34 [==============================] - 0s 3ms/step - loss: 7705.6958 - mae: 7705.6958\n",
            "Epoch 12/100\n",
            "34/34 [==============================] - 0s 4ms/step - loss: 7634.0996 - mae: 7634.0996\n",
            "Epoch 13/100\n",
            "34/34 [==============================] - 0s 3ms/step - loss: 7682.2510 - mae: 7682.2510\n",
            "Epoch 14/100\n",
            "34/34 [==============================] - 0s 3ms/step - loss: 7647.0137 - mae: 7647.0137\n",
            "Epoch 15/100\n",
            "34/34 [==============================] - 0s 3ms/step - loss: 7565.7534 - mae: 7565.7534\n",
            "Epoch 16/100\n",
            "34/34 [==============================] - 0s 3ms/step - loss: 7735.8594 - mae: 7735.8594\n",
            "Epoch 17/100\n",
            "34/34 [==============================] - 0s 3ms/step - loss: 7597.7891 - mae: 7597.7891\n",
            "Epoch 18/100\n",
            "34/34 [==============================] - 0s 3ms/step - loss: 7790.5117 - mae: 7790.5117\n",
            "Epoch 19/100\n",
            "34/34 [==============================] - 0s 3ms/step - loss: 7743.1206 - mae: 7743.1206\n",
            "Epoch 20/100\n",
            "34/34 [==============================] - 0s 4ms/step - loss: 7903.3989 - mae: 7903.3989\n",
            "Epoch 21/100\n",
            "34/34 [==============================] - 0s 4ms/step - loss: 7517.3618 - mae: 7517.3618\n",
            "Epoch 22/100\n",
            "34/34 [==============================] - 0s 3ms/step - loss: 7574.0073 - mae: 7574.0073\n",
            "Epoch 23/100\n",
            "34/34 [==============================] - 0s 3ms/step - loss: 7694.4717 - mae: 7694.4717\n",
            "Epoch 24/100\n",
            "34/34 [==============================] - 0s 2ms/step - loss: 7544.8638 - mae: 7544.8638\n",
            "Epoch 25/100\n",
            "34/34 [==============================] - 0s 2ms/step - loss: 7713.7866 - mae: 7713.7866\n",
            "Epoch 26/100\n",
            "34/34 [==============================] - 0s 2ms/step - loss: 7584.3945 - mae: 7584.3945\n",
            "Epoch 27/100\n",
            "34/34 [==============================] - 0s 2ms/step - loss: 7427.3008 - mae: 7427.3008\n",
            "Epoch 28/100\n",
            "34/34 [==============================] - 0s 2ms/step - loss: 7384.8462 - mae: 7384.8462\n",
            "Epoch 29/100\n",
            "34/34 [==============================] - 0s 2ms/step - loss: 7679.3145 - mae: 7679.3145\n",
            "Epoch 30/100\n",
            "34/34 [==============================] - 0s 2ms/step - loss: 7654.8716 - mae: 7654.8716\n",
            "Epoch 31/100\n",
            "34/34 [==============================] - 0s 3ms/step - loss: 7661.6206 - mae: 7661.6206\n",
            "Epoch 32/100\n",
            "34/34 [==============================] - 0s 2ms/step - loss: 7489.5854 - mae: 7489.5854\n",
            "Epoch 33/100\n",
            "34/34 [==============================] - 0s 2ms/step - loss: 7444.0620 - mae: 7444.0620\n",
            "Epoch 34/100\n",
            "34/34 [==============================] - 0s 2ms/step - loss: 7471.4678 - mae: 7471.4678\n",
            "Epoch 35/100\n",
            "34/34 [==============================] - 0s 2ms/step - loss: 7596.2837 - mae: 7596.2837\n",
            "Epoch 36/100\n",
            "34/34 [==============================] - 0s 2ms/step - loss: 7518.2285 - mae: 7518.2285\n",
            "Epoch 37/100\n",
            "34/34 [==============================] - 0s 2ms/step - loss: 7649.9526 - mae: 7649.9526\n",
            "Epoch 38/100\n",
            "34/34 [==============================] - 0s 2ms/step - loss: 7492.4536 - mae: 7492.4536\n",
            "Epoch 39/100\n",
            "34/34 [==============================] - 0s 2ms/step - loss: 7538.7256 - mae: 7538.7256\n",
            "Epoch 40/100\n",
            "34/34 [==============================] - 0s 2ms/step - loss: 7364.9878 - mae: 7364.9878\n",
            "Epoch 41/100\n",
            "34/34 [==============================] - 0s 2ms/step - loss: 7685.7529 - mae: 7685.7529\n",
            "Epoch 42/100\n",
            "34/34 [==============================] - 0s 2ms/step - loss: 7570.6602 - mae: 7570.6602\n",
            "Epoch 43/100\n",
            "34/34 [==============================] - 0s 2ms/step - loss: 7646.4111 - mae: 7646.4111\n",
            "Epoch 44/100\n",
            "34/34 [==============================] - 0s 2ms/step - loss: 7390.2461 - mae: 7390.2461\n",
            "Epoch 45/100\n",
            "34/34 [==============================] - 0s 2ms/step - loss: 7473.6211 - mae: 7473.6211\n",
            "Epoch 46/100\n",
            "34/34 [==============================] - 0s 2ms/step - loss: 7392.9585 - mae: 7392.9585\n",
            "Epoch 47/100\n",
            "34/34 [==============================] - 0s 2ms/step - loss: 7474.0654 - mae: 7474.0654\n",
            "Epoch 48/100\n",
            "34/34 [==============================] - 0s 2ms/step - loss: 7534.2412 - mae: 7534.2412\n",
            "Epoch 49/100\n",
            "34/34 [==============================] - 0s 2ms/step - loss: 7533.5063 - mae: 7533.5063\n",
            "Epoch 50/100\n",
            "34/34 [==============================] - 0s 2ms/step - loss: 7508.8696 - mae: 7508.8696\n",
            "Epoch 51/100\n",
            "34/34 [==============================] - 0s 2ms/step - loss: 7391.0337 - mae: 7391.0337\n",
            "Epoch 52/100\n",
            "34/34 [==============================] - 0s 2ms/step - loss: 7578.9707 - mae: 7578.9707\n",
            "Epoch 53/100\n",
            "34/34 [==============================] - 0s 2ms/step - loss: 7579.5332 - mae: 7579.5332\n",
            "Epoch 54/100\n",
            "34/34 [==============================] - 0s 2ms/step - loss: 7251.5679 - mae: 7251.5679\n",
            "Epoch 55/100\n",
            "34/34 [==============================] - 0s 2ms/step - loss: 7489.6504 - mae: 7489.6504\n",
            "Epoch 56/100\n",
            "34/34 [==============================] - 0s 2ms/step - loss: 7227.4009 - mae: 7227.4009\n",
            "Epoch 57/100\n",
            "34/34 [==============================] - 0s 2ms/step - loss: 7483.3281 - mae: 7483.3281\n",
            "Epoch 58/100\n",
            "34/34 [==============================] - 0s 2ms/step - loss: 7257.0044 - mae: 7257.0044\n",
            "Epoch 59/100\n",
            "34/34 [==============================] - 0s 2ms/step - loss: 7413.8149 - mae: 7413.8149\n",
            "Epoch 60/100\n",
            "34/34 [==============================] - 0s 2ms/step - loss: 7432.4966 - mae: 7432.4966\n",
            "Epoch 61/100\n",
            "34/34 [==============================] - 0s 2ms/step - loss: 7403.2329 - mae: 7403.2329\n",
            "Epoch 62/100\n",
            "34/34 [==============================] - 0s 2ms/step - loss: 7412.4214 - mae: 7412.4214\n",
            "Epoch 63/100\n",
            "34/34 [==============================] - 0s 2ms/step - loss: 7373.4824 - mae: 7373.4824\n",
            "Epoch 64/100\n",
            "34/34 [==============================] - 0s 2ms/step - loss: 7261.9019 - mae: 7261.9019\n",
            "Epoch 65/100\n",
            "34/34 [==============================] - 0s 2ms/step - loss: 7338.8315 - mae: 7338.8315\n",
            "Epoch 66/100\n",
            "34/34 [==============================] - 0s 2ms/step - loss: 7494.7231 - mae: 7494.7231\n",
            "Epoch 67/100\n",
            "34/34 [==============================] - 0s 2ms/step - loss: 7333.7793 - mae: 7333.7793\n",
            "Epoch 68/100\n",
            "34/34 [==============================] - 0s 2ms/step - loss: 7468.2085 - mae: 7468.2085\n",
            "Epoch 69/100\n",
            "34/34 [==============================] - 0s 2ms/step - loss: 7645.7617 - mae: 7645.7617\n",
            "Epoch 70/100\n",
            "34/34 [==============================] - 0s 2ms/step - loss: 7574.2202 - mae: 7574.2202\n",
            "Epoch 71/100\n",
            "34/34 [==============================] - 0s 2ms/step - loss: 7187.2939 - mae: 7187.2939\n",
            "Epoch 72/100\n",
            "34/34 [==============================] - 0s 2ms/step - loss: 7265.3525 - mae: 7265.3525\n",
            "Epoch 73/100\n",
            "34/34 [==============================] - 0s 2ms/step - loss: 7429.5806 - mae: 7429.5806\n",
            "Epoch 74/100\n",
            "34/34 [==============================] - 0s 2ms/step - loss: 7515.7710 - mae: 7515.7710\n",
            "Epoch 75/100\n",
            "34/34 [==============================] - 0s 2ms/step - loss: 7258.2368 - mae: 7258.2368\n",
            "Epoch 76/100\n",
            "34/34 [==============================] - 0s 2ms/step - loss: 7155.3853 - mae: 7155.3853\n",
            "Epoch 77/100\n",
            "34/34 [==============================] - 0s 2ms/step - loss: 7290.2373 - mae: 7290.2373\n",
            "Epoch 78/100\n",
            "34/34 [==============================] - 0s 2ms/step - loss: 7203.6792 - mae: 7203.6792\n",
            "Epoch 79/100\n",
            "34/34 [==============================] - 0s 2ms/step - loss: 7529.5654 - mae: 7529.5654\n",
            "Epoch 80/100\n",
            "34/34 [==============================] - 0s 2ms/step - loss: 7243.6533 - mae: 7243.6533\n",
            "Epoch 81/100\n",
            "34/34 [==============================] - 0s 2ms/step - loss: 7259.0483 - mae: 7259.0483\n",
            "Epoch 82/100\n",
            "34/34 [==============================] - 0s 2ms/step - loss: 7174.4404 - mae: 7174.4404\n",
            "Epoch 83/100\n",
            "34/34 [==============================] - 0s 2ms/step - loss: 7510.1226 - mae: 7510.1226\n",
            "Epoch 84/100\n",
            "34/34 [==============================] - 0s 2ms/step - loss: 7378.0059 - mae: 7378.0059\n",
            "Epoch 85/100\n",
            "34/34 [==============================] - 0s 2ms/step - loss: 7312.6636 - mae: 7312.6636\n",
            "Epoch 86/100\n",
            "34/34 [==============================] - 0s 2ms/step - loss: 7484.6074 - mae: 7484.6074\n",
            "Epoch 87/100\n",
            "34/34 [==============================] - 0s 2ms/step - loss: 7248.8999 - mae: 7248.8999\n",
            "Epoch 88/100\n",
            "34/34 [==============================] - 0s 2ms/step - loss: 7330.6841 - mae: 7330.6841\n",
            "Epoch 89/100\n",
            "34/34 [==============================] - 0s 2ms/step - loss: 7424.5415 - mae: 7424.5415\n",
            "Epoch 90/100\n",
            "34/34 [==============================] - 0s 2ms/step - loss: 6971.7212 - mae: 6971.7212\n",
            "Epoch 91/100\n",
            "34/34 [==============================] - 0s 3ms/step - loss: 7161.9189 - mae: 7161.9189\n",
            "Epoch 92/100\n",
            "34/34 [==============================] - 0s 2ms/step - loss: 7261.2759 - mae: 7261.2759\n",
            "Epoch 93/100\n",
            "34/34 [==============================] - 0s 2ms/step - loss: 7520.7754 - mae: 7520.7754\n",
            "Epoch 94/100\n",
            "34/34 [==============================] - 0s 2ms/step - loss: 7187.1313 - mae: 7187.1313\n",
            "Epoch 95/100\n",
            "34/34 [==============================] - 0s 2ms/step - loss: 7163.2964 - mae: 7163.2964\n",
            "Epoch 96/100\n",
            "34/34 [==============================] - 0s 2ms/step - loss: 7230.2646 - mae: 7230.2646\n",
            "Epoch 97/100\n",
            "34/34 [==============================] - 0s 2ms/step - loss: 7164.5908 - mae: 7164.5908\n",
            "Epoch 98/100\n",
            "34/34 [==============================] - 0s 2ms/step - loss: 7291.6094 - mae: 7291.6094\n",
            "Epoch 99/100\n",
            "34/34 [==============================] - 0s 2ms/step - loss: 7397.4126 - mae: 7397.4126\n",
            "Epoch 100/100\n",
            "34/34 [==============================] - 0s 2ms/step - loss: 7131.7554 - mae: 7131.7554\n"
          ]
        },
        {
          "output_type": "execute_result",
          "data": {
            "text/plain": [
              "<keras.callbacks.History at 0x7ff6e93c3100>"
            ]
          },
          "metadata": {},
          "execution_count": 77
        }
      ]
    },
    {
      "cell_type": "code",
      "source": [
        "insurance_model.evaluate(X_test,y_test)"
      ],
      "metadata": {
        "colab": {
          "base_uri": "https://localhost:8080/"
        },
        "id": "FDDiOesX3liB",
        "outputId": "9a19045c-48ce-484d-cfb4-aca8a3ac86c0"
      },
      "execution_count": 78,
      "outputs": [
        {
          "output_type": "stream",
          "name": "stdout",
          "text": [
            "9/9 [==============================] - 0s 2ms/step - loss: 6922.0942 - mae: 6922.0942\n"
          ]
        },
        {
          "output_type": "execute_result",
          "data": {
            "text/plain": [
              "[6922.09423828125, 6922.09423828125]"
            ]
          },
          "metadata": {},
          "execution_count": 78
        }
      ]
    },
    {
      "cell_type": "code",
      "source": [
        "y_train.median(), y_train.mean()"
      ],
      "metadata": {
        "colab": {
          "base_uri": "https://localhost:8080/"
        },
        "id": "njGgNFW1VXnS",
        "outputId": "f6e80a22-9b4f-49c3-ea2c-bd28b854644e"
      },
      "execution_count": 79,
      "outputs": [
        {
          "output_type": "execute_result",
          "data": {
            "text/plain": [
              "(9575.4421, 13346.089736364485)"
            ]
          },
          "metadata": {},
          "execution_count": 79
        }
      ]
    },
    {
      "cell_type": "markdown",
      "source": [
        "Our model didn't perform very well, let's try a bigger model.\n",
        "\n",
        "We'll try 3 things:\n",
        "- Increasing the number of layers (2 -> 3).\n",
        "- Increasing the number of units in each layer (except for the output layer).\n",
        "- Changing the optimizer (from SGD to Adam).\n",
        "\n",
        "Everything else will stay the same."
      ],
      "metadata": {
        "id": "Ti6q03PDt-cY"
      }
    },
    {
      "cell_type": "code",
      "source": [
        "tf.random.set_seed(42)\n",
        "\n",
        "insurance_model_2 = tf.keras.Sequential([\n",
        "    tf.keras.layers.Dense(100),\n",
        "    tf.keras.layers.Dense(10),\n",
        "    tf.keras.layers.Dense(1)\n",
        "])\n",
        "\n",
        "insurance_model_2.compile(loss=['mae'],\n",
        "                          optimizer = tf.keras.optimizers.Adam(),\n",
        "                          metrics = ['mae'])\n",
        "\n",
        "insurance_model_2.fit(X_train,y_train,epochs=100)"
      ],
      "metadata": {
        "colab": {
          "base_uri": "https://localhost:8080/"
        },
        "id": "csR4cfO1VX0v",
        "outputId": "7a080fac-3d7b-480b-cb92-8cab49c2b5c4"
      },
      "execution_count": 80,
      "outputs": [
        {
          "output_type": "stream",
          "name": "stdout",
          "text": [
            "Epoch 1/100\n",
            "34/34 [==============================] - 1s 2ms/step - loss: 13295.0146 - mae: 13295.0146\n",
            "Epoch 2/100\n",
            "34/34 [==============================] - 0s 3ms/step - loss: 13140.0645 - mae: 13140.0645\n",
            "Epoch 3/100\n",
            "34/34 [==============================] - 0s 3ms/step - loss: 12810.1074 - mae: 12810.1074\n",
            "Epoch 4/100\n",
            "34/34 [==============================] - 0s 2ms/step - loss: 12157.5723 - mae: 12157.5723\n",
            "Epoch 5/100\n",
            "34/34 [==============================] - 0s 2ms/step - loss: 11063.5732 - mae: 11063.5732\n",
            "Epoch 6/100\n",
            "34/34 [==============================] - 0s 2ms/step - loss: 9657.5811 - mae: 9657.5811\n",
            "Epoch 7/100\n",
            "34/34 [==============================] - 0s 3ms/step - loss: 8330.3438 - mae: 8330.3438\n",
            "Epoch 8/100\n",
            "34/34 [==============================] - 0s 2ms/step - loss: 7614.5479 - mae: 7614.5479\n",
            "Epoch 9/100\n",
            "34/34 [==============================] - 0s 2ms/step - loss: 7471.3169 - mae: 7471.3169\n",
            "Epoch 10/100\n",
            "34/34 [==============================] - 0s 2ms/step - loss: 7447.5444 - mae: 7447.5444\n",
            "Epoch 11/100\n",
            "34/34 [==============================] - 0s 2ms/step - loss: 7428.5303 - mae: 7428.5303\n",
            "Epoch 12/100\n",
            "34/34 [==============================] - 0s 3ms/step - loss: 7406.2568 - mae: 7406.2568\n",
            "Epoch 13/100\n",
            "34/34 [==============================] - 0s 3ms/step - loss: 7385.9912 - mae: 7385.9912\n",
            "Epoch 14/100\n",
            "34/34 [==============================] - 0s 4ms/step - loss: 7363.3096 - mae: 7363.3096\n",
            "Epoch 15/100\n",
            "34/34 [==============================] - 0s 4ms/step - loss: 7343.9141 - mae: 7343.9141\n",
            "Epoch 16/100\n",
            "34/34 [==============================] - 0s 3ms/step - loss: 7321.5039 - mae: 7321.5039\n",
            "Epoch 17/100\n",
            "34/34 [==============================] - 0s 4ms/step - loss: 7300.5483 - mae: 7300.5483\n",
            "Epoch 18/100\n",
            "34/34 [==============================] - 0s 4ms/step - loss: 7276.9082 - mae: 7276.9082\n",
            "Epoch 19/100\n",
            "34/34 [==============================] - 0s 4ms/step - loss: 7254.0518 - mae: 7254.0518\n",
            "Epoch 20/100\n",
            "34/34 [==============================] - 0s 4ms/step - loss: 7230.7017 - mae: 7230.7017\n",
            "Epoch 21/100\n",
            "34/34 [==============================] - 0s 3ms/step - loss: 7209.0459 - mae: 7209.0459\n",
            "Epoch 22/100\n",
            "34/34 [==============================] - 0s 3ms/step - loss: 7184.7056 - mae: 7184.7056\n",
            "Epoch 23/100\n",
            "34/34 [==============================] - 0s 3ms/step - loss: 7159.2358 - mae: 7159.2358\n",
            "Epoch 24/100\n",
            "34/34 [==============================] - 0s 3ms/step - loss: 7134.0464 - mae: 7134.0464\n",
            "Epoch 25/100\n",
            "34/34 [==============================] - 0s 3ms/step - loss: 7116.6294 - mae: 7116.6294\n",
            "Epoch 26/100\n",
            "34/34 [==============================] - 0s 4ms/step - loss: 7084.1143 - mae: 7084.1143\n",
            "Epoch 27/100\n",
            "34/34 [==============================] - 0s 4ms/step - loss: 7054.7368 - mae: 7054.7368\n",
            "Epoch 28/100\n",
            "34/34 [==============================] - 0s 4ms/step - loss: 7026.0801 - mae: 7026.0801\n",
            "Epoch 29/100\n",
            "34/34 [==============================] - 0s 4ms/step - loss: 6997.7651 - mae: 6997.7651\n",
            "Epoch 30/100\n",
            "34/34 [==============================] - 0s 4ms/step - loss: 6969.7305 - mae: 6969.7305\n",
            "Epoch 31/100\n",
            "34/34 [==============================] - 0s 4ms/step - loss: 6938.4395 - mae: 6938.4395\n",
            "Epoch 32/100\n",
            "34/34 [==============================] - 0s 4ms/step - loss: 6910.6987 - mae: 6910.6987\n",
            "Epoch 33/100\n",
            "34/34 [==============================] - 0s 4ms/step - loss: 6877.4521 - mae: 6877.4521\n",
            "Epoch 34/100\n",
            "34/34 [==============================] - 0s 4ms/step - loss: 6845.0381 - mae: 6845.0381\n",
            "Epoch 35/100\n",
            "34/34 [==============================] - 0s 4ms/step - loss: 6811.6343 - mae: 6811.6343\n",
            "Epoch 36/100\n",
            "34/34 [==============================] - 0s 2ms/step - loss: 6776.9663 - mae: 6776.9663\n",
            "Epoch 37/100\n",
            "34/34 [==============================] - 0s 2ms/step - loss: 6740.5439 - mae: 6740.5439\n",
            "Epoch 38/100\n",
            "34/34 [==============================] - 0s 2ms/step - loss: 6706.7798 - mae: 6706.7798\n",
            "Epoch 39/100\n",
            "34/34 [==============================] - 0s 2ms/step - loss: 6667.3203 - mae: 6667.3203\n",
            "Epoch 40/100\n",
            "34/34 [==============================] - 0s 2ms/step - loss: 6630.7319 - mae: 6630.7319\n",
            "Epoch 41/100\n",
            "34/34 [==============================] - 0s 2ms/step - loss: 6596.4463 - mae: 6596.4463\n",
            "Epoch 42/100\n",
            "34/34 [==============================] - 0s 2ms/step - loss: 6564.8853 - mae: 6564.8853\n",
            "Epoch 43/100\n",
            "34/34 [==============================] - 0s 2ms/step - loss: 6533.1938 - mae: 6533.1938\n",
            "Epoch 44/100\n",
            "34/34 [==============================] - 0s 2ms/step - loss: 6506.6133 - mae: 6506.6133\n",
            "Epoch 45/100\n",
            "34/34 [==============================] - 0s 2ms/step - loss: 6489.0957 - mae: 6489.0957\n",
            "Epoch 46/100\n",
            "34/34 [==============================] - 0s 2ms/step - loss: 6470.0620 - mae: 6470.0620\n",
            "Epoch 47/100\n",
            "34/34 [==============================] - 0s 2ms/step - loss: 6452.8169 - mae: 6452.8169\n",
            "Epoch 48/100\n",
            "34/34 [==============================] - 0s 3ms/step - loss: 6436.9990 - mae: 6436.9990\n",
            "Epoch 49/100\n",
            "34/34 [==============================] - 0s 2ms/step - loss: 6423.5044 - mae: 6423.5044\n",
            "Epoch 50/100\n",
            "34/34 [==============================] - 0s 2ms/step - loss: 6409.2446 - mae: 6409.2446\n",
            "Epoch 51/100\n",
            "34/34 [==============================] - 0s 2ms/step - loss: 6395.3335 - mae: 6395.3335\n",
            "Epoch 52/100\n",
            "34/34 [==============================] - 0s 2ms/step - loss: 6383.5127 - mae: 6383.5127\n",
            "Epoch 53/100\n",
            "34/34 [==============================] - 0s 2ms/step - loss: 6369.2056 - mae: 6369.2056\n",
            "Epoch 54/100\n",
            "34/34 [==============================] - 0s 2ms/step - loss: 6355.0273 - mae: 6355.0273\n",
            "Epoch 55/100\n",
            "34/34 [==============================] - 0s 2ms/step - loss: 6341.7119 - mae: 6341.7119\n",
            "Epoch 56/100\n",
            "34/34 [==============================] - 0s 2ms/step - loss: 6327.1167 - mae: 6327.1167\n",
            "Epoch 57/100\n",
            "34/34 [==============================] - 0s 2ms/step - loss: 6314.4668 - mae: 6314.4668\n",
            "Epoch 58/100\n",
            "34/34 [==============================] - 0s 3ms/step - loss: 6299.8188 - mae: 6299.8188\n",
            "Epoch 59/100\n",
            "34/34 [==============================] - 0s 2ms/step - loss: 6284.4585 - mae: 6284.4585\n",
            "Epoch 60/100\n",
            "34/34 [==============================] - 0s 2ms/step - loss: 6273.8530 - mae: 6273.8530\n",
            "Epoch 61/100\n",
            "34/34 [==============================] - 0s 2ms/step - loss: 6253.9731 - mae: 6253.9731\n",
            "Epoch 62/100\n",
            "34/34 [==============================] - 0s 2ms/step - loss: 6241.7847 - mae: 6241.7847\n",
            "Epoch 63/100\n",
            "34/34 [==============================] - 0s 2ms/step - loss: 6222.5449 - mae: 6222.5449\n",
            "Epoch 64/100\n",
            "34/34 [==============================] - 0s 2ms/step - loss: 6205.8936 - mae: 6205.8936\n",
            "Epoch 65/100\n",
            "34/34 [==============================] - 0s 2ms/step - loss: 6188.4688 - mae: 6188.4688\n",
            "Epoch 66/100\n",
            "34/34 [==============================] - 0s 2ms/step - loss: 6170.9897 - mae: 6170.9897\n",
            "Epoch 67/100\n",
            "34/34 [==============================] - 0s 2ms/step - loss: 6158.1318 - mae: 6158.1318\n",
            "Epoch 68/100\n",
            "34/34 [==============================] - 0s 2ms/step - loss: 6134.7368 - mae: 6134.7368\n",
            "Epoch 69/100\n",
            "34/34 [==============================] - 0s 2ms/step - loss: 6118.8857 - mae: 6118.8857\n",
            "Epoch 70/100\n",
            "34/34 [==============================] - 0s 2ms/step - loss: 6098.2227 - mae: 6098.2227\n",
            "Epoch 71/100\n",
            "34/34 [==============================] - 0s 2ms/step - loss: 6078.5581 - mae: 6078.5581\n",
            "Epoch 72/100\n",
            "34/34 [==============================] - 0s 2ms/step - loss: 6058.6890 - mae: 6058.6890\n",
            "Epoch 73/100\n",
            "34/34 [==============================] - 0s 2ms/step - loss: 6045.0063 - mae: 6045.0063\n",
            "Epoch 74/100\n",
            "34/34 [==============================] - 0s 2ms/step - loss: 6015.8662 - mae: 6015.8662\n",
            "Epoch 75/100\n",
            "34/34 [==============================] - 0s 2ms/step - loss: 5993.4404 - mae: 5993.4404\n",
            "Epoch 76/100\n",
            "34/34 [==============================] - 0s 2ms/step - loss: 5979.6592 - mae: 5979.6592\n",
            "Epoch 77/100\n",
            "34/34 [==============================] - 0s 2ms/step - loss: 5946.9668 - mae: 5946.9668\n",
            "Epoch 78/100\n",
            "34/34 [==============================] - 0s 2ms/step - loss: 5923.4746 - mae: 5923.4746\n",
            "Epoch 79/100\n",
            "34/34 [==============================] - 0s 2ms/step - loss: 5898.6621 - mae: 5898.6621\n",
            "Epoch 80/100\n",
            "34/34 [==============================] - 0s 2ms/step - loss: 5870.7202 - mae: 5870.7202\n",
            "Epoch 81/100\n",
            "34/34 [==============================] - 0s 2ms/step - loss: 5844.2578 - mae: 5844.2578\n",
            "Epoch 82/100\n",
            "34/34 [==============================] - 0s 3ms/step - loss: 5815.5815 - mae: 5815.5815\n",
            "Epoch 83/100\n",
            "34/34 [==============================] - 0s 2ms/step - loss: 5787.2148 - mae: 5787.2148\n",
            "Epoch 84/100\n",
            "34/34 [==============================] - 0s 2ms/step - loss: 5754.1411 - mae: 5754.1411\n",
            "Epoch 85/100\n",
            "34/34 [==============================] - 0s 2ms/step - loss: 5726.1797 - mae: 5726.1797\n",
            "Epoch 86/100\n",
            "34/34 [==============================] - 0s 2ms/step - loss: 5693.1812 - mae: 5693.1812\n",
            "Epoch 87/100\n",
            "34/34 [==============================] - 0s 2ms/step - loss: 5655.5923 - mae: 5655.5923\n",
            "Epoch 88/100\n",
            "34/34 [==============================] - 0s 2ms/step - loss: 5621.0142 - mae: 5621.0142\n",
            "Epoch 89/100\n",
            "34/34 [==============================] - 0s 2ms/step - loss: 5581.4360 - mae: 5581.4360\n",
            "Epoch 90/100\n",
            "34/34 [==============================] - 0s 2ms/step - loss: 5539.9312 - mae: 5539.9312\n",
            "Epoch 91/100\n",
            "34/34 [==============================] - 0s 2ms/step - loss: 5503.4868 - mae: 5503.4868\n",
            "Epoch 92/100\n",
            "34/34 [==============================] - 0s 2ms/step - loss: 5454.3262 - mae: 5454.3262\n",
            "Epoch 93/100\n",
            "34/34 [==============================] - 0s 2ms/step - loss: 5412.0259 - mae: 5412.0259\n",
            "Epoch 94/100\n",
            "34/34 [==============================] - 0s 3ms/step - loss: 5364.9897 - mae: 5364.9897\n",
            "Epoch 95/100\n",
            "34/34 [==============================] - 0s 2ms/step - loss: 5314.3555 - mae: 5314.3555\n",
            "Epoch 96/100\n",
            "34/34 [==============================] - 0s 2ms/step - loss: 5267.3052 - mae: 5267.3052\n",
            "Epoch 97/100\n",
            "34/34 [==============================] - 0s 2ms/step - loss: 5213.8462 - mae: 5213.8462\n",
            "Epoch 98/100\n",
            "34/34 [==============================] - 0s 2ms/step - loss: 5152.3779 - mae: 5152.3779\n",
            "Epoch 99/100\n",
            "34/34 [==============================] - 0s 2ms/step - loss: 5094.5591 - mae: 5094.5591\n",
            "Epoch 100/100\n",
            "34/34 [==============================] - 0s 3ms/step - loss: 5039.0728 - mae: 5039.0728\n"
          ]
        },
        {
          "output_type": "execute_result",
          "data": {
            "text/plain": [
              "<keras.callbacks.History at 0x7ff68bf879a0>"
            ]
          },
          "metadata": {},
          "execution_count": 80
        }
      ]
    },
    {
      "cell_type": "code",
      "source": [
        "insurance_model_2.evaluate(X_test,y_test)"
      ],
      "metadata": {
        "colab": {
          "base_uri": "https://localhost:8080/"
        },
        "id": "JLsp6VHUVX9u",
        "outputId": "da8b4e19-d4e1-4c95-b4c8-5f2770954b10"
      },
      "execution_count": 81,
      "outputs": [
        {
          "output_type": "stream",
          "name": "stdout",
          "text": [
            "9/9 [==============================] - 0s 2ms/step - loss: 4907.8311 - mae: 4907.8311\n"
          ]
        },
        {
          "output_type": "execute_result",
          "data": {
            "text/plain": [
              "[4907.8310546875, 4907.8310546875]"
            ]
          },
          "metadata": {},
          "execution_count": 81
        }
      ]
    },
    {
      "cell_type": "code",
      "source": [
        "tf.random.set_seed(42)\n",
        "\n",
        "insurance_model_3 = tf.keras.Sequential([\n",
        "    tf.keras.layers.Dense(100),\n",
        "    tf.keras.layers.Dense(10),\n",
        "    tf.keras.layers.Dense(1)\n",
        "])\n",
        "\n",
        "insurance_model_3.compile(loss=['mae'],\n",
        "                          optimizer = tf.keras.optimizers.Adam(),\n",
        "                          metrics = ['mae'])\n",
        "\n",
        "history = insurance_model_3.fit(X_train,y_train,epochs=200)"
      ],
      "metadata": {
        "colab": {
          "base_uri": "https://localhost:8080/"
        },
        "id": "eqVRC3GWZbBm",
        "outputId": "dd280636-6423-40b7-d8b3-ff6a72c45f7d"
      },
      "execution_count": 82,
      "outputs": [
        {
          "output_type": "stream",
          "name": "stdout",
          "text": [
            "Epoch 1/200\n",
            "34/34 [==============================] - 1s 2ms/step - loss: 13294.5566 - mae: 13294.5566\n",
            "Epoch 2/200\n",
            "34/34 [==============================] - 0s 2ms/step - loss: 13137.5059 - mae: 13137.5059\n",
            "Epoch 3/200\n",
            "34/34 [==============================] - 0s 2ms/step - loss: 12795.8516 - mae: 12795.8516\n",
            "Epoch 4/200\n",
            "34/34 [==============================] - 0s 3ms/step - loss: 12117.6475 - mae: 12117.6475\n",
            "Epoch 5/200\n",
            "34/34 [==============================] - 0s 2ms/step - loss: 10977.6943 - mae: 10977.6943\n",
            "Epoch 6/200\n",
            "34/34 [==============================] - 0s 2ms/step - loss: 9511.7939 - mae: 9511.7939\n",
            "Epoch 7/200\n",
            "34/34 [==============================] - 0s 2ms/step - loss: 8165.3213 - mae: 8165.3213\n",
            "Epoch 8/200\n",
            "34/34 [==============================] - 0s 2ms/step - loss: 7511.8730 - mae: 7511.8730\n",
            "Epoch 9/200\n",
            "34/34 [==============================] - 0s 2ms/step - loss: 7403.6660 - mae: 7403.6660\n",
            "Epoch 10/200\n",
            "34/34 [==============================] - 0s 2ms/step - loss: 7384.0151 - mae: 7384.0151\n",
            "Epoch 11/200\n",
            "34/34 [==============================] - 0s 2ms/step - loss: 7365.6343 - mae: 7365.6343\n",
            "Epoch 12/200\n",
            "34/34 [==============================] - 0s 2ms/step - loss: 7344.3169 - mae: 7344.3169\n",
            "Epoch 13/200\n",
            "34/34 [==============================] - 0s 2ms/step - loss: 7324.8325 - mae: 7324.8325\n",
            "Epoch 14/200\n",
            "34/34 [==============================] - 0s 2ms/step - loss: 7303.1411 - mae: 7303.1411\n",
            "Epoch 15/200\n",
            "34/34 [==============================] - 0s 2ms/step - loss: 7285.2163 - mae: 7285.2163\n",
            "Epoch 16/200\n",
            "34/34 [==============================] - 0s 2ms/step - loss: 7263.7261 - mae: 7263.7261\n",
            "Epoch 17/200\n",
            "34/34 [==============================] - 0s 2ms/step - loss: 7242.9780 - mae: 7242.9780\n",
            "Epoch 18/200\n",
            "34/34 [==============================] - 0s 2ms/step - loss: 7221.0928 - mae: 7221.0928\n",
            "Epoch 19/200\n",
            "34/34 [==============================] - 0s 2ms/step - loss: 7198.9614 - mae: 7198.9614\n",
            "Epoch 20/200\n",
            "34/34 [==============================] - 0s 2ms/step - loss: 7175.6035 - mae: 7175.6035\n",
            "Epoch 21/200\n",
            "34/34 [==============================] - 0s 2ms/step - loss: 7156.7397 - mae: 7156.7397\n",
            "Epoch 22/200\n",
            "34/34 [==============================] - 0s 2ms/step - loss: 7129.9429 - mae: 7129.9429\n",
            "Epoch 23/200\n",
            "34/34 [==============================] - 0s 2ms/step - loss: 7106.0913 - mae: 7106.0913\n",
            "Epoch 24/200\n",
            "34/34 [==============================] - 0s 3ms/step - loss: 7080.4185 - mae: 7080.4185\n",
            "Epoch 25/200\n",
            "34/34 [==============================] - 0s 4ms/step - loss: 7062.1797 - mae: 7062.1797\n",
            "Epoch 26/200\n",
            "34/34 [==============================] - 0s 4ms/step - loss: 7031.2910 - mae: 7031.2910\n",
            "Epoch 27/200\n",
            "34/34 [==============================] - 0s 4ms/step - loss: 7003.3354 - mae: 7003.3354\n",
            "Epoch 28/200\n",
            "34/34 [==============================] - 0s 4ms/step - loss: 6975.5649 - mae: 6975.5649\n",
            "Epoch 29/200\n",
            "34/34 [==============================] - 0s 4ms/step - loss: 6947.8389 - mae: 6947.8389\n",
            "Epoch 30/200\n",
            "34/34 [==============================] - 0s 4ms/step - loss: 6920.9111 - mae: 6920.9111\n",
            "Epoch 31/200\n",
            "34/34 [==============================] - 0s 4ms/step - loss: 6890.8662 - mae: 6890.8662\n",
            "Epoch 32/200\n",
            "34/34 [==============================] - 0s 3ms/step - loss: 6862.6650 - mae: 6862.6650\n",
            "Epoch 33/200\n",
            "34/34 [==============================] - 0s 3ms/step - loss: 6831.9912 - mae: 6831.9912\n",
            "Epoch 34/200\n",
            "34/34 [==============================] - 0s 3ms/step - loss: 6801.6465 - mae: 6801.6465\n",
            "Epoch 35/200\n",
            "34/34 [==============================] - 0s 3ms/step - loss: 6767.5684 - mae: 6767.5684\n",
            "Epoch 36/200\n",
            "34/34 [==============================] - 0s 4ms/step - loss: 6734.6328 - mae: 6734.6328\n",
            "Epoch 37/200\n",
            "34/34 [==============================] - 0s 3ms/step - loss: 6698.8535 - mae: 6698.8535\n",
            "Epoch 38/200\n",
            "34/34 [==============================] - 0s 3ms/step - loss: 6670.1274 - mae: 6670.1274\n",
            "Epoch 39/200\n",
            "34/34 [==============================] - 0s 4ms/step - loss: 6633.2129 - mae: 6633.2129\n",
            "Epoch 40/200\n",
            "34/34 [==============================] - 0s 3ms/step - loss: 6600.3140 - mae: 6600.3140\n",
            "Epoch 41/200\n",
            "34/34 [==============================] - 0s 3ms/step - loss: 6570.8774 - mae: 6570.8774\n",
            "Epoch 42/200\n",
            "34/34 [==============================] - 0s 3ms/step - loss: 6546.7476 - mae: 6546.7476\n",
            "Epoch 43/200\n",
            "34/34 [==============================] - 0s 4ms/step - loss: 6520.9253 - mae: 6520.9253\n",
            "Epoch 44/200\n",
            "34/34 [==============================] - 0s 3ms/step - loss: 6500.5000 - mae: 6500.5000\n",
            "Epoch 45/200\n",
            "34/34 [==============================] - 0s 3ms/step - loss: 6491.1577 - mae: 6491.1577\n",
            "Epoch 46/200\n",
            "34/34 [==============================] - 0s 3ms/step - loss: 6473.1431 - mae: 6473.1431\n",
            "Epoch 47/200\n",
            "34/34 [==============================] - 0s 3ms/step - loss: 6456.8394 - mae: 6456.8394\n",
            "Epoch 48/200\n",
            "34/34 [==============================] - 0s 3ms/step - loss: 6443.4902 - mae: 6443.4902\n",
            "Epoch 49/200\n",
            "34/34 [==============================] - 0s 3ms/step - loss: 6430.8398 - mae: 6430.8398\n",
            "Epoch 50/200\n",
            "34/34 [==============================] - 0s 3ms/step - loss: 6417.1187 - mae: 6417.1187\n",
            "Epoch 51/200\n",
            "34/34 [==============================] - 0s 3ms/step - loss: 6403.7012 - mae: 6403.7012\n",
            "Epoch 52/200\n",
            "34/34 [==============================] - 0s 4ms/step - loss: 6392.6533 - mae: 6392.6533\n",
            "Epoch 53/200\n",
            "34/34 [==============================] - 0s 3ms/step - loss: 6378.7817 - mae: 6378.7817\n",
            "Epoch 54/200\n",
            "34/34 [==============================] - 0s 3ms/step - loss: 6365.9351 - mae: 6365.9351\n",
            "Epoch 55/200\n",
            "34/34 [==============================] - 0s 3ms/step - loss: 6351.8682 - mae: 6351.8682\n",
            "Epoch 56/200\n",
            "34/34 [==============================] - 0s 4ms/step - loss: 6338.0996 - mae: 6338.0996\n",
            "Epoch 57/200\n",
            "34/34 [==============================] - 0s 4ms/step - loss: 6325.7734 - mae: 6325.7734\n",
            "Epoch 58/200\n",
            "34/34 [==============================] - 0s 4ms/step - loss: 6311.5444 - mae: 6311.5444\n",
            "Epoch 59/200\n",
            "34/34 [==============================] - 0s 5ms/step - loss: 6296.7822 - mae: 6296.7822\n",
            "Epoch 60/200\n",
            "34/34 [==============================] - 0s 4ms/step - loss: 6286.4609 - mae: 6286.4609\n",
            "Epoch 61/200\n",
            "34/34 [==============================] - 0s 4ms/step - loss: 6267.0005 - mae: 6267.0005\n",
            "Epoch 62/200\n",
            "34/34 [==============================] - 0s 4ms/step - loss: 6254.6753 - mae: 6254.6753\n",
            "Epoch 63/200\n",
            "34/34 [==============================] - 0s 4ms/step - loss: 6236.9839 - mae: 6236.9839\n",
            "Epoch 64/200\n",
            "34/34 [==============================] - 0s 4ms/step - loss: 6219.4185 - mae: 6219.4185\n",
            "Epoch 65/200\n",
            "34/34 [==============================] - 0s 4ms/step - loss: 6202.7783 - mae: 6202.7783\n",
            "Epoch 66/200\n",
            "34/34 [==============================] - 0s 4ms/step - loss: 6185.8823 - mae: 6185.8823\n",
            "Epoch 67/200\n",
            "34/34 [==============================] - 0s 4ms/step - loss: 6173.8608 - mae: 6173.8608\n",
            "Epoch 68/200\n",
            "34/34 [==============================] - 0s 4ms/step - loss: 6151.2485 - mae: 6151.2485\n",
            "Epoch 69/200\n",
            "34/34 [==============================] - 0s 3ms/step - loss: 6134.9019 - mae: 6134.9019\n",
            "Epoch 70/200\n",
            "34/34 [==============================] - 0s 4ms/step - loss: 6115.1582 - mae: 6115.1582\n",
            "Epoch 71/200\n",
            "34/34 [==============================] - 0s 4ms/step - loss: 6095.5703 - mae: 6095.5703\n",
            "Epoch 72/200\n",
            "34/34 [==============================] - 0s 3ms/step - loss: 6077.2476 - mae: 6077.2476\n",
            "Epoch 73/200\n",
            "34/34 [==============================] - 0s 2ms/step - loss: 6062.1543 - mae: 6062.1543\n",
            "Epoch 74/200\n",
            "34/34 [==============================] - 0s 3ms/step - loss: 6035.0703 - mae: 6035.0703\n",
            "Epoch 75/200\n",
            "34/34 [==============================] - 0s 2ms/step - loss: 6013.6470 - mae: 6013.6470\n",
            "Epoch 76/200\n",
            "34/34 [==============================] - 0s 2ms/step - loss: 6000.2148 - mae: 6000.2148\n",
            "Epoch 77/200\n",
            "34/34 [==============================] - 0s 2ms/step - loss: 5968.1914 - mae: 5968.1914\n",
            "Epoch 78/200\n",
            "34/34 [==============================] - 0s 2ms/step - loss: 5945.4058 - mae: 5945.4058\n",
            "Epoch 79/200\n",
            "34/34 [==============================] - 0s 2ms/step - loss: 5921.7563 - mae: 5921.7563\n",
            "Epoch 80/200\n",
            "34/34 [==============================] - 0s 2ms/step - loss: 5894.4233 - mae: 5894.4233\n",
            "Epoch 81/200\n",
            "34/34 [==============================] - 0s 2ms/step - loss: 5869.0879 - mae: 5869.0879\n",
            "Epoch 82/200\n",
            "34/34 [==============================] - 0s 2ms/step - loss: 5842.1201 - mae: 5842.1201\n",
            "Epoch 83/200\n",
            "34/34 [==============================] - 0s 2ms/step - loss: 5814.7285 - mae: 5814.7285\n",
            "Epoch 84/200\n",
            "34/34 [==============================] - 0s 2ms/step - loss: 5781.4229 - mae: 5781.4229\n",
            "Epoch 85/200\n",
            "34/34 [==============================] - 0s 2ms/step - loss: 5755.1807 - mae: 5755.1807\n",
            "Epoch 86/200\n",
            "34/34 [==============================] - 0s 2ms/step - loss: 5721.5615 - mae: 5721.5615\n",
            "Epoch 87/200\n",
            "34/34 [==============================] - 0s 2ms/step - loss: 5686.9854 - mae: 5686.9854\n",
            "Epoch 88/200\n",
            "34/34 [==============================] - 0s 3ms/step - loss: 5653.8398 - mae: 5653.8398\n",
            "Epoch 89/200\n",
            "34/34 [==============================] - 0s 2ms/step - loss: 5615.9180 - mae: 5615.9180\n",
            "Epoch 90/200\n",
            "34/34 [==============================] - 0s 2ms/step - loss: 5576.3926 - mae: 5576.3926\n",
            "Epoch 91/200\n",
            "34/34 [==============================] - 0s 2ms/step - loss: 5544.5781 - mae: 5544.5781\n",
            "Epoch 92/200\n",
            "34/34 [==============================] - 0s 2ms/step - loss: 5495.6089 - mae: 5495.6089\n",
            "Epoch 93/200\n",
            "34/34 [==============================] - 0s 3ms/step - loss: 5456.2373 - mae: 5456.2373\n",
            "Epoch 94/200\n",
            "34/34 [==============================] - 0s 2ms/step - loss: 5414.0669 - mae: 5414.0669\n",
            "Epoch 95/200\n",
            "34/34 [==============================] - 0s 2ms/step - loss: 5361.7324 - mae: 5361.7324\n",
            "Epoch 96/200\n",
            "34/34 [==============================] - 0s 2ms/step - loss: 5320.1436 - mae: 5320.1436\n",
            "Epoch 97/200\n",
            "34/34 [==============================] - 0s 2ms/step - loss: 5268.7104 - mae: 5268.7104\n",
            "Epoch 98/200\n",
            "34/34 [==============================] - 0s 2ms/step - loss: 5210.0532 - mae: 5210.0532\n",
            "Epoch 99/200\n",
            "34/34 [==============================] - 0s 2ms/step - loss: 5154.0054 - mae: 5154.0054\n",
            "Epoch 100/200\n",
            "34/34 [==============================] - 0s 2ms/step - loss: 5101.2427 - mae: 5101.2427\n",
            "Epoch 101/200\n",
            "34/34 [==============================] - 0s 2ms/step - loss: 5034.5083 - mae: 5034.5083\n",
            "Epoch 102/200\n",
            "34/34 [==============================] - 0s 2ms/step - loss: 4969.0518 - mae: 4969.0518\n",
            "Epoch 103/200\n",
            "34/34 [==============================] - 0s 2ms/step - loss: 4904.2715 - mae: 4904.2715\n",
            "Epoch 104/200\n",
            "34/34 [==============================] - 0s 2ms/step - loss: 4829.9160 - mae: 4829.9160\n",
            "Epoch 105/200\n",
            "34/34 [==============================] - 0s 3ms/step - loss: 4751.7666 - mae: 4751.7666\n",
            "Epoch 106/200\n",
            "34/34 [==============================] - 0s 2ms/step - loss: 4673.0269 - mae: 4673.0269\n",
            "Epoch 107/200\n",
            "34/34 [==============================] - 0s 3ms/step - loss: 4591.5571 - mae: 4591.5571\n",
            "Epoch 108/200\n",
            "34/34 [==============================] - 0s 3ms/step - loss: 4504.6685 - mae: 4504.6685\n",
            "Epoch 109/200\n",
            "34/34 [==============================] - 0s 2ms/step - loss: 4421.9844 - mae: 4421.9844\n",
            "Epoch 110/200\n",
            "34/34 [==============================] - 0s 2ms/step - loss: 4338.0117 - mae: 4338.0117\n",
            "Epoch 111/200\n",
            "34/34 [==============================] - 0s 3ms/step - loss: 4254.9478 - mae: 4254.9478\n",
            "Epoch 112/200\n",
            "34/34 [==============================] - 0s 2ms/step - loss: 4182.8774 - mae: 4182.8774\n",
            "Epoch 113/200\n",
            "34/34 [==============================] - 0s 2ms/step - loss: 4103.4941 - mae: 4103.4941\n",
            "Epoch 114/200\n",
            "34/34 [==============================] - 0s 2ms/step - loss: 4038.4980 - mae: 4038.4980\n",
            "Epoch 115/200\n",
            "34/34 [==============================] - 0s 2ms/step - loss: 3980.4868 - mae: 3980.4868\n",
            "Epoch 116/200\n",
            "34/34 [==============================] - 0s 2ms/step - loss: 3950.4355 - mae: 3950.4355\n",
            "Epoch 117/200\n",
            "34/34 [==============================] - 0s 2ms/step - loss: 3924.2000 - mae: 3924.2000\n",
            "Epoch 118/200\n",
            "34/34 [==============================] - 0s 2ms/step - loss: 3897.2854 - mae: 3897.2854\n",
            "Epoch 119/200\n",
            "34/34 [==============================] - 0s 2ms/step - loss: 3868.6079 - mae: 3868.6079\n",
            "Epoch 120/200\n",
            "34/34 [==============================] - 0s 2ms/step - loss: 3848.7297 - mae: 3848.7297\n",
            "Epoch 121/200\n",
            "34/34 [==============================] - 0s 3ms/step - loss: 3839.7961 - mae: 3839.7961\n",
            "Epoch 122/200\n",
            "34/34 [==============================] - 0s 2ms/step - loss: 3832.5305 - mae: 3832.5305\n",
            "Epoch 123/200\n",
            "34/34 [==============================] - 0s 2ms/step - loss: 3824.8792 - mae: 3824.8792\n",
            "Epoch 124/200\n",
            "34/34 [==============================] - 0s 2ms/step - loss: 3816.4146 - mae: 3816.4146\n",
            "Epoch 125/200\n",
            "34/34 [==============================] - 0s 2ms/step - loss: 3802.1462 - mae: 3802.1462\n",
            "Epoch 126/200\n",
            "34/34 [==============================] - 0s 3ms/step - loss: 3812.9163 - mae: 3812.9163\n",
            "Epoch 127/200\n",
            "34/34 [==============================] - 0s 2ms/step - loss: 3801.3049 - mae: 3801.3049\n",
            "Epoch 128/200\n",
            "34/34 [==============================] - 0s 2ms/step - loss: 3795.5444 - mae: 3795.5444\n",
            "Epoch 129/200\n",
            "34/34 [==============================] - 0s 2ms/step - loss: 3802.9360 - mae: 3802.9360\n",
            "Epoch 130/200\n",
            "34/34 [==============================] - 0s 2ms/step - loss: 3790.7842 - mae: 3790.7842\n",
            "Epoch 131/200\n",
            "34/34 [==============================] - 0s 2ms/step - loss: 3783.2300 - mae: 3783.2300\n",
            "Epoch 132/200\n",
            "34/34 [==============================] - 0s 2ms/step - loss: 3777.4973 - mae: 3777.4973\n",
            "Epoch 133/200\n",
            "34/34 [==============================] - 0s 2ms/step - loss: 3772.8496 - mae: 3772.8496\n",
            "Epoch 134/200\n",
            "34/34 [==============================] - 0s 3ms/step - loss: 3772.0901 - mae: 3772.0901\n",
            "Epoch 135/200\n",
            "34/34 [==============================] - 0s 3ms/step - loss: 3769.3591 - mae: 3769.3591\n",
            "Epoch 136/200\n",
            "34/34 [==============================] - 0s 2ms/step - loss: 3767.9814 - mae: 3767.9814\n",
            "Epoch 137/200\n",
            "34/34 [==============================] - 0s 3ms/step - loss: 3776.7764 - mae: 3776.7764\n",
            "Epoch 138/200\n",
            "34/34 [==============================] - 0s 3ms/step - loss: 3784.4746 - mae: 3784.4746\n",
            "Epoch 139/200\n",
            "34/34 [==============================] - 0s 2ms/step - loss: 3763.4624 - mae: 3763.4624\n",
            "Epoch 140/200\n",
            "34/34 [==============================] - 0s 2ms/step - loss: 3765.1492 - mae: 3765.1492\n",
            "Epoch 141/200\n",
            "34/34 [==============================] - 0s 2ms/step - loss: 3766.0122 - mae: 3766.0122\n",
            "Epoch 142/200\n",
            "34/34 [==============================] - 0s 2ms/step - loss: 3766.7490 - mae: 3766.7490\n",
            "Epoch 143/200\n",
            "34/34 [==============================] - 0s 2ms/step - loss: 3757.3347 - mae: 3757.3347\n",
            "Epoch 144/200\n",
            "34/34 [==============================] - 0s 3ms/step - loss: 3752.8865 - mae: 3752.8865\n",
            "Epoch 145/200\n",
            "34/34 [==============================] - 0s 3ms/step - loss: 3752.8262 - mae: 3752.8262\n",
            "Epoch 146/200\n",
            "34/34 [==============================] - 0s 2ms/step - loss: 3757.3696 - mae: 3757.3696\n",
            "Epoch 147/200\n",
            "34/34 [==============================] - 0s 3ms/step - loss: 3754.0686 - mae: 3754.0686\n",
            "Epoch 148/200\n",
            "34/34 [==============================] - 0s 2ms/step - loss: 3759.8357 - mae: 3759.8357\n",
            "Epoch 149/200\n",
            "34/34 [==============================] - 0s 2ms/step - loss: 3745.8152 - mae: 3745.8152\n",
            "Epoch 150/200\n",
            "34/34 [==============================] - 0s 2ms/step - loss: 3741.1877 - mae: 3741.1877\n",
            "Epoch 151/200\n",
            "34/34 [==============================] - 0s 2ms/step - loss: 3743.1528 - mae: 3743.1528\n",
            "Epoch 152/200\n",
            "34/34 [==============================] - 0s 3ms/step - loss: 3744.3655 - mae: 3744.3655\n",
            "Epoch 153/200\n",
            "34/34 [==============================] - 0s 2ms/step - loss: 3744.8098 - mae: 3744.8098\n",
            "Epoch 154/200\n",
            "34/34 [==============================] - 0s 2ms/step - loss: 3739.3613 - mae: 3739.3613\n",
            "Epoch 155/200\n",
            "34/34 [==============================] - 0s 2ms/step - loss: 3742.7283 - mae: 3742.7283\n",
            "Epoch 156/200\n",
            "34/34 [==============================] - 0s 2ms/step - loss: 3737.3105 - mae: 3737.3105\n",
            "Epoch 157/200\n",
            "34/34 [==============================] - 0s 2ms/step - loss: 3735.3826 - mae: 3735.3826\n",
            "Epoch 158/200\n",
            "34/34 [==============================] - 0s 3ms/step - loss: 3731.6626 - mae: 3731.6626\n",
            "Epoch 159/200\n",
            "34/34 [==============================] - 0s 2ms/step - loss: 3728.9807 - mae: 3728.9807\n",
            "Epoch 160/200\n",
            "34/34 [==============================] - 0s 2ms/step - loss: 3735.2864 - mae: 3735.2864\n",
            "Epoch 161/200\n",
            "34/34 [==============================] - 0s 2ms/step - loss: 3730.7197 - mae: 3730.7197\n",
            "Epoch 162/200\n",
            "34/34 [==============================] - 0s 2ms/step - loss: 3725.8132 - mae: 3725.8132\n",
            "Epoch 163/200\n",
            "34/34 [==============================] - 0s 2ms/step - loss: 3724.3071 - mae: 3724.3071\n",
            "Epoch 164/200\n",
            "34/34 [==============================] - 0s 3ms/step - loss: 3729.4031 - mae: 3729.4031\n",
            "Epoch 165/200\n",
            "34/34 [==============================] - 0s 3ms/step - loss: 3718.5803 - mae: 3718.5803\n",
            "Epoch 166/200\n",
            "34/34 [==============================] - 0s 2ms/step - loss: 3722.8521 - mae: 3722.8521\n",
            "Epoch 167/200\n",
            "34/34 [==============================] - 0s 3ms/step - loss: 3722.7715 - mae: 3722.7715\n",
            "Epoch 168/200\n",
            "34/34 [==============================] - 0s 2ms/step - loss: 3718.1204 - mae: 3718.1204\n",
            "Epoch 169/200\n",
            "34/34 [==============================] - 0s 2ms/step - loss: 3717.8396 - mae: 3717.8396\n",
            "Epoch 170/200\n",
            "34/34 [==============================] - 0s 2ms/step - loss: 3711.4297 - mae: 3711.4297\n",
            "Epoch 171/200\n",
            "34/34 [==============================] - 0s 2ms/step - loss: 3711.1636 - mae: 3711.1636\n",
            "Epoch 172/200\n",
            "34/34 [==============================] - 0s 4ms/step - loss: 3712.8135 - mae: 3712.8135\n",
            "Epoch 173/200\n",
            "34/34 [==============================] - 0s 4ms/step - loss: 3707.9502 - mae: 3707.9502\n",
            "Epoch 174/200\n",
            "34/34 [==============================] - 0s 3ms/step - loss: 3712.1143 - mae: 3712.1143\n",
            "Epoch 175/200\n",
            "34/34 [==============================] - 0s 4ms/step - loss: 3713.0471 - mae: 3713.0471\n",
            "Epoch 176/200\n",
            "34/34 [==============================] - 0s 4ms/step - loss: 3709.7144 - mae: 3709.7144\n",
            "Epoch 177/200\n",
            "34/34 [==============================] - 0s 4ms/step - loss: 3702.2930 - mae: 3702.2930\n",
            "Epoch 178/200\n",
            "34/34 [==============================] - 0s 4ms/step - loss: 3698.8936 - mae: 3698.8936\n",
            "Epoch 179/200\n",
            "34/34 [==============================] - 0s 3ms/step - loss: 3707.1377 - mae: 3707.1377\n",
            "Epoch 180/200\n",
            "34/34 [==============================] - 0s 3ms/step - loss: 3714.9788 - mae: 3714.9788\n",
            "Epoch 181/200\n",
            "34/34 [==============================] - 0s 4ms/step - loss: 3700.4534 - mae: 3700.4534\n",
            "Epoch 182/200\n",
            "34/34 [==============================] - 0s 4ms/step - loss: 3697.2583 - mae: 3697.2583\n",
            "Epoch 183/200\n",
            "34/34 [==============================] - 0s 4ms/step - loss: 3695.0581 - mae: 3695.0581\n",
            "Epoch 184/200\n",
            "34/34 [==============================] - 0s 5ms/step - loss: 3701.1018 - mae: 3701.1018\n",
            "Epoch 185/200\n",
            "34/34 [==============================] - 0s 4ms/step - loss: 3697.2273 - mae: 3697.2273\n",
            "Epoch 186/200\n",
            "34/34 [==============================] - 0s 3ms/step - loss: 3700.1472 - mae: 3700.1472\n",
            "Epoch 187/200\n",
            "34/34 [==============================] - 0s 3ms/step - loss: 3692.0747 - mae: 3692.0747\n",
            "Epoch 188/200\n",
            "34/34 [==============================] - 0s 4ms/step - loss: 3697.9114 - mae: 3697.9114\n",
            "Epoch 189/200\n",
            "34/34 [==============================] - 0s 4ms/step - loss: 3687.3545 - mae: 3687.3545\n",
            "Epoch 190/200\n",
            "34/34 [==============================] - 0s 3ms/step - loss: 3687.6484 - mae: 3687.6484\n",
            "Epoch 191/200\n",
            "34/34 [==============================] - 0s 3ms/step - loss: 3702.5051 - mae: 3702.5051\n",
            "Epoch 192/200\n",
            "34/34 [==============================] - 0s 4ms/step - loss: 3687.6023 - mae: 3687.6023\n",
            "Epoch 193/200\n",
            "34/34 [==============================] - 0s 4ms/step - loss: 3677.8071 - mae: 3677.8071\n",
            "Epoch 194/200\n",
            "34/34 [==============================] - 0s 4ms/step - loss: 3678.4265 - mae: 3678.4265\n",
            "Epoch 195/200\n",
            "34/34 [==============================] - 0s 3ms/step - loss: 3676.4417 - mae: 3676.4417\n",
            "Epoch 196/200\n",
            "34/34 [==============================] - 0s 2ms/step - loss: 3684.1882 - mae: 3684.1882\n",
            "Epoch 197/200\n",
            "34/34 [==============================] - 0s 2ms/step - loss: 3670.2361 - mae: 3670.2361\n",
            "Epoch 198/200\n",
            "34/34 [==============================] - 0s 2ms/step - loss: 3676.6379 - mae: 3676.6379\n",
            "Epoch 199/200\n",
            "34/34 [==============================] - 0s 2ms/step - loss: 3683.3591 - mae: 3683.3591\n",
            "Epoch 200/200\n",
            "34/34 [==============================] - 0s 2ms/step - loss: 3671.3372 - mae: 3671.3372\n"
          ]
        }
      ]
    },
    {
      "cell_type": "code",
      "source": [
        "insurance_model_3.evaluate(X_test,y_test)"
      ],
      "metadata": {
        "colab": {
          "base_uri": "https://localhost:8080/"
        },
        "id": "fiFWPKApZbLJ",
        "outputId": "732942f4-47f1-4b8e-d81f-60b345d482f8"
      },
      "execution_count": 83,
      "outputs": [
        {
          "output_type": "stream",
          "name": "stdout",
          "text": [
            "9/9 [==============================] - 0s 3ms/step - loss: 3500.0535 - mae: 3500.0535\n"
          ]
        },
        {
          "output_type": "execute_result",
          "data": {
            "text/plain": [
              "[3500.053466796875, 3500.053466796875]"
            ]
          },
          "metadata": {},
          "execution_count": 83
        }
      ]
    },
    {
      "cell_type": "code",
      "source": [
        "# Plot history (aka loss curve or a training curve)\n",
        "pd.DataFrame(history.history).plot()\n",
        "plt.ylabel('loss')\n",
        "plt.ylabel('epochs')"
      ],
      "metadata": {
        "colab": {
          "base_uri": "https://localhost:8080/",
          "height": 282
        },
        "id": "1I3AgoN9ZbXw",
        "outputId": "41de8c5f-a9ec-47c0-f99a-72c749f8ab2c"
      },
      "execution_count": 84,
      "outputs": [
        {
          "output_type": "execute_result",
          "data": {
            "text/plain": [
              "Text(0, 0.5, 'epochs')"
            ]
          },
          "metadata": {},
          "execution_count": 84
        },
        {
          "output_type": "display_data",
          "data": {
            "text/plain": [
              "<Figure size 432x288 with 1 Axes>"
            ],
            "image/png": "[encoded data removed]"
          },
          "metadata": {
            "needs_background": "light"
          }
        }
      ]
    },
    {
      "cell_type": "markdown",
      "source": [
        "## Preprocessing data (normalization and standardization)\n",
        "\n",
        "A common practice when working with neural networks is to make sure all of the data you pass to them is in the range 0 to 1.\n",
        "\n",
        "This practice is called **normalization** (scaling all values from their original range to, e.g. between 0 and 100,000 to be between 0 and 1).\n",
        "\n",
        "There is another process call **standardization** which converts all of your data to unit variance and 0 mean.\n",
        "\n",
        "These two practices are often part of a preprocessing pipeline (a series of functions to prepare your data for use with neural networks).\n",
        "\n",
        "Knowing this, some of the major steps you'll take to preprocess your data for a neural network include:\n",
        "* Turning all of your data to numbers (a neural network can't handle strings).\n",
        "* Making sure your data is in the right shape (verifying input and output shapes).\n",
        "* [**Feature scaling**](https://scikit-learn.org/stable/modules/preprocessing.html#preprocessing-scaler):\n",
        "    * Normalizing data (making sure all values are between 0 and 1). This is done by subtracting the minimum value then dividing by the maximum value minus the minmum. This is also referred to as min-max scaling.\n",
        "    * Standardization (making sure all values have a mean of 0 and a variance of 1). This is done by substracting the mean value from the target feature and then dividing it by the standard deviation.\n",
        "    * Which one should you use?\n",
        "      * **With neural networks we'll tend to favour normalization** as they tend to prefer values between 0 and 1 (we'll see this espcially with image processing), however, one will often find a neural network can perform pretty well with minimal feature scaling.\n",
        "\n",
        "> 📖 **Resource:** For more on preprocessing data:\n",
        "* [Scikit-Learn's documentation on preprocessing data](https://scikit-learn.org/stable/modules/preprocessing.html#preprocessing-data).\n",
        "* [Scale, Standardize or Normalize with Scikit-Learn by Jeff Hale](https://towardsdatascience.com/scale-standardize-or-normalize-with-scikit-learn-6ccc7d176a02).\n",
        "\n"
      ],
      "metadata": {
        "id": "AezQ_mUOuhFC"
      }
    },
    {
      "cell_type": "code",
      "source": [
        "insurance.head()"
      ],
      "metadata": {
        "colab": {
          "base_uri": "https://localhost:8080/",
          "height": 206
        },
        "id": "WH_HFST85kMa",
        "outputId": "b62752ad-a9ea-489b-e991-3bc9aab3409f"
      },
      "execution_count": 85,
      "outputs": [
        {
          "output_type": "execute_result",
          "data": {
            "text/plain": [
              "   age     sex     bmi  children smoker     region      charges\n",
              "0   19  female  27.900         0    yes  southwest  16884.92400\n",
              "1   18    male  33.770         1     no  southeast   1725.55230\n",
              "2   28    male  33.000         3     no  southeast   4449.46200\n",
              "3   33    male  22.705         0     no  northwest  21984.47061\n",
              "4   32    male  28.880         0     no  northwest   3866.85520"
            ],
            "text/html": [
              "\n",
              "  <div id=\"df-d1a6353d-28fc-484b-b99c-9a0b5163b5dd\">\n",
              "    <div class=\"colab-df-container\">\n",
              "      <div>\n",
              "<style scoped>\n",
              "    .dataframe tbody tr th:only-of-type {\n",
              "        vertical-align: middle;\n",
              "    }\n",
              "\n",
              "    .dataframe tbody tr th {\n",
              "        vertical-align: top;\n",
              "    }\n",
              "\n",
              "    .dataframe thead th {\n",
              "        text-align: right;\n",
              "    }\n",
              "</style>\n",
              "<table border=\"1\" class=\"dataframe\">\n",
              "  <thead>\n",
              "    <tr style=\"text-align: right;\">\n",
              "      <th></th>\n",
              "      <th>age</th>\n",
              "      <th>sex</th>\n",
              "      <th>bmi</th>\n",
              "      <th>children</th>\n",
              "      <th>smoker</th>\n",
              "      <th>region</th>\n",
              "      <th>charges</th>\n",
              "    </tr>\n",
              "  </thead>\n",
              "  <tbody>\n",
              "    <tr>\n",
              "      <th>0</th>\n",
              "      <td>19</td>\n",
              "      <td>female</td>\n",
              "      <td>27.900</td>\n",
              "      <td>0</td>\n",
              "      <td>yes</td>\n",
              "      <td>southwest</td>\n",
              "      <td>16884.92400</td>\n",
              "    </tr>\n",
              "    <tr>\n",
              "      <th>1</th>\n",
              "      <td>18</td>\n",
              "      <td>male</td>\n",
              "      <td>33.770</td>\n",
              "      <td>1</td>\n",
              "      <td>no</td>\n",
              "      <td>southeast</td>\n",
              "      <td>1725.55230</td>\n",
              "    </tr>\n",
              "    <tr>\n",
              "      <th>2</th>\n",
              "      <td>28</td>\n",
              "      <td>male</td>\n",
              "      <td>33.000</td>\n",
              "      <td>3</td>\n",
              "      <td>no</td>\n",
              "      <td>southeast</td>\n",
              "      <td>4449.46200</td>\n",
              "    </tr>\n",
              "    <tr>\n",
              "      <th>3</th>\n",
              "      <td>33</td>\n",
              "      <td>male</td>\n",
              "      <td>22.705</td>\n",
              "      <td>0</td>\n",
              "      <td>no</td>\n",
              "      <td>northwest</td>\n",
              "      <td>21984.47061</td>\n",
              "    </tr>\n",
              "    <tr>\n",
              "      <th>4</th>\n",
              "      <td>32</td>\n",
              "      <td>male</td>\n",
              "      <td>28.880</td>\n",
              "      <td>0</td>\n",
              "      <td>no</td>\n",
              "      <td>northwest</td>\n",
              "      <td>3866.85520</td>\n",
              "    </tr>\n",
              "  </tbody>\n",
              "</table>\n",
              "</div>\n",
              "      <button class=\"colab-df-convert\" onclick=\"convertToInteractive('df-d1a6353d-28fc-484b-b99c-9a0b5163b5dd')\"\n",
              "              title=\"Convert this dataframe to an interactive table.\"\n",
              "              style=\"display:none;\">\n",
              "        \n",
              "  <svg xmlns=\"http://www.w3.org/2000/svg\" height=\"24px\"viewBox=\"0 0 24 24\"\n",
              "       width=\"24px\">\n",
              "    <path d=\"M0 0h24v24H0V0z\" fill=\"none\"/>\n",
              "    <path d=\"M18.56 5.44l.94 2.06.94-2.06 2.06-.94-2.06-.94-.94-2.06-.94 2.06-2.06.94zm-11 1L8.5 8.5l.94-2.06 2.06-.94-2.06-.94L8.5 2.5l-.94 2.06-2.06.94zm10 10l.94 2.06.94-2.06 2.06-.94-2.06-.94-.94-2.06-.94 2.06-2.06.94z\"/><path d=\"M17.41 7.96l-1.37-1.37c-.4-.4-.92-.59-1.43-.59-.52 0-1.04.2-1.43.59L10.3 9.45l-7.72 7.72c-.78.78-.78 2.05 0 2.83L4 21.41c.39.39.9.59 1.41.59.51 0 1.02-.2 1.41-.59l7.78-7.78 2.81-2.81c.8-.78.8-2.07 0-2.86zM5.41 20L4 18.59l7.72-7.72 1.47 1.35L5.41 20z\"/>\n",
              "  </svg>\n",
              "      </button>\n",
              "      \n",
              "  <style>\n",
              "    .colab-df-container {\n",
              "      display:flex;\n",
              "      flex-wrap:wrap;\n",
              "      gap: 12px;\n",
              "    }\n",
              "\n",
              "    .colab-df-convert {\n",
              "      background-color: #E8F0FE;\n",
              "      border: none;\n",
              "      border-radius: 50%;\n",
              "      cursor: pointer;\n",
              "      display: none;\n",
              "      fill: #1967D2;\n",
              "      height: 32px;\n",
              "      padding: 0 0 0 0;\n",
              "      width: 32px;\n",
              "    }\n",
              "\n",
              "    .colab-df-convert:hover {\n",
              "      background-color: #E2EBFA;\n",
              "      box-shadow: 0px 1px 2px rgba(60, 64, 67, 0.3), 0px 1px 3px 1px rgba(60, 64, 67, 0.15);\n",
              "      fill: #174EA6;\n",
              "    }\n",
              "\n",
              "    [theme=dark] .colab-df-convert {\n",
              "      background-color: #3B4455;\n",
              "      fill: #D2E3FC;\n",
              "    }\n",
              "\n",
              "    [theme=dark] .colab-df-convert:hover {\n",
              "      background-color: #434B5C;\n",
              "      box-shadow: 0px 1px 3px 1px rgba(0, 0, 0, 0.15);\n",
              "      filter: drop-shadow(0px 1px 2px rgba(0, 0, 0, 0.3));\n",
              "      fill: #FFFFFF;\n",
              "    }\n",
              "  </style>\n",
              "\n",
              "      <script>\n",
              "        const buttonEl =\n",
              "          document.querySelector('#df-d1a6353d-28fc-484b-b99c-9a0b5163b5dd button.colab-df-convert');\n",
              "        buttonEl.style.display =\n",
              "          google.colab.kernel.accessAllowed ? 'block' : 'none';\n",
              "\n",
              "        async function convertToInteractive(key) {\n",
              "          const element = document.querySelector('#df-d1a6353d-28fc-484b-b99c-9a0b5163b5dd');\n",
              "          const dataTable =\n",
              "            await google.colab.kernel.invokeFunction('convertToInteractive',\n",
              "                                                     [key], {});\n",
              "          if (!dataTable) return;\n",
              "\n",
              "          const docLinkHtml = 'Like what you see? Visit the ' +\n",
              "            '<a target=\"_blank\" href=https://colab.research.google.com/notebooks/data_table.ipynb>data table notebook</a>'\n",
              "            + ' to learn more about interactive tables.';\n",
              "          element.innerHTML = '';\n",
              "          dataTable['output_type'] = 'display_data';\n",
              "          await google.colab.output.renderOutput(dataTable, element);\n",
              "          const docLink = document.createElement('div');\n",
              "          docLink.innerHTML = docLinkHtml;\n",
              "          element.appendChild(docLink);\n",
              "        }\n",
              "      </script>\n",
              "    </div>\n",
              "  </div>\n",
              "  "
            ]
          },
          "metadata": {},
          "execution_count": 85
        }
      ]
    },
    {
      "cell_type": "markdown",
      "source": [
        "we need to transform the non-numerical columns into numbers and this time we'll also be normalizing the numerical columns with different ranges (to make sure they're all between 0 and 1).\n",
        "\n",
        "To do this, we're going to use a few classes from Scikit-Learn:\n",
        "* [`make_column_transformer`](https://scikit-learn.org/stable/modules/generated/sklearn.compose.make_column_transformer.html) - build a multi-step data preprocessing function for the folllowing transformations:\n",
        "  * [`MinMaxScaler`](https://scikit-learn.org/stable/modules/generated/sklearn.preprocessing.MinMaxScaler.html) - make sure all numerical columns are normalized (between 0 and 1).\n",
        "  * [`OneHotEncoder`](https://scikit-learn.org/stable/modules/generated/sklearn.preprocessing.OneHotEncoder.html) - one hot encode the non-numerical columns."
      ],
      "metadata": {
        "id": "U6rQ_NHRvyOV"
      }
    },
    {
      "cell_type": "code",
      "source": [
        "from sklearn.compose import make_column_transformer\n",
        "from sklearn.preprocessing import MinMaxScaler, OneHotEncoder"
      ],
      "metadata": {
        "id": "6yn4U9AQZbkP"
      },
      "execution_count": 86,
      "outputs": []
    },
    {
      "cell_type": "code",
      "source": [
        "# Create Column Transformer\n",
        "ct = make_column_transformer(\n",
        "     (MinMaxScaler(), ['age','bmi','children',]),  # get all values between 0 and 1\n",
        "     (OneHotEncoder(), ['sex','smoker','region']))\n",
        "\n",
        "# Create X and y\n",
        "X = insurance.drop('charges',axis=1)\n",
        "y = insurance['charges']\n",
        "\n",
        "# Buid train and test set\n",
        "X_train, X_test, y_train, y_test = train_test_split(X, y, test_size=0.2, random_state=42)\n",
        "\n",
        "# Fit the column transformer to the training data (doing so on test data would result in data leakage)\n",
        "ct.fit(X_train)\n",
        "\n",
        "# Transform training and test data with normalization (MinMaxScalar) and one hot encoding (OneHotEncoder)\n",
        "X_train_normal = ct.transform(X_train)\n",
        "X_test_normal = ct.transform(X_test)"
      ],
      "metadata": {
        "id": "kxl66fbi35hQ"
      },
      "execution_count": 87,
      "outputs": []
    },
    {
      "cell_type": "code",
      "source": [
        "X_train.loc[0]"
      ],
      "metadata": {
        "colab": {
          "base_uri": "https://localhost:8080/"
        },
        "id": "KJdq9F4S35pF",
        "outputId": "7b0611dc-88aa-4759-e248-66041edee43b"
      },
      "execution_count": 88,
      "outputs": [
        {
          "output_type": "execute_result",
          "data": {
            "text/plain": [
              "age                19\n",
              "sex            female\n",
              "bmi              27.9\n",
              "children            0\n",
              "smoker            yes\n",
              "region      southwest\n",
              "Name: 0, dtype: object"
            ]
          },
          "metadata": {},
          "execution_count": 88
        }
      ]
    },
    {
      "cell_type": "code",
      "source": [
        "X_train_normal[0]"
      ],
      "metadata": {
        "colab": {
          "base_uri": "https://localhost:8080/"
        },
        "id": "glmNqrNX5TUG",
        "outputId": "58bf31a0-4de6-4974-eb2a-3689079129de"
      },
      "execution_count": 89,
      "outputs": [
        {
          "output_type": "execute_result",
          "data": {
            "text/plain": [
              "array([0.60869565, 0.10734463, 0.4       , 1.        , 0.        ,\n",
              "       1.        , 0.        , 0.        , 1.        , 0.        ,\n",
              "       0.        ])"
            ]
          },
          "metadata": {},
          "execution_count": 89
        }
      ]
    },
    {
      "cell_type": "code",
      "source": [
        "X_train.shape, X_train_normal.shape"
      ],
      "metadata": {
        "colab": {
          "base_uri": "https://localhost:8080/"
        },
        "id": "EPpVHizx35xc",
        "outputId": "febc7306-2f94-4536-96cf-740cfb684674"
      },
      "execution_count": 90,
      "outputs": [
        {
          "output_type": "execute_result",
          "data": {
            "text/plain": [
              "((1070, 6), (1070, 11))"
            ]
          },
          "metadata": {},
          "execution_count": 90
        }
      ]
    },
    {
      "cell_type": "code",
      "source": [
        "tf.random.set_seed(42)\n",
        "\n",
        "insurance_model_4 = tf.keras.Sequential([\n",
        "    tf.keras.layers.Dense(100),\n",
        "    tf.keras.layers.Dense(10),\n",
        "    tf.keras.layers.Dense(1)\n",
        "])\n",
        "\n",
        "insurance_model_4.compile(loss=['mae'],\n",
        "                          optimizer = tf.keras.optimizers.Adam(),\n",
        "                          metrics=['mae'])\n",
        "\n",
        "insurance_model_4.fit(X_train_normal,y_train,epochs=100)"
      ],
      "metadata": {
        "colab": {
          "base_uri": "https://localhost:8080/"
        },
        "id": "AKqwaY1g3550",
        "outputId": "be475b51-fb1a-4c17-e3be-100a81bb99a3"
      },
      "execution_count": 91,
      "outputs": [
        {
          "output_type": "stream",
          "name": "stdout",
          "text": [
            "Epoch 1/100\n",
            "34/34 [==============================] - 1s 2ms/step - loss: 13343.8662 - mae: 13343.8662\n",
            "Epoch 2/100\n",
            "34/34 [==============================] - 0s 2ms/step - loss: 13335.9131 - mae: 13335.9131\n",
            "Epoch 3/100\n",
            "34/34 [==============================] - 0s 2ms/step - loss: 13316.5225 - mae: 13316.5225\n",
            "Epoch 4/100\n",
            "34/34 [==============================] - 0s 2ms/step - loss: 13275.8779 - mae: 13275.8779\n",
            "Epoch 5/100\n",
            "34/34 [==============================] - 0s 2ms/step - loss: 13202.9961 - mae: 13202.9961\n",
            "Epoch 6/100\n",
            "34/34 [==============================] - 0s 2ms/step - loss: 13086.6680 - mae: 13086.6680\n",
            "Epoch 7/100\n",
            "34/34 [==============================] - 0s 2ms/step - loss: 12916.2500 - mae: 12916.2500\n",
            "Epoch 8/100\n",
            "34/34 [==============================] - 0s 2ms/step - loss: 12681.3545 - mae: 12681.3545\n",
            "Epoch 9/100\n",
            "34/34 [==============================] - 0s 2ms/step - loss: 12371.6348 - mae: 12371.6348\n",
            "Epoch 10/100\n",
            "34/34 [==============================] - 0s 2ms/step - loss: 11981.1689 - mae: 11981.1689\n",
            "Epoch 11/100\n",
            "34/34 [==============================] - 0s 2ms/step - loss: 11517.0234 - mae: 11517.0234\n",
            "Epoch 12/100\n",
            "34/34 [==============================] - 0s 2ms/step - loss: 11011.5635 - mae: 11011.5635\n",
            "Epoch 13/100\n",
            "34/34 [==============================] - 0s 2ms/step - loss: 10510.2627 - mae: 10510.2627\n",
            "Epoch 14/100\n",
            "34/34 [==============================] - 0s 2ms/step - loss: 10011.6543 - mae: 10011.6543\n",
            "Epoch 15/100\n",
            "34/34 [==============================] - 0s 2ms/step - loss: 9538.9961 - mae: 9538.9961\n",
            "Epoch 16/100\n",
            "34/34 [==============================] - 0s 3ms/step - loss: 9117.1123 - mae: 9117.1123\n",
            "Epoch 17/100\n",
            "34/34 [==============================] - 0s 2ms/step - loss: 8763.0264 - mae: 8763.0264\n",
            "Epoch 18/100\n",
            "34/34 [==============================] - 0s 3ms/step - loss: 8478.4424 - mae: 8478.4424\n",
            "Epoch 19/100\n",
            "34/34 [==============================] - 0s 2ms/step - loss: 8256.6328 - mae: 8256.6328\n",
            "Epoch 20/100\n",
            "34/34 [==============================] - 0s 2ms/step - loss: 8105.2954 - mae: 8105.2954\n",
            "Epoch 21/100\n",
            "34/34 [==============================] - 0s 2ms/step - loss: 7993.0596 - mae: 7993.0596\n",
            "Epoch 22/100\n",
            "34/34 [==============================] - 0s 2ms/step - loss: 7916.6289 - mae: 7916.6289\n",
            "Epoch 23/100\n",
            "34/34 [==============================] - 0s 2ms/step - loss: 7856.7524 - mae: 7856.7524\n",
            "Epoch 24/100\n",
            "34/34 [==============================] - 0s 2ms/step - loss: 7804.1123 - mae: 7804.1123\n",
            "Epoch 25/100\n",
            "34/34 [==============================] - 0s 2ms/step - loss: 7765.6797 - mae: 7765.6797\n",
            "Epoch 26/100\n",
            "34/34 [==============================] - 0s 2ms/step - loss: 7714.5371 - mae: 7714.5371\n",
            "Epoch 27/100\n",
            "34/34 [==============================] - 0s 2ms/step - loss: 7672.7861 - mae: 7672.7861\n",
            "Epoch 28/100\n",
            "34/34 [==============================] - 0s 3ms/step - loss: 7630.7788 - mae: 7630.7788\n",
            "Epoch 29/100\n",
            "34/34 [==============================] - 0s 2ms/step - loss: 7588.5728 - mae: 7588.5728\n",
            "Epoch 30/100\n",
            "34/34 [==============================] - 0s 2ms/step - loss: 7545.7881 - mae: 7545.7881\n",
            "Epoch 31/100\n",
            "34/34 [==============================] - 0s 2ms/step - loss: 7502.5552 - mae: 7502.5552\n",
            "Epoch 32/100\n",
            "34/34 [==============================] - 0s 2ms/step - loss: 7459.0596 - mae: 7459.0596\n",
            "Epoch 33/100\n",
            "34/34 [==============================] - 0s 2ms/step - loss: 7415.3726 - mae: 7415.3726\n",
            "Epoch 34/100\n",
            "34/34 [==============================] - 0s 2ms/step - loss: 7367.9326 - mae: 7367.9326\n",
            "Epoch 35/100\n",
            "34/34 [==============================] - 0s 2ms/step - loss: 7321.9160 - mae: 7321.9160\n",
            "Epoch 36/100\n",
            "34/34 [==============================] - 0s 2ms/step - loss: 7272.6338 - mae: 7272.6338\n",
            "Epoch 37/100\n",
            "34/34 [==============================] - 0s 2ms/step - loss: 7223.1470 - mae: 7223.1470\n",
            "Epoch 38/100\n",
            "34/34 [==============================] - 0s 2ms/step - loss: 7173.1235 - mae: 7173.1235\n",
            "Epoch 39/100\n",
            "34/34 [==============================] - 0s 2ms/step - loss: 7119.2998 - mae: 7119.2998\n",
            "Epoch 40/100\n",
            "34/34 [==============================] - 0s 3ms/step - loss: 7064.9761 - mae: 7064.9761\n",
            "Epoch 41/100\n",
            "34/34 [==============================] - 0s 3ms/step - loss: 7009.7422 - mae: 7009.7422\n",
            "Epoch 42/100\n",
            "34/34 [==============================] - 0s 2ms/step - loss: 6952.2041 - mae: 6952.2041\n",
            "Epoch 43/100\n",
            "34/34 [==============================] - 0s 2ms/step - loss: 6890.9028 - mae: 6890.9028\n",
            "Epoch 44/100\n",
            "34/34 [==============================] - 0s 2ms/step - loss: 6826.1704 - mae: 6826.1704\n",
            "Epoch 45/100\n",
            "34/34 [==============================] - 0s 2ms/step - loss: 6760.6719 - mae: 6760.6719\n",
            "Epoch 46/100\n",
            "34/34 [==============================] - 0s 2ms/step - loss: 6693.3643 - mae: 6693.3643\n",
            "Epoch 47/100\n",
            "34/34 [==============================] - 0s 2ms/step - loss: 6623.8657 - mae: 6623.8657\n",
            "Epoch 48/100\n",
            "34/34 [==============================] - 0s 2ms/step - loss: 6547.2969 - mae: 6547.2969\n",
            "Epoch 49/100\n",
            "34/34 [==============================] - 0s 2ms/step - loss: 6470.1899 - mae: 6470.1899\n",
            "Epoch 50/100\n",
            "34/34 [==============================] - 0s 2ms/step - loss: 6386.5483 - mae: 6386.5483\n",
            "Epoch 51/100\n",
            "34/34 [==============================] - 0s 2ms/step - loss: 6304.7939 - mae: 6304.7939\n",
            "Epoch 52/100\n",
            "34/34 [==============================] - 0s 2ms/step - loss: 6213.3779 - mae: 6213.3779\n",
            "Epoch 53/100\n",
            "34/34 [==============================] - 0s 2ms/step - loss: 6120.1426 - mae: 6120.1426\n",
            "Epoch 54/100\n",
            "34/34 [==============================] - 0s 2ms/step - loss: 6024.1919 - mae: 6024.1919\n",
            "Epoch 55/100\n",
            "34/34 [==============================] - 0s 2ms/step - loss: 5919.3667 - mae: 5919.3667\n",
            "Epoch 56/100\n",
            "34/34 [==============================] - 0s 2ms/step - loss: 5814.0166 - mae: 5814.0166\n",
            "Epoch 57/100\n",
            "34/34 [==============================] - 0s 2ms/step - loss: 5701.1309 - mae: 5701.1309\n",
            "Epoch 58/100\n",
            "34/34 [==============================] - 0s 2ms/step - loss: 5583.7466 - mae: 5583.7466\n",
            "Epoch 59/100\n",
            "34/34 [==============================] - 0s 2ms/step - loss: 5468.0049 - mae: 5468.0049\n",
            "Epoch 60/100\n",
            "34/34 [==============================] - 0s 2ms/step - loss: 5347.8267 - mae: 5347.8267\n",
            "Epoch 61/100\n",
            "34/34 [==============================] - 0s 3ms/step - loss: 5221.2749 - mae: 5221.2749\n",
            "Epoch 62/100\n",
            "34/34 [==============================] - 0s 2ms/step - loss: 5094.4316 - mae: 5094.4316\n",
            "Epoch 63/100\n",
            "34/34 [==============================] - 0s 3ms/step - loss: 4966.2515 - mae: 4966.2515\n",
            "Epoch 64/100\n",
            "34/34 [==============================] - 0s 2ms/step - loss: 4834.3687 - mae: 4834.3687\n",
            "Epoch 65/100\n",
            "34/34 [==============================] - 0s 2ms/step - loss: 4705.7817 - mae: 4705.7817\n",
            "Epoch 66/100\n",
            "34/34 [==============================] - 0s 2ms/step - loss: 4575.1685 - mae: 4575.1685\n",
            "Epoch 67/100\n",
            "34/34 [==============================] - 0s 2ms/step - loss: 4459.1792 - mae: 4459.1792\n",
            "Epoch 68/100\n",
            "34/34 [==============================] - 0s 2ms/step - loss: 4348.6494 - mae: 4348.6494\n",
            "Epoch 69/100\n",
            "34/34 [==============================] - 0s 3ms/step - loss: 4244.2285 - mae: 4244.2285\n",
            "Epoch 70/100\n",
            "34/34 [==============================] - 0s 2ms/step - loss: 4147.4902 - mae: 4147.4902\n",
            "Epoch 71/100\n",
            "34/34 [==============================] - 0s 2ms/step - loss: 4056.9131 - mae: 4056.9131\n",
            "Epoch 72/100\n",
            "34/34 [==============================] - 0s 2ms/step - loss: 3975.8943 - mae: 3975.8943\n",
            "Epoch 73/100\n",
            "34/34 [==============================] - 0s 2ms/step - loss: 3905.4653 - mae: 3905.4653\n",
            "Epoch 74/100\n",
            "34/34 [==============================] - 0s 2ms/step - loss: 3848.1113 - mae: 3848.1113\n",
            "Epoch 75/100\n",
            "34/34 [==============================] - 0s 2ms/step - loss: 3801.3845 - mae: 3801.3845\n",
            "Epoch 76/100\n",
            "34/34 [==============================] - 0s 2ms/step - loss: 3764.6313 - mae: 3764.6313\n",
            "Epoch 77/100\n",
            "34/34 [==============================] - 0s 2ms/step - loss: 3736.2747 - mae: 3736.2747\n",
            "Epoch 78/100\n",
            "34/34 [==============================] - 0s 2ms/step - loss: 3716.1072 - mae: 3716.1072\n",
            "Epoch 79/100\n",
            "34/34 [==============================] - 0s 2ms/step - loss: 3700.6104 - mae: 3700.6104\n",
            "Epoch 80/100\n",
            "34/34 [==============================] - 0s 2ms/step - loss: 3690.0815 - mae: 3690.0815\n",
            "Epoch 81/100\n",
            "34/34 [==============================] - 0s 3ms/step - loss: 3682.3396 - mae: 3682.3396\n",
            "Epoch 82/100\n",
            "34/34 [==============================] - 0s 2ms/step - loss: 3678.0349 - mae: 3678.0349\n",
            "Epoch 83/100\n",
            "34/34 [==============================] - 0s 2ms/step - loss: 3670.8911 - mae: 3670.8911\n",
            "Epoch 84/100\n",
            "34/34 [==============================] - 0s 2ms/step - loss: 3667.4055 - mae: 3667.4055\n",
            "Epoch 85/100\n",
            "34/34 [==============================] - 0s 2ms/step - loss: 3664.7581 - mae: 3664.7581\n",
            "Epoch 86/100\n",
            "34/34 [==============================] - 0s 2ms/step - loss: 3662.4722 - mae: 3662.4722\n",
            "Epoch 87/100\n",
            "34/34 [==============================] - 0s 2ms/step - loss: 3659.4995 - mae: 3659.4995\n",
            "Epoch 88/100\n",
            "34/34 [==============================] - 0s 3ms/step - loss: 3656.9448 - mae: 3656.9448\n",
            "Epoch 89/100\n",
            "34/34 [==============================] - 0s 4ms/step - loss: 3655.0942 - mae: 3655.0942\n",
            "Epoch 90/100\n",
            "34/34 [==============================] - 0s 3ms/step - loss: 3653.6252 - mae: 3653.6252\n",
            "Epoch 91/100\n",
            "34/34 [==============================] - 0s 4ms/step - loss: 3650.6492 - mae: 3650.6492\n",
            "Epoch 92/100\n",
            "34/34 [==============================] - 0s 4ms/step - loss: 3649.8967 - mae: 3649.8967\n",
            "Epoch 93/100\n",
            "34/34 [==============================] - 0s 4ms/step - loss: 3647.6294 - mae: 3647.6294\n",
            "Epoch 94/100\n",
            "34/34 [==============================] - 0s 3ms/step - loss: 3645.9883 - mae: 3645.9883\n",
            "Epoch 95/100\n",
            "34/34 [==============================] - 0s 4ms/step - loss: 3647.0547 - mae: 3647.0547\n",
            "Epoch 96/100\n",
            "34/34 [==============================] - 0s 4ms/step - loss: 3643.9343 - mae: 3643.9343\n",
            "Epoch 97/100\n",
            "34/34 [==============================] - 0s 4ms/step - loss: 3641.4600 - mae: 3641.4600\n",
            "Epoch 98/100\n",
            "34/34 [==============================] - 0s 3ms/step - loss: 3639.3694 - mae: 3639.3694\n",
            "Epoch 99/100\n",
            "34/34 [==============================] - 0s 3ms/step - loss: 3638.9819 - mae: 3638.9819\n",
            "Epoch 100/100\n",
            "34/34 [==============================] - 0s 3ms/step - loss: 3637.1458 - mae: 3637.1458\n"
          ]
        },
        {
          "output_type": "execute_result",
          "data": {
            "text/plain": [
              "<keras.callbacks.History at 0x7ff68547d310>"
            ]
          },
          "metadata": {},
          "execution_count": 91
        }
      ]
    },
    {
      "cell_type": "code",
      "source": [
        "insurance_model_4.evaluate(X_test_normal,y_test)"
      ],
      "metadata": {
        "colab": {
          "base_uri": "https://localhost:8080/"
        },
        "id": "FL1FUsCy9cgZ",
        "outputId": "43928b44-3cc5-4414-f0dc-3d3147c63293"
      },
      "execution_count": 92,
      "outputs": [
        {
          "output_type": "stream",
          "name": "stdout",
          "text": [
            "9/9 [==============================] - 0s 3ms/step - loss: 3442.1157 - mae: 3442.1157\n"
          ]
        },
        {
          "output_type": "execute_result",
          "data": {
            "text/plain": [
              "[3442.11572265625, 3442.11572265625]"
            ]
          },
          "metadata": {},
          "execution_count": 92
        }
      ]
    },
    {
      "cell_type": "markdown",
      "source": [
        "From this we can see normalizing the data results in 10% less error using the same model than not normalizing the data.\n",
        "\n",
        "This is **one of the main benefits of normalization: faster convergence time** (a fancy way of saying, your model gets to better results faster)."
      ],
      "metadata": {
        "id": "c4dLF_vHwDpr"
      }
    }
  ]
}